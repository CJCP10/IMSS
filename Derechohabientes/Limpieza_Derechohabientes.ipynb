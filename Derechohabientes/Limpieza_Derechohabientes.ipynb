{
 "cells": [
  {
   "cell_type": "code",
   "execution_count": 2,
   "id": "de8f5bc3",
   "metadata": {},
   "outputs": [],
   "source": [
    "import pandas as pd\n",
    "import numpy as np\n",
    "# Esta biblioteca sirve para poder eliminar los acentos\n",
    "from unidecode import unidecode"
   ]
  },
  {
   "cell_type": "code",
   "execution_count": 59,
   "id": "85c31aee",
   "metadata": {},
   "outputs": [],
   "source": [
    "claves = {\"2011\": \"-11-30\", \"2012\":\"-09-30\", \"2013\":\"-07-31\",\"2014\":\"-10-31\",\"2015\":\"-11-30\",\"2016\":\"-11-30\",\"2017\":\"-11-30\",\"2018\":\"-11-30\",\"2019\":\"-11-30\",\"2022\":\"-11-30\"}\n",
    "años = [\"2012\"]"
   ]
  },
  {
   "cell_type": "code",
   "execution_count": 65,
   "id": "a2601016",
   "metadata": {},
   "outputs": [
    {
     "data": {
      "text/plain": [
       "'11'"
      ]
     },
     "execution_count": 65,
     "metadata": {},
     "output_type": "execute_result"
    }
   ],
   "source": [
    "claves[\"2011\"][1:3]"
   ]
  },
  {
   "cell_type": "code",
   "execution_count": 57,
   "id": "ee1d2363",
   "metadata": {},
   "outputs": [],
   "source": [
    "# Leemos el archivo de Derechohabientes que queremos\n",
    "for i in años:\n",
    "    codificacion = 'windows-1252'   #'utf-8'\n",
    "    archivo = \"pda-\" + i + claves[i] +\".csv\"\n",
    "    Derechohabientes = pd.read_csv(\"C:/Users/ccamacho/OneDrive - SESNA/DIA/Proyectos Especiales/IMSS/Derechohabientes/Bases_pda/\"+archivo, encoding = codificacion)\n"
   ]
  },
  {
   "cell_type": "code",
   "execution_count": 58,
   "id": "bbd376cc",
   "metadata": {},
   "outputs": [
    {
     "data": {
      "text/html": [
       "<div>\n",
       "<style scoped>\n",
       "    .dataframe tbody tr th:only-of-type {\n",
       "        vertical-align: middle;\n",
       "    }\n",
       "\n",
       "    .dataframe tbody tr th {\n",
       "        vertical-align: top;\n",
       "    }\n",
       "\n",
       "    .dataframe thead th {\n",
       "        text-align: right;\n",
       "    }\n",
       "</style>\n",
       "<table border=\"1\" class=\"dataframe\">\n",
       "  <thead>\n",
       "    <tr style=\"text-align: right;\">\n",
       "      <th></th>\n",
       "      <th>ID_DELEG_RP|ID_SUBDEL_RP|ID_UMF_RP|NOMBRE_UMF_RP|ST_TIT_FAM|ID_CALIDAD|CVE_GENERO|CVE_RANGO_EDAD|ST_CONSULTORIO|ID_TURNO|ID_CONSULTORIO|TOT_CASOS</th>\n",
       "    </tr>\n",
       "  </thead>\n",
       "  <tbody>\n",
       "    <tr>\n",
       "      <th>0</th>\n",
       "      <td>12|2|26|UMF 026|2|13|2 |E10|1|V|17|38</td>\n",
       "    </tr>\n",
       "    <tr>\n",
       "      <th>1</th>\n",
       "      <td>12|2|9|UMF 009|2|2|2 |E14|1|M|22|2</td>\n",
       "    </tr>\n",
       "    <tr>\n",
       "      <th>2</th>\n",
       "      <td>12|2|9|UMF 009|2|6|2 |E16|1|M|18|5</td>\n",
       "    </tr>\n",
       "    <tr>\n",
       "      <th>3</th>\n",
       "      <td>12|2|9|UMF 009|1|1|1 |E17|0|0|9998|125</td>\n",
       "    </tr>\n",
       "    <tr>\n",
       "      <th>4</th>\n",
       "      <td>12|2|9|UMF 009|2|2|2 |E17|1|V|24|23</td>\n",
       "    </tr>\n",
       "  </tbody>\n",
       "</table>\n",
       "</div>"
      ],
      "text/plain": [
       "  ID_DELEG_RP|ID_SUBDEL_RP|ID_UMF_RP|NOMBRE_UMF_RP|ST_TIT_FAM|ID_CALIDAD|CVE_GENERO|CVE_RANGO_EDAD|ST_CONSULTORIO|ID_TURNO|ID_CONSULTORIO|TOT_CASOS\n",
       "0              12|2|26|UMF 026|2|13|2 |E10|1|V|17|38                                                                                               \n",
       "1                 12|2|9|UMF 009|2|2|2 |E14|1|M|22|2                                                                                               \n",
       "2                 12|2|9|UMF 009|2|6|2 |E16|1|M|18|5                                                                                               \n",
       "3             12|2|9|UMF 009|1|1|1 |E17|0|0|9998|125                                                                                               \n",
       "4                12|2|9|UMF 009|2|2|2 |E17|1|V|24|23                                                                                               "
      ]
     },
     "execution_count": 58,
     "metadata": {},
     "output_type": "execute_result"
    }
   ],
   "source": [
    "# Creamos una copia de la tabla que estaba en nuestro archivo\n",
    "DH = Derechohabientes.copy()\n",
    "DH.head()"
   ]
  },
  {
   "cell_type": "code",
   "execution_count": 53,
   "id": "a9a672a8",
   "metadata": {},
   "outputs": [],
   "source": [
    "# ocuparemos esta variable mas adelante\n",
    "encabezados = DH.columns.tolist() # extraemos el nombre de la coolumna y lo transformamos a una lista para trabajar con ellos\n",
    "encabezados = ''.join(encabezados) #Este comando lo utilizamos para transformar la lista de encabezados en una cadena\n",
    "names = pd.DataFrame({\"name\" : [encabezados]}) # Hacemos un DataFrame con los encabezados\n",
    "names = names['name'].str.split(pat='|',expand=True) # Separamos los encabezados ya que estaban todos en una misma columna\n",
    "names = names.iloc[0] # guardamos los encabezados en la misma variable \"names\" ya separados"
   ]
  },
  {
   "cell_type": "code",
   "execution_count": 54,
   "id": "abc11723",
   "metadata": {},
   "outputs": [],
   "source": [
    "# Dividimos toda nuestra base por el separados\n",
    "if i==\"2011\" or i==\"2012\" or i==\"2013\" or i==\"2014\" or i == \"2015\" or i == \"2016\":\n",
    "    DH = DH['ID_DELEG_RP|ID_SUBDEL_RP|ID_UMF_RP|NOMBRE_UMF_RP|ST_TIT_FAM|ID_CALIDAD|CVE_GENERO|CVE_RANGO_EDAD|ST_CONSULTORIO|ID_TURNO|ID_CONSULTORIO|TOT_CASOS'].str.split(pat='|',expand=True)\n",
    "else:\n",
    "    DH = DH['ID_DELEG_RP|ID_SUBDEL_RP|ID_UMF_RP|NOMBRE_UMF_RP|ST_TIT_FAM|ID_CALIDAD|CVE_SEXO|CVE_RANGO_EDAD|ST_CONSULTORIO|ID_TURNO|ID_CONSULTORIO|TOT_CASOS'].str.split(pat='|',expand=True)"
   ]
  },
  {
   "cell_type": "code",
   "execution_count": 55,
   "id": "d0a1de1a",
   "metadata": {},
   "outputs": [
    {
     "data": {
      "text/html": [
       "<div>\n",
       "<style scoped>\n",
       "    .dataframe tbody tr th:only-of-type {\n",
       "        vertical-align: middle;\n",
       "    }\n",
       "\n",
       "    .dataframe tbody tr th {\n",
       "        vertical-align: top;\n",
       "    }\n",
       "\n",
       "    .dataframe thead th {\n",
       "        text-align: right;\n",
       "    }\n",
       "</style>\n",
       "<table border=\"1\" class=\"dataframe\">\n",
       "  <thead>\n",
       "    <tr style=\"text-align: right;\">\n",
       "      <th></th>\n",
       "      <th>ID_DELEG_RP</th>\n",
       "      <th>ID_SUBDEL_RP</th>\n",
       "      <th>ID_UMF_RP</th>\n",
       "      <th>NOMBRE_UMF_RP</th>\n",
       "      <th>ST_TIT_FAM</th>\n",
       "      <th>ID_CALIDAD</th>\n",
       "      <th>CVE_GENERO</th>\n",
       "      <th>CVE_RANGO_EDAD</th>\n",
       "      <th>ST_CONSULTORIO</th>\n",
       "      <th>ID_TURNO</th>\n",
       "      <th>ID_CONSULTORIO</th>\n",
       "      <th>TOT_CASOS</th>\n",
       "    </tr>\n",
       "  </thead>\n",
       "  <tbody>\n",
       "    <tr>\n",
       "      <th>0</th>\n",
       "      <td>31</td>\n",
       "      <td>7</td>\n",
       "      <td>73</td>\n",
       "      <td>UMF 073</td>\n",
       "      <td>2</td>\n",
       "      <td>14</td>\n",
       "      <td>2</td>\n",
       "      <td>E10</td>\n",
       "      <td>1</td>\n",
       "      <td>M</td>\n",
       "      <td>19</td>\n",
       "      <td>53</td>\n",
       "    </tr>\n",
       "    <tr>\n",
       "      <th>1</th>\n",
       "      <td>29</td>\n",
       "      <td>1</td>\n",
       "      <td>67</td>\n",
       "      <td>UMF 067</td>\n",
       "      <td>2</td>\n",
       "      <td>2</td>\n",
       "      <td>2</td>\n",
       "      <td>E19</td>\n",
       "      <td>1</td>\n",
       "      <td>M</td>\n",
       "      <td>15</td>\n",
       "      <td>147</td>\n",
       "    </tr>\n",
       "    <tr>\n",
       "      <th>2</th>\n",
       "      <td>29</td>\n",
       "      <td>1</td>\n",
       "      <td>67</td>\n",
       "      <td>UMF 067</td>\n",
       "      <td>2</td>\n",
       "      <td>2</td>\n",
       "      <td>1</td>\n",
       "      <td>E19</td>\n",
       "      <td>1</td>\n",
       "      <td>M</td>\n",
       "      <td>15</td>\n",
       "      <td>42</td>\n",
       "    </tr>\n",
       "    <tr>\n",
       "      <th>3</th>\n",
       "      <td>16</td>\n",
       "      <td>1</td>\n",
       "      <td>249</td>\n",
       "      <td>UMF 249</td>\n",
       "      <td>2</td>\n",
       "      <td>13</td>\n",
       "      <td>1</td>\n",
       "      <td>E9</td>\n",
       "      <td>1</td>\n",
       "      <td>M</td>\n",
       "      <td>5</td>\n",
       "      <td>18</td>\n",
       "    </tr>\n",
       "    <tr>\n",
       "      <th>4</th>\n",
       "      <td>17</td>\n",
       "      <td>13</td>\n",
       "      <td>82</td>\n",
       "      <td>UMF 082</td>\n",
       "      <td>2</td>\n",
       "      <td>14</td>\n",
       "      <td>1</td>\n",
       "      <td>E10</td>\n",
       "      <td>1</td>\n",
       "      <td>V</td>\n",
       "      <td>2</td>\n",
       "      <td>58</td>\n",
       "    </tr>\n",
       "  </tbody>\n",
       "</table>\n",
       "</div>"
      ],
      "text/plain": [
       "0 ID_DELEG_RP ID_SUBDEL_RP ID_UMF_RP NOMBRE_UMF_RP ST_TIT_FAM ID_CALIDAD  \\\n",
       "0          31            7        73       UMF 073          2         14   \n",
       "1          29            1        67       UMF 067          2          2   \n",
       "2          29            1        67       UMF 067          2          2   \n",
       "3          16            1       249       UMF 249          2         13   \n",
       "4          17           13        82       UMF 082          2         14   \n",
       "\n",
       "0 CVE_GENERO CVE_RANGO_EDAD ST_CONSULTORIO ID_TURNO ID_CONSULTORIO TOT_CASOS  \n",
       "0         2             E10              1        M             19        53  \n",
       "1         2             E19              1        M             15       147  \n",
       "2         1             E19              1        M             15        42  \n",
       "3         1              E9              1        M              5        18  \n",
       "4         1             E10              1        V              2        58  "
      ]
     },
     "execution_count": 55,
     "metadata": {},
     "output_type": "execute_result"
    }
   ],
   "source": [
    "# ahgregamos los encabezados con la variable antes creada \n",
    "DH.columns = names\n",
    "# observamos los primeros 5 registros para verificar que los encabezados sean correctos\n",
    "DH.head()"
   ]
  },
  {
   "cell_type": "code",
   "execution_count": 265,
   "id": "a3815b6c",
   "metadata": {},
   "outputs": [
    {
     "data": {
      "text/plain": [
       "(3256584, 12)"
      ]
     },
     "execution_count": 265,
     "metadata": {},
     "output_type": "execute_result"
    }
   ],
   "source": [
    "# Observamos la dimensión del DF\n",
    "DH.shape"
   ]
  },
  {
   "cell_type": "code",
   "execution_count": 266,
   "id": "657a5018",
   "metadata": {},
   "outputs": [
    {
     "data": {
      "text/html": [
       "<div>\n",
       "<style scoped>\n",
       "    .dataframe tbody tr th:only-of-type {\n",
       "        vertical-align: middle;\n",
       "    }\n",
       "\n",
       "    .dataframe tbody tr th {\n",
       "        vertical-align: top;\n",
       "    }\n",
       "\n",
       "    .dataframe thead th {\n",
       "        text-align: right;\n",
       "    }\n",
       "</style>\n",
       "<table border=\"1\" class=\"dataframe\">\n",
       "  <thead>\n",
       "    <tr style=\"text-align: right;\">\n",
       "      <th></th>\n",
       "      <th>ID_DELEG_RP</th>\n",
       "      <th>ID_SUBDEL_RP</th>\n",
       "      <th>ID_UMF_RP</th>\n",
       "      <th>NOMBRE_UMF_RP</th>\n",
       "      <th>ST_TIT_FAM</th>\n",
       "      <th>ID_CALIDAD</th>\n",
       "      <th>CVE_SEXO</th>\n",
       "      <th>CVE_RANGO_EDAD</th>\n",
       "      <th>TOT_CASOS</th>\n",
       "    </tr>\n",
       "  </thead>\n",
       "  <tbody>\n",
       "    <tr>\n",
       "      <th>0</th>\n",
       "      <td>1</td>\n",
       "      <td>1</td>\n",
       "      <td>2</td>\n",
       "      <td>UMF 002</td>\n",
       "      <td>1</td>\n",
       "      <td>1</td>\n",
       "      <td>1</td>\n",
       "      <td>E10</td>\n",
       "      <td>2</td>\n",
       "    </tr>\n",
       "    <tr>\n",
       "      <th>1</th>\n",
       "      <td>1</td>\n",
       "      <td>1</td>\n",
       "      <td>2</td>\n",
       "      <td>UMF 002</td>\n",
       "      <td>1</td>\n",
       "      <td>1</td>\n",
       "      <td>1</td>\n",
       "      <td>E10</td>\n",
       "      <td>1</td>\n",
       "    </tr>\n",
       "    <tr>\n",
       "      <th>2</th>\n",
       "      <td>1</td>\n",
       "      <td>1</td>\n",
       "      <td>2</td>\n",
       "      <td>UMF 002</td>\n",
       "      <td>1</td>\n",
       "      <td>1</td>\n",
       "      <td>1</td>\n",
       "      <td>E10</td>\n",
       "      <td>2</td>\n",
       "    </tr>\n",
       "    <tr>\n",
       "      <th>3</th>\n",
       "      <td>1</td>\n",
       "      <td>1</td>\n",
       "      <td>2</td>\n",
       "      <td>UMF 002</td>\n",
       "      <td>1</td>\n",
       "      <td>1</td>\n",
       "      <td>1</td>\n",
       "      <td>E10</td>\n",
       "      <td>4</td>\n",
       "    </tr>\n",
       "    <tr>\n",
       "      <th>4</th>\n",
       "      <td>1</td>\n",
       "      <td>1</td>\n",
       "      <td>2</td>\n",
       "      <td>UMF 002</td>\n",
       "      <td>1</td>\n",
       "      <td>1</td>\n",
       "      <td>1</td>\n",
       "      <td>E10</td>\n",
       "      <td>1</td>\n",
       "    </tr>\n",
       "  </tbody>\n",
       "</table>\n",
       "</div>"
      ],
      "text/plain": [
       "0 ID_DELEG_RP ID_SUBDEL_RP ID_UMF_RP NOMBRE_UMF_RP ST_TIT_FAM ID_CALIDAD  \\\n",
       "0           1            1         2       UMF 002          1          1   \n",
       "1           1            1         2       UMF 002          1          1   \n",
       "2           1            1         2       UMF 002          1          1   \n",
       "3           1            1         2       UMF 002          1          1   \n",
       "4           1            1         2       UMF 002          1          1   \n",
       "\n",
       "0 CVE_SEXO CVE_RANGO_EDAD TOT_CASOS  \n",
       "0        1            E10         2  \n",
       "1        1            E10         1  \n",
       "2        1            E10         2  \n",
       "3        1            E10         4  \n",
       "4        1            E10         1  "
      ]
     },
     "execution_count": 266,
     "metadata": {},
     "output_type": "execute_result"
    }
   ],
   "source": [
    "#Eliminar ST_CONSULTORIO, ID_TURNO, ID_CONSULTORIO\n",
    "DH = DH.drop([\"ST_CONSULTORIO\", \"ID_TURNO\", \"ID_CONSULTORIO\"], axis=1)\n",
    "DH.head()"
   ]
  },
  {
   "cell_type": "code",
   "execution_count": 267,
   "id": "b5c47f98",
   "metadata": {},
   "outputs": [],
   "source": [
    "# Transformamos la columna de TOT_CASOS a enteros\n",
    "DH['TOT_CASOS'] = DH['TOT_CASOS'].astype(int)\n",
    "# Agrupamos para consguir el número total de derechohabientes y reducir las filas.\n",
    "if i==\"2011\" or i==\"2012\" or i==\"2013\" or i==\"2014\" or i == \"2015\" or i == \"2016\":\n",
    "    DH = DH.groupby([\"ID_DELEG_RP\",\"ID_SUBDEL_RP\",\"ID_UMF_RP\",\"NOMBRE_UMF_RP\",\"ST_TIT_FAM\",\"ID_CALIDAD\",\"CVE_GENERO\",\"CVE_RANGO_EDAD\"]).sum().reset_index()\n",
    "    DH.shape\n",
    "else:\n",
    "    DH = DH.groupby([\"ID_DELEG_RP\",\"ID_SUBDEL_RP\",\"ID_UMF_RP\",\"NOMBRE_UMF_RP\",\"ST_TIT_FAM\",\"ID_CALIDAD\",\"CVE_SEXO\",\"CVE_RANGO_EDAD\"]).sum().reset_index()\n",
    "    DH.shape"
   ]
  },
  {
   "cell_type": "code",
   "execution_count": 268,
   "id": "0039b1ea",
   "metadata": {},
   "outputs": [
    {
     "data": {
      "text/plain": [
       "61371766"
      ]
     },
     "execution_count": 268,
     "metadata": {},
     "output_type": "execute_result"
    }
   ],
   "source": [
    "DH['TOT_CASOS'].sum() #Verificamos que la cifra total de derechohabientes sea congruente."
   ]
  },
  {
   "cell_type": "code",
   "execution_count": 269,
   "id": "c79e8611",
   "metadata": {},
   "outputs": [
    {
     "data": {
      "text/html": [
       "<div>\n",
       "<style scoped>\n",
       "    .dataframe tbody tr th:only-of-type {\n",
       "        vertical-align: middle;\n",
       "    }\n",
       "\n",
       "    .dataframe tbody tr th {\n",
       "        vertical-align: top;\n",
       "    }\n",
       "\n",
       "    .dataframe thead th {\n",
       "        text-align: right;\n",
       "    }\n",
       "</style>\n",
       "<table border=\"1\" class=\"dataframe\">\n",
       "  <thead>\n",
       "    <tr style=\"text-align: right;\">\n",
       "      <th></th>\n",
       "      <th>ID_DELEG_RP</th>\n",
       "      <th>ID_SUBDEL_RP</th>\n",
       "      <th>ID_UMF_RP</th>\n",
       "      <th>Clave_dh</th>\n",
       "      <th>NOMBRE_UMF_RP</th>\n",
       "      <th>ST_TIT_FAM</th>\n",
       "      <th>ID_CALIDAD</th>\n",
       "      <th>CVE_SEXO</th>\n",
       "      <th>CVE_RANGO_EDAD</th>\n",
       "      <th>TOT_CASOS</th>\n",
       "    </tr>\n",
       "  </thead>\n",
       "  <tbody>\n",
       "    <tr>\n",
       "      <th>0</th>\n",
       "      <td>1</td>\n",
       "      <td>1</td>\n",
       "      <td>10</td>\n",
       "      <td>1ID_DEL1ID_SUBDEL10ID_UMF</td>\n",
       "      <td>UMF 010</td>\n",
       "      <td>1</td>\n",
       "      <td>1</td>\n",
       "      <td>1</td>\n",
       "      <td>E1</td>\n",
       "      <td>2</td>\n",
       "    </tr>\n",
       "    <tr>\n",
       "      <th>1</th>\n",
       "      <td>1</td>\n",
       "      <td>1</td>\n",
       "      <td>10</td>\n",
       "      <td>1ID_DEL1ID_SUBDEL10ID_UMF</td>\n",
       "      <td>UMF 010</td>\n",
       "      <td>1</td>\n",
       "      <td>1</td>\n",
       "      <td>1</td>\n",
       "      <td>E10</td>\n",
       "      <td>365</td>\n",
       "    </tr>\n",
       "    <tr>\n",
       "      <th>2</th>\n",
       "      <td>1</td>\n",
       "      <td>1</td>\n",
       "      <td>10</td>\n",
       "      <td>1ID_DEL1ID_SUBDEL10ID_UMF</td>\n",
       "      <td>UMF 010</td>\n",
       "      <td>1</td>\n",
       "      <td>1</td>\n",
       "      <td>1</td>\n",
       "      <td>E11</td>\n",
       "      <td>3774</td>\n",
       "    </tr>\n",
       "    <tr>\n",
       "      <th>3</th>\n",
       "      <td>1</td>\n",
       "      <td>1</td>\n",
       "      <td>10</td>\n",
       "      <td>1ID_DEL1ID_SUBDEL10ID_UMF</td>\n",
       "      <td>UMF 010</td>\n",
       "      <td>1</td>\n",
       "      <td>1</td>\n",
       "      <td>1</td>\n",
       "      <td>E12</td>\n",
       "      <td>3309</td>\n",
       "    </tr>\n",
       "    <tr>\n",
       "      <th>4</th>\n",
       "      <td>1</td>\n",
       "      <td>1</td>\n",
       "      <td>10</td>\n",
       "      <td>1ID_DEL1ID_SUBDEL10ID_UMF</td>\n",
       "      <td>UMF 010</td>\n",
       "      <td>1</td>\n",
       "      <td>1</td>\n",
       "      <td>1</td>\n",
       "      <td>E13</td>\n",
       "      <td>3025</td>\n",
       "    </tr>\n",
       "  </tbody>\n",
       "</table>\n",
       "</div>"
      ],
      "text/plain": [
       "0 ID_DELEG_RP ID_SUBDEL_RP ID_UMF_RP                   Clave_dh NOMBRE_UMF_RP  \\\n",
       "0           1            1        10  1ID_DEL1ID_SUBDEL10ID_UMF       UMF 010   \n",
       "1           1            1        10  1ID_DEL1ID_SUBDEL10ID_UMF       UMF 010   \n",
       "2           1            1        10  1ID_DEL1ID_SUBDEL10ID_UMF       UMF 010   \n",
       "3           1            1        10  1ID_DEL1ID_SUBDEL10ID_UMF       UMF 010   \n",
       "4           1            1        10  1ID_DEL1ID_SUBDEL10ID_UMF       UMF 010   \n",
       "\n",
       "0 ST_TIT_FAM ID_CALIDAD CVE_SEXO CVE_RANGO_EDAD  TOT_CASOS  \n",
       "0          1          1        1             E1          2  \n",
       "1          1          1        1            E10        365  \n",
       "2          1          1        1            E11       3774  \n",
       "3          1          1        1            E12       3309  \n",
       "4          1          1        1            E13       3025  "
      ]
     },
     "execution_count": 269,
     "metadata": {},
     "output_type": "execute_result"
    }
   ],
   "source": [
    "# Creamos una columna llamada \"CLAVE\" para identificar la institución\n",
    "DH['Clave_dh'] = DH[\"ID_DELEG_RP\"] + \"ID_DEL\" + DH[\"ID_SUBDEL_RP\"] + \"ID_SUBDEL\" + DH[\"ID_UMF_RP\"] + \"ID_UMF\"\n",
    "#Vamos a mover la columna que acabamos de crear a una posición más adecuada\n",
    "clave = DH.pop('Clave_dh')\n",
    "DH.insert(3,'Clave_dh',clave) \n",
    "DH.head()"
   ]
  },
  {
   "cell_type": "code",
   "execution_count": 270,
   "id": "c1288832",
   "metadata": {},
   "outputs": [
    {
     "data": {
      "text/plain": [
       "1278"
      ]
     },
     "execution_count": 270,
     "metadata": {},
     "output_type": "execute_result"
    }
   ],
   "source": [
    "#Con este linea podemos saber la cantidad que hay para la columna \"CLAVE\"\n",
    "len(DH['Clave_dh'].unique())"
   ]
  },
  {
   "cell_type": "code",
   "execution_count": 14,
   "id": "4e9cf1d1",
   "metadata": {},
   "outputs": [],
   "source": [
    "# Ahora vamos a leer el archivo, donde esta el catálogo de cada una de las instituciones\n",
    "catalogo = pd.read_excel(\"catalogo_UMF.xlsx\", sheet_name=\"Catálogo\")"
   ]
  },
  {
   "cell_type": "code",
   "execution_count": 271,
   "id": "2a7c8a9e",
   "metadata": {},
   "outputs": [
    {
     "data": {
      "text/html": [
       "<div>\n",
       "<style scoped>\n",
       "    .dataframe tbody tr th:only-of-type {\n",
       "        vertical-align: middle;\n",
       "    }\n",
       "\n",
       "    .dataframe tbody tr th {\n",
       "        vertical-align: top;\n",
       "    }\n",
       "\n",
       "    .dataframe thead th {\n",
       "        text-align: right;\n",
       "    }\n",
       "</style>\n",
       "<table border=\"1\" class=\"dataframe\">\n",
       "  <thead>\n",
       "    <tr style=\"text-align: right;\">\n",
       "      <th></th>\n",
       "      <th>ID_DELEG_RP</th>\n",
       "      <th>ID_SUBDEL_RP</th>\n",
       "      <th>ID_UMF_RP</th>\n",
       "      <th>DELEGACIÓN</th>\n",
       "      <th>SUBDELEGACIÓN</th>\n",
       "      <th>UNIDAD</th>\n",
       "      <th>ID_ENT</th>\n",
       "      <th>ID_MUN</th>\n",
       "      <th>ENTIDAD</th>\n",
       "      <th>MUNICIPIO</th>\n",
       "      <th>ID_LOCAL</th>\n",
       "      <th>LOCALIDAD</th>\n",
       "    </tr>\n",
       "  </thead>\n",
       "  <tbody>\n",
       "    <tr>\n",
       "      <th>0</th>\n",
       "      <td>1</td>\n",
       "      <td>1.0</td>\n",
       "      <td>2.0</td>\n",
       "      <td>Aguascalientes</td>\n",
       "      <td>Aguascalientes Norte</td>\n",
       "      <td>UMF 2 Rincón de Romos</td>\n",
       "      <td>1.0</td>\n",
       "      <td>7.0</td>\n",
       "      <td>Aguascalientes</td>\n",
       "      <td>Rincón de Romos</td>\n",
       "      <td>1.0</td>\n",
       "      <td>Rincón de Romos</td>\n",
       "    </tr>\n",
       "    <tr>\n",
       "      <th>1</th>\n",
       "      <td>1</td>\n",
       "      <td>1.0</td>\n",
       "      <td>3.0</td>\n",
       "      <td>Aguascalientes</td>\n",
       "      <td>Aguascalientes Norte</td>\n",
       "      <td>UMF 3 Pabellón Arteaga</td>\n",
       "      <td>1.0</td>\n",
       "      <td>6.0</td>\n",
       "      <td>Aguascalientes</td>\n",
       "      <td>Pabellón de Arteaga</td>\n",
       "      <td>1.0</td>\n",
       "      <td>Pabellón de Arteaga</td>\n",
       "    </tr>\n",
       "  </tbody>\n",
       "</table>\n",
       "</div>"
      ],
      "text/plain": [
       "  ID_DELEG_RP  ID_SUBDEL_RP  ID_UMF_RP      DELEGACIÓN         SUBDELEGACIÓN  \\\n",
       "0           1           1.0        2.0  Aguascalientes  Aguascalientes Norte   \n",
       "1           1           1.0        3.0  Aguascalientes  Aguascalientes Norte   \n",
       "\n",
       "                   UNIDAD  ID_ENT  ID_MUN         ENTIDAD  \\\n",
       "0   UMF 2 Rincón de Romos     1.0     7.0  Aguascalientes   \n",
       "1  UMF 3 Pabellón Arteaga     1.0     6.0  Aguascalientes   \n",
       "\n",
       "             MUNICIPIO  ID_LOCAL            LOCALIDAD  \n",
       "0      Rincón de Romos       1.0      Rincón de Romos  \n",
       "1  Pabellón de Arteaga       1.0  Pabellón de Arteaga  "
      ]
     },
     "execution_count": 271,
     "metadata": {},
     "output_type": "execute_result"
    }
   ],
   "source": [
    "# Creamos una copia con la variables siguiente\n",
    "cat = catalogo.copy()\n",
    "cat.head(2)"
   ]
  },
  {
   "cell_type": "code",
   "execution_count": 272,
   "id": "c15b0d10",
   "metadata": {},
   "outputs": [
    {
     "data": {
      "text/html": [
       "<div>\n",
       "<style scoped>\n",
       "    .dataframe tbody tr th:only-of-type {\n",
       "        vertical-align: middle;\n",
       "    }\n",
       "\n",
       "    .dataframe tbody tr th {\n",
       "        vertical-align: top;\n",
       "    }\n",
       "\n",
       "    .dataframe thead th {\n",
       "        text-align: right;\n",
       "    }\n",
       "</style>\n",
       "<table border=\"1\" class=\"dataframe\">\n",
       "  <thead>\n",
       "    <tr style=\"text-align: right;\">\n",
       "      <th></th>\n",
       "      <th>ID_DELEG_RP</th>\n",
       "      <th>ID_SUBDEL_RP</th>\n",
       "      <th>ID_UMF_RP</th>\n",
       "      <th>DELEGACIÓN</th>\n",
       "      <th>SUBDELEGACIÓN</th>\n",
       "      <th>UNIDAD</th>\n",
       "      <th>ID_ENT</th>\n",
       "      <th>ID_MUN</th>\n",
       "      <th>ENTIDAD</th>\n",
       "      <th>MUNICIPIO</th>\n",
       "      <th>ID_LOCAL</th>\n",
       "      <th>LOCALIDAD</th>\n",
       "    </tr>\n",
       "  </thead>\n",
       "  <tbody>\n",
       "    <tr>\n",
       "      <th>0</th>\n",
       "      <td>1</td>\n",
       "      <td>1</td>\n",
       "      <td>2</td>\n",
       "      <td>Aguascalientes</td>\n",
       "      <td>Aguascalientes Norte</td>\n",
       "      <td>UMF 2 Rincón de Romos</td>\n",
       "      <td>1.0</td>\n",
       "      <td>7.0</td>\n",
       "      <td>Aguascalientes</td>\n",
       "      <td>Rincón de Romos</td>\n",
       "      <td>1.0</td>\n",
       "      <td>Rincón de Romos</td>\n",
       "    </tr>\n",
       "    <tr>\n",
       "      <th>1</th>\n",
       "      <td>1</td>\n",
       "      <td>1</td>\n",
       "      <td>3</td>\n",
       "      <td>Aguascalientes</td>\n",
       "      <td>Aguascalientes Norte</td>\n",
       "      <td>UMF 3 Pabellón Arteaga</td>\n",
       "      <td>1.0</td>\n",
       "      <td>6.0</td>\n",
       "      <td>Aguascalientes</td>\n",
       "      <td>Pabellón de Arteaga</td>\n",
       "      <td>1.0</td>\n",
       "      <td>Pabellón de Arteaga</td>\n",
       "    </tr>\n",
       "    <tr>\n",
       "      <th>2</th>\n",
       "      <td>1</td>\n",
       "      <td>1</td>\n",
       "      <td>5</td>\n",
       "      <td>Aguascalientes</td>\n",
       "      <td>Aguascalientes Norte</td>\n",
       "      <td>UMF 5 Asientos</td>\n",
       "      <td>1.0</td>\n",
       "      <td>2.0</td>\n",
       "      <td>Aguascalientes</td>\n",
       "      <td>Asientos</td>\n",
       "      <td>1.0</td>\n",
       "      <td>Asientos</td>\n",
       "    </tr>\n",
       "    <tr>\n",
       "      <th>3</th>\n",
       "      <td>1</td>\n",
       "      <td>1</td>\n",
       "      <td>6</td>\n",
       "      <td>Aguascalientes</td>\n",
       "      <td>Aguascalientes Norte</td>\n",
       "      <td>UMF 6 Jesús María</td>\n",
       "      <td>1.0</td>\n",
       "      <td>5.0</td>\n",
       "      <td>Aguascalientes</td>\n",
       "      <td>Jesús María</td>\n",
       "      <td>1.0</td>\n",
       "      <td>Jesús María</td>\n",
       "    </tr>\n",
       "    <tr>\n",
       "      <th>4</th>\n",
       "      <td>1</td>\n",
       "      <td>1</td>\n",
       "      <td>7</td>\n",
       "      <td>Aguascalientes</td>\n",
       "      <td>Aguascalientes Norte</td>\n",
       "      <td>UMF 7 San Marcos</td>\n",
       "      <td>1.0</td>\n",
       "      <td>1.0</td>\n",
       "      <td>Aguascalientes</td>\n",
       "      <td>Aguascalientes</td>\n",
       "      <td>1.0</td>\n",
       "      <td>Aguascalientes</td>\n",
       "    </tr>\n",
       "  </tbody>\n",
       "</table>\n",
       "</div>"
      ],
      "text/plain": [
       "  ID_DELEG_RP ID_SUBDEL_RP ID_UMF_RP      DELEGACIÓN         SUBDELEGACIÓN  \\\n",
       "0           1            1         2  Aguascalientes  Aguascalientes Norte   \n",
       "1           1            1         3  Aguascalientes  Aguascalientes Norte   \n",
       "2           1            1         5  Aguascalientes  Aguascalientes Norte   \n",
       "3           1            1         6  Aguascalientes  Aguascalientes Norte   \n",
       "4           1            1         7  Aguascalientes  Aguascalientes Norte   \n",
       "\n",
       "                   UNIDAD  ID_ENT  ID_MUN         ENTIDAD  \\\n",
       "0   UMF 2 Rincón de Romos     1.0     7.0  Aguascalientes   \n",
       "1  UMF 3 Pabellón Arteaga     1.0     6.0  Aguascalientes   \n",
       "2          UMF 5 Asientos     1.0     2.0  Aguascalientes   \n",
       "3       UMF 6 Jesús María     1.0     5.0  Aguascalientes   \n",
       "4        UMF 7 San Marcos     1.0     1.0  Aguascalientes   \n",
       "\n",
       "             MUNICIPIO  ID_LOCAL            LOCALIDAD  \n",
       "0      Rincón de Romos       1.0      Rincón de Romos  \n",
       "1  Pabellón de Arteaga       1.0  Pabellón de Arteaga  \n",
       "2             Asientos       1.0             Asientos  \n",
       "3          Jesús María       1.0          Jesús María  \n",
       "4       Aguascalientes       1.0       Aguascalientes  "
      ]
     },
     "execution_count": 272,
     "metadata": {},
     "output_type": "execute_result"
    }
   ],
   "source": [
    "# transformamos el tipo de dato de cada columnas para poder trabajarlo\n",
    "cat[\"ID_SUBDEL_RP\"] = cat[\"ID_SUBDEL_RP\"].astype(\"Int64\")\n",
    "cat[\"ID_UMF_RP\"] = cat[\"ID_UMF_RP\"].astype(\"Int64\")\n",
    "\n",
    "# Ahora transformamos todo, a un tipo de dato str\n",
    "cat[\"ID_DELEG_RP\"] = cat[\"ID_DELEG_RP\"].astype(str)\n",
    "cat[\"ID_SUBDEL_RP\"] = cat[\"ID_SUBDEL_RP\"].astype(str)\n",
    "cat[\"ID_UMF_RP\"] = cat[\"ID_UMF_RP\"].astype(str)\n",
    "\n",
    "#Mostramos los primero cinco registros del DF\n",
    "cat.head()"
   ]
  },
  {
   "cell_type": "code",
   "execution_count": 273,
   "id": "83a96eb6",
   "metadata": {},
   "outputs": [
    {
     "data": {
      "text/html": [
       "<div>\n",
       "<style scoped>\n",
       "    .dataframe tbody tr th:only-of-type {\n",
       "        vertical-align: middle;\n",
       "    }\n",
       "\n",
       "    .dataframe tbody tr th {\n",
       "        vertical-align: top;\n",
       "    }\n",
       "\n",
       "    .dataframe thead th {\n",
       "        text-align: right;\n",
       "    }\n",
       "</style>\n",
       "<table border=\"1\" class=\"dataframe\">\n",
       "  <thead>\n",
       "    <tr style=\"text-align: right;\">\n",
       "      <th></th>\n",
       "      <th>ID_DELEG_RP</th>\n",
       "      <th>ID_SUBDEL_RP</th>\n",
       "      <th>ID_UMF_RP</th>\n",
       "      <th>Clave_Cta</th>\n",
       "      <th>DELEGACIÓN</th>\n",
       "      <th>SUBDELEGACIÓN</th>\n",
       "      <th>UNIDAD</th>\n",
       "      <th>ID_ENT</th>\n",
       "      <th>ID_MUN</th>\n",
       "      <th>ENTIDAD</th>\n",
       "      <th>MUNICIPIO</th>\n",
       "      <th>ID_LOCAL</th>\n",
       "      <th>LOCALIDAD</th>\n",
       "    </tr>\n",
       "  </thead>\n",
       "  <tbody>\n",
       "    <tr>\n",
       "      <th>0</th>\n",
       "      <td>1</td>\n",
       "      <td>1</td>\n",
       "      <td>2</td>\n",
       "      <td>1ID_DEL1ID_SUBDEL2ID_UMF</td>\n",
       "      <td>Aguascalientes</td>\n",
       "      <td>Aguascalientes Norte</td>\n",
       "      <td>UMF 2 Rincón de Romos</td>\n",
       "      <td>1.0</td>\n",
       "      <td>7.0</td>\n",
       "      <td>Aguascalientes</td>\n",
       "      <td>Rincón de Romos</td>\n",
       "      <td>1.0</td>\n",
       "      <td>Rincón de Romos</td>\n",
       "    </tr>\n",
       "    <tr>\n",
       "      <th>1</th>\n",
       "      <td>1</td>\n",
       "      <td>1</td>\n",
       "      <td>3</td>\n",
       "      <td>1ID_DEL1ID_SUBDEL3ID_UMF</td>\n",
       "      <td>Aguascalientes</td>\n",
       "      <td>Aguascalientes Norte</td>\n",
       "      <td>UMF 3 Pabellón Arteaga</td>\n",
       "      <td>1.0</td>\n",
       "      <td>6.0</td>\n",
       "      <td>Aguascalientes</td>\n",
       "      <td>Pabellón de Arteaga</td>\n",
       "      <td>1.0</td>\n",
       "      <td>Pabellón de Arteaga</td>\n",
       "    </tr>\n",
       "    <tr>\n",
       "      <th>2</th>\n",
       "      <td>1</td>\n",
       "      <td>1</td>\n",
       "      <td>5</td>\n",
       "      <td>1ID_DEL1ID_SUBDEL5ID_UMF</td>\n",
       "      <td>Aguascalientes</td>\n",
       "      <td>Aguascalientes Norte</td>\n",
       "      <td>UMF 5 Asientos</td>\n",
       "      <td>1.0</td>\n",
       "      <td>2.0</td>\n",
       "      <td>Aguascalientes</td>\n",
       "      <td>Asientos</td>\n",
       "      <td>1.0</td>\n",
       "      <td>Asientos</td>\n",
       "    </tr>\n",
       "    <tr>\n",
       "      <th>3</th>\n",
       "      <td>1</td>\n",
       "      <td>1</td>\n",
       "      <td>6</td>\n",
       "      <td>1ID_DEL1ID_SUBDEL6ID_UMF</td>\n",
       "      <td>Aguascalientes</td>\n",
       "      <td>Aguascalientes Norte</td>\n",
       "      <td>UMF 6 Jesús María</td>\n",
       "      <td>1.0</td>\n",
       "      <td>5.0</td>\n",
       "      <td>Aguascalientes</td>\n",
       "      <td>Jesús María</td>\n",
       "      <td>1.0</td>\n",
       "      <td>Jesús María</td>\n",
       "    </tr>\n",
       "    <tr>\n",
       "      <th>4</th>\n",
       "      <td>1</td>\n",
       "      <td>1</td>\n",
       "      <td>7</td>\n",
       "      <td>1ID_DEL1ID_SUBDEL7ID_UMF</td>\n",
       "      <td>Aguascalientes</td>\n",
       "      <td>Aguascalientes Norte</td>\n",
       "      <td>UMF 7 San Marcos</td>\n",
       "      <td>1.0</td>\n",
       "      <td>1.0</td>\n",
       "      <td>Aguascalientes</td>\n",
       "      <td>Aguascalientes</td>\n",
       "      <td>1.0</td>\n",
       "      <td>Aguascalientes</td>\n",
       "    </tr>\n",
       "  </tbody>\n",
       "</table>\n",
       "</div>"
      ],
      "text/plain": [
       "  ID_DELEG_RP ID_SUBDEL_RP ID_UMF_RP                 Clave_Cta  \\\n",
       "0           1            1         2  1ID_DEL1ID_SUBDEL2ID_UMF   \n",
       "1           1            1         3  1ID_DEL1ID_SUBDEL3ID_UMF   \n",
       "2           1            1         5  1ID_DEL1ID_SUBDEL5ID_UMF   \n",
       "3           1            1         6  1ID_DEL1ID_SUBDEL6ID_UMF   \n",
       "4           1            1         7  1ID_DEL1ID_SUBDEL7ID_UMF   \n",
       "\n",
       "       DELEGACIÓN         SUBDELEGACIÓN                  UNIDAD  ID_ENT  \\\n",
       "0  Aguascalientes  Aguascalientes Norte   UMF 2 Rincón de Romos     1.0   \n",
       "1  Aguascalientes  Aguascalientes Norte  UMF 3 Pabellón Arteaga     1.0   \n",
       "2  Aguascalientes  Aguascalientes Norte          UMF 5 Asientos     1.0   \n",
       "3  Aguascalientes  Aguascalientes Norte       UMF 6 Jesús María     1.0   \n",
       "4  Aguascalientes  Aguascalientes Norte        UMF 7 San Marcos     1.0   \n",
       "\n",
       "   ID_MUN         ENTIDAD            MUNICIPIO  ID_LOCAL            LOCALIDAD  \n",
       "0     7.0  Aguascalientes      Rincón de Romos       1.0      Rincón de Romos  \n",
       "1     6.0  Aguascalientes  Pabellón de Arteaga       1.0  Pabellón de Arteaga  \n",
       "2     2.0  Aguascalientes             Asientos       1.0             Asientos  \n",
       "3     5.0  Aguascalientes          Jesús María       1.0          Jesús María  \n",
       "4     1.0  Aguascalientes       Aguascalientes       1.0       Aguascalientes  "
      ]
     },
     "execution_count": 273,
     "metadata": {},
     "output_type": "execute_result"
    }
   ],
   "source": [
    "# Creamos la clave con la que vamos a conectar la base de derechohabientes DH\n",
    "cat[\"Clave_Cta\"] = cat[\"ID_DELEG_RP\"] + \"ID_DEL\" + cat[\"ID_SUBDEL_RP\"] + \"ID_SUBDEL\" + cat[\"ID_UMF_RP\"] +\"ID_UMF\"\n",
    "#Vamos a mover la columna que acabamos de crear a una posición más adecuada\n",
    "clave_cta = cat.pop('Clave_Cta')\n",
    "cat.insert(3,'Clave_Cta',clave_cta) \n",
    "cat.head()"
   ]
  },
  {
   "cell_type": "code",
   "execution_count": 274,
   "id": "75489218",
   "metadata": {},
   "outputs": [
    {
     "data": {
      "text/html": [
       "<div>\n",
       "<style scoped>\n",
       "    .dataframe tbody tr th:only-of-type {\n",
       "        vertical-align: middle;\n",
       "    }\n",
       "\n",
       "    .dataframe tbody tr th {\n",
       "        vertical-align: top;\n",
       "    }\n",
       "\n",
       "    .dataframe thead th {\n",
       "        text-align: right;\n",
       "    }\n",
       "</style>\n",
       "<table border=\"1\" class=\"dataframe\">\n",
       "  <thead>\n",
       "    <tr style=\"text-align: right;\">\n",
       "      <th></th>\n",
       "      <th>ID_DELEG_RP_x</th>\n",
       "      <th>ID_SUBDEL_RP_x</th>\n",
       "      <th>ID_UMF_RP_x</th>\n",
       "      <th>Clave_dh</th>\n",
       "      <th>NOMBRE_UMF_RP</th>\n",
       "      <th>ST_TIT_FAM</th>\n",
       "      <th>ID_CALIDAD</th>\n",
       "      <th>CVE_SEXO</th>\n",
       "      <th>CVE_RANGO_EDAD</th>\n",
       "      <th>TOT_CASOS</th>\n",
       "      <th>...</th>\n",
       "      <th>Clave_Cta</th>\n",
       "      <th>DELEGACIÓN</th>\n",
       "      <th>SUBDELEGACIÓN</th>\n",
       "      <th>UNIDAD</th>\n",
       "      <th>ID_ENT</th>\n",
       "      <th>ID_MUN</th>\n",
       "      <th>ENTIDAD</th>\n",
       "      <th>MUNICIPIO</th>\n",
       "      <th>ID_LOCAL</th>\n",
       "      <th>LOCALIDAD</th>\n",
       "    </tr>\n",
       "  </thead>\n",
       "  <tbody>\n",
       "    <tr>\n",
       "      <th>0</th>\n",
       "      <td>1</td>\n",
       "      <td>1</td>\n",
       "      <td>10</td>\n",
       "      <td>1ID_DEL1ID_SUBDEL10ID_UMF</td>\n",
       "      <td>UMF 010</td>\n",
       "      <td>1</td>\n",
       "      <td>1</td>\n",
       "      <td>1</td>\n",
       "      <td>E1</td>\n",
       "      <td>2</td>\n",
       "      <td>...</td>\n",
       "      <td>1ID_DEL1ID_SUBDEL10ID_UMF</td>\n",
       "      <td>Aguascalientes</td>\n",
       "      <td>Aguascalientes Norte</td>\n",
       "      <td>UMF 10\\nAguascalientes</td>\n",
       "      <td>1.0</td>\n",
       "      <td>1.0</td>\n",
       "      <td>Aguascalientes</td>\n",
       "      <td>Aguascalientes</td>\n",
       "      <td>1.0</td>\n",
       "      <td>Aguascalientes</td>\n",
       "    </tr>\n",
       "    <tr>\n",
       "      <th>1</th>\n",
       "      <td>1</td>\n",
       "      <td>1</td>\n",
       "      <td>10</td>\n",
       "      <td>1ID_DEL1ID_SUBDEL10ID_UMF</td>\n",
       "      <td>UMF 010</td>\n",
       "      <td>1</td>\n",
       "      <td>1</td>\n",
       "      <td>1</td>\n",
       "      <td>E10</td>\n",
       "      <td>365</td>\n",
       "      <td>...</td>\n",
       "      <td>1ID_DEL1ID_SUBDEL10ID_UMF</td>\n",
       "      <td>Aguascalientes</td>\n",
       "      <td>Aguascalientes Norte</td>\n",
       "      <td>UMF 10\\nAguascalientes</td>\n",
       "      <td>1.0</td>\n",
       "      <td>1.0</td>\n",
       "      <td>Aguascalientes</td>\n",
       "      <td>Aguascalientes</td>\n",
       "      <td>1.0</td>\n",
       "      <td>Aguascalientes</td>\n",
       "    </tr>\n",
       "    <tr>\n",
       "      <th>2</th>\n",
       "      <td>1</td>\n",
       "      <td>1</td>\n",
       "      <td>10</td>\n",
       "      <td>1ID_DEL1ID_SUBDEL10ID_UMF</td>\n",
       "      <td>UMF 010</td>\n",
       "      <td>1</td>\n",
       "      <td>1</td>\n",
       "      <td>1</td>\n",
       "      <td>E11</td>\n",
       "      <td>3774</td>\n",
       "      <td>...</td>\n",
       "      <td>1ID_DEL1ID_SUBDEL10ID_UMF</td>\n",
       "      <td>Aguascalientes</td>\n",
       "      <td>Aguascalientes Norte</td>\n",
       "      <td>UMF 10\\nAguascalientes</td>\n",
       "      <td>1.0</td>\n",
       "      <td>1.0</td>\n",
       "      <td>Aguascalientes</td>\n",
       "      <td>Aguascalientes</td>\n",
       "      <td>1.0</td>\n",
       "      <td>Aguascalientes</td>\n",
       "    </tr>\n",
       "    <tr>\n",
       "      <th>3</th>\n",
       "      <td>1</td>\n",
       "      <td>1</td>\n",
       "      <td>10</td>\n",
       "      <td>1ID_DEL1ID_SUBDEL10ID_UMF</td>\n",
       "      <td>UMF 010</td>\n",
       "      <td>1</td>\n",
       "      <td>1</td>\n",
       "      <td>1</td>\n",
       "      <td>E12</td>\n",
       "      <td>3309</td>\n",
       "      <td>...</td>\n",
       "      <td>1ID_DEL1ID_SUBDEL10ID_UMF</td>\n",
       "      <td>Aguascalientes</td>\n",
       "      <td>Aguascalientes Norte</td>\n",
       "      <td>UMF 10\\nAguascalientes</td>\n",
       "      <td>1.0</td>\n",
       "      <td>1.0</td>\n",
       "      <td>Aguascalientes</td>\n",
       "      <td>Aguascalientes</td>\n",
       "      <td>1.0</td>\n",
       "      <td>Aguascalientes</td>\n",
       "    </tr>\n",
       "    <tr>\n",
       "      <th>4</th>\n",
       "      <td>1</td>\n",
       "      <td>1</td>\n",
       "      <td>10</td>\n",
       "      <td>1ID_DEL1ID_SUBDEL10ID_UMF</td>\n",
       "      <td>UMF 010</td>\n",
       "      <td>1</td>\n",
       "      <td>1</td>\n",
       "      <td>1</td>\n",
       "      <td>E13</td>\n",
       "      <td>3025</td>\n",
       "      <td>...</td>\n",
       "      <td>1ID_DEL1ID_SUBDEL10ID_UMF</td>\n",
       "      <td>Aguascalientes</td>\n",
       "      <td>Aguascalientes Norte</td>\n",
       "      <td>UMF 10\\nAguascalientes</td>\n",
       "      <td>1.0</td>\n",
       "      <td>1.0</td>\n",
       "      <td>Aguascalientes</td>\n",
       "      <td>Aguascalientes</td>\n",
       "      <td>1.0</td>\n",
       "      <td>Aguascalientes</td>\n",
       "    </tr>\n",
       "  </tbody>\n",
       "</table>\n",
       "<p>5 rows × 23 columns</p>\n",
       "</div>"
      ],
      "text/plain": [
       "  ID_DELEG_RP_x ID_SUBDEL_RP_x ID_UMF_RP_x                   Clave_dh  \\\n",
       "0             1              1          10  1ID_DEL1ID_SUBDEL10ID_UMF   \n",
       "1             1              1          10  1ID_DEL1ID_SUBDEL10ID_UMF   \n",
       "2             1              1          10  1ID_DEL1ID_SUBDEL10ID_UMF   \n",
       "3             1              1          10  1ID_DEL1ID_SUBDEL10ID_UMF   \n",
       "4             1              1          10  1ID_DEL1ID_SUBDEL10ID_UMF   \n",
       "\n",
       "  NOMBRE_UMF_RP ST_TIT_FAM ID_CALIDAD CVE_SEXO CVE_RANGO_EDAD  TOT_CASOS  ...  \\\n",
       "0       UMF 010          1          1        1             E1          2  ...   \n",
       "1       UMF 010          1          1        1            E10        365  ...   \n",
       "2       UMF 010          1          1        1            E11       3774  ...   \n",
       "3       UMF 010          1          1        1            E12       3309  ...   \n",
       "4       UMF 010          1          1        1            E13       3025  ...   \n",
       "\n",
       "                   Clave_Cta      DELEGACIÓN         SUBDELEGACIÓN  \\\n",
       "0  1ID_DEL1ID_SUBDEL10ID_UMF  Aguascalientes  Aguascalientes Norte   \n",
       "1  1ID_DEL1ID_SUBDEL10ID_UMF  Aguascalientes  Aguascalientes Norte   \n",
       "2  1ID_DEL1ID_SUBDEL10ID_UMF  Aguascalientes  Aguascalientes Norte   \n",
       "3  1ID_DEL1ID_SUBDEL10ID_UMF  Aguascalientes  Aguascalientes Norte   \n",
       "4  1ID_DEL1ID_SUBDEL10ID_UMF  Aguascalientes  Aguascalientes Norte   \n",
       "\n",
       "                   UNIDAD ID_ENT ID_MUN         ENTIDAD       MUNICIPIO  \\\n",
       "0  UMF 10\\nAguascalientes    1.0    1.0  Aguascalientes  Aguascalientes   \n",
       "1  UMF 10\\nAguascalientes    1.0    1.0  Aguascalientes  Aguascalientes   \n",
       "2  UMF 10\\nAguascalientes    1.0    1.0  Aguascalientes  Aguascalientes   \n",
       "3  UMF 10\\nAguascalientes    1.0    1.0  Aguascalientes  Aguascalientes   \n",
       "4  UMF 10\\nAguascalientes    1.0    1.0  Aguascalientes  Aguascalientes   \n",
       "\n",
       "   ID_LOCAL       LOCALIDAD  \n",
       "0       1.0  Aguascalientes  \n",
       "1       1.0  Aguascalientes  \n",
       "2       1.0  Aguascalientes  \n",
       "3       1.0  Aguascalientes  \n",
       "4       1.0  Aguascalientes  \n",
       "\n",
       "[5 rows x 23 columns]"
      ]
     },
     "execution_count": 274,
     "metadata": {},
     "output_type": "execute_result"
    }
   ],
   "source": [
    "# Unimos las bases DH que es la base derechohabientes, con la base catálogos\n",
    "DH_1 = pd.merge(DH, cat , left_on='Clave_dh',right_on='Clave_Cta', how='left')\n",
    "DH_1.head()"
   ]
  },
  {
   "cell_type": "code",
   "execution_count": 275,
   "id": "8adc0f34",
   "metadata": {},
   "outputs": [
    {
     "data": {
      "text/plain": [
       "(391477, 23)"
      ]
     },
     "execution_count": 275,
     "metadata": {},
     "output_type": "execute_result"
    }
   ],
   "source": [
    "# Observamos la dimensión de nuestrp DF\n",
    "DH_1.shape"
   ]
  },
  {
   "cell_type": "code",
   "execution_count": 276,
   "id": "5c7f42e6",
   "metadata": {},
   "outputs": [
    {
     "data": {
      "text/plain": [
       "Index(['ID_DELEG_RP_x', 'ID_SUBDEL_RP_x', 'ID_UMF_RP_x', 'Clave_dh',\n",
       "       'NOMBRE_UMF_RP', 'ST_TIT_FAM', 'ID_CALIDAD', 'CVE_SEXO',\n",
       "       'CVE_RANGO_EDAD', 'TOT_CASOS', 'ID_DELEG_RP_y', 'ID_SUBDEL_RP_y',\n",
       "       'ID_UMF_RP_y', 'Clave_Cta', 'DELEGACIÓN', 'SUBDELEGACIÓN', 'UNIDAD',\n",
       "       'ID_ENT', 'ID_MUN', 'ENTIDAD', 'MUNICIPIO', 'ID_LOCAL', 'LOCALIDAD'],\n",
       "      dtype='object')"
      ]
     },
     "execution_count": 276,
     "metadata": {},
     "output_type": "execute_result"
    }
   ],
   "source": [
    "# las nombres de las columnas nos ayudan a saber cuales vamos a borrar\n",
    "DH_1.columns"
   ]
  },
  {
   "cell_type": "code",
   "execution_count": 277,
   "id": "a1585e51",
   "metadata": {},
   "outputs": [],
   "source": [
    "# Eliminamos las columnas que no necesitamos\n",
    "#del DH_1['DELEGACIÓN']\n",
    "del DH_1['ID_DELEG_RP_y']\n",
    "del DH_1['ID_SUBDEL_RP_y']\n",
    "del DH_1['ID_UMF_RP_y']\n",
    "del DH_1['Clave_Cta']\n",
    "del DH_1['SUBDELEGACIÓN']"
   ]
  },
  {
   "cell_type": "code",
   "execution_count": 278,
   "id": "53cb69f1",
   "metadata": {},
   "outputs": [
    {
     "data": {
      "text/plain": [
       "61371766"
      ]
     },
     "execution_count": 278,
     "metadata": {},
     "output_type": "execute_result"
    }
   ],
   "source": [
    "#len(DH_1['UNIDAD'].unique())\n",
    "DH_1['TOT_CASOS'].sum()"
   ]
  },
  {
   "cell_type": "code",
   "execution_count": 279,
   "id": "abc079a9",
   "metadata": {},
   "outputs": [],
   "source": [
    "# Creamos un nuevo DataFrame, para agrpuar y asi solo tener las unidades Unicas, un archivo más pequeño\n",
    "if i==\"2011\" or i==\"2012\" or i==\"2013\" or i==\"2014\" or i == \"2015\" or i == \"2016\":\n",
    "    grupo = DH_1.copy()\n",
    "    grupo[\"Clave\"] = grupo[\"ID_DELEG_RP_x\"] + grupo[\"ID_SUBDEL_RP_x\"] + grupo[\"ID_UMF_RP_x\"]\n",
    "    del grupo[\"ID_DELEG_RP_x\"], grupo[\"ID_SUBDEL_RP_x\"], grupo[\"ID_UMF_RP_x\"],grupo[\"ST_TIT_FAM\"],grupo[\"ID_CALIDAD\"]\n",
    "    del grupo[\"CVE_GENERO\"], grupo[\"CVE_RANGO_EDAD\"]\n",
    "else:\n",
    "    grupo = DH_1.copy()\n",
    "    grupo[\"Clave\"] = grupo[\"ID_DELEG_RP_x\"] + grupo[\"ID_SUBDEL_RP_x\"] + grupo[\"ID_UMF_RP_x\"]\n",
    "    del grupo[\"ID_DELEG_RP_x\"], grupo[\"ID_SUBDEL_RP_x\"], grupo[\"ID_UMF_RP_x\"],grupo[\"ST_TIT_FAM\"],grupo[\"ID_CALIDAD\"]\n",
    "    del grupo[\"CVE_SEXO\"], grupo[\"CVE_RANGO_EDAD\"]"
   ]
  },
  {
   "cell_type": "code",
   "execution_count": 280,
   "id": "c7a518a5",
   "metadata": {},
   "outputs": [
    {
     "data": {
      "text/html": [
       "<div>\n",
       "<style scoped>\n",
       "    .dataframe tbody tr th:only-of-type {\n",
       "        vertical-align: middle;\n",
       "    }\n",
       "\n",
       "    .dataframe tbody tr th {\n",
       "        vertical-align: top;\n",
       "    }\n",
       "\n",
       "    .dataframe thead th {\n",
       "        text-align: right;\n",
       "    }\n",
       "</style>\n",
       "<table border=\"1\" class=\"dataframe\">\n",
       "  <thead>\n",
       "    <tr style=\"text-align: right;\">\n",
       "      <th></th>\n",
       "      <th>Clave_dh</th>\n",
       "      <th>NOMBRE_UMF_RP</th>\n",
       "      <th>TOT_CASOS</th>\n",
       "      <th>DELEGACIÓN</th>\n",
       "      <th>UNIDAD</th>\n",
       "      <th>ID_ENT</th>\n",
       "      <th>ID_MUN</th>\n",
       "      <th>ENTIDAD</th>\n",
       "      <th>MUNICIPIO</th>\n",
       "      <th>ID_LOCAL</th>\n",
       "      <th>LOCALIDAD</th>\n",
       "      <th>Clave</th>\n",
       "    </tr>\n",
       "  </thead>\n",
       "  <tbody>\n",
       "    <tr>\n",
       "      <th>264613</th>\n",
       "      <td>29ID_DEL4ID_SUBDEL41ID_UMF</td>\n",
       "      <td>UMF 041</td>\n",
       "      <td>17</td>\n",
       "      <td>NaN</td>\n",
       "      <td>NaN</td>\n",
       "      <td>NaN</td>\n",
       "      <td>NaN</td>\n",
       "      <td>NaN</td>\n",
       "      <td>NaN</td>\n",
       "      <td>NaN</td>\n",
       "      <td>NaN</td>\n",
       "      <td>29441</td>\n",
       "    </tr>\n",
       "    <tr>\n",
       "      <th>264614</th>\n",
       "      <td>29ID_DEL4ID_SUBDEL41ID_UMF</td>\n",
       "      <td>UMF 041</td>\n",
       "      <td>4</td>\n",
       "      <td>NaN</td>\n",
       "      <td>NaN</td>\n",
       "      <td>NaN</td>\n",
       "      <td>NaN</td>\n",
       "      <td>NaN</td>\n",
       "      <td>NaN</td>\n",
       "      <td>NaN</td>\n",
       "      <td>NaN</td>\n",
       "      <td>29441</td>\n",
       "    </tr>\n",
       "    <tr>\n",
       "      <th>264615</th>\n",
       "      <td>29ID_DEL4ID_SUBDEL41ID_UMF</td>\n",
       "      <td>UMF 041</td>\n",
       "      <td>16</td>\n",
       "      <td>NaN</td>\n",
       "      <td>NaN</td>\n",
       "      <td>NaN</td>\n",
       "      <td>NaN</td>\n",
       "      <td>NaN</td>\n",
       "      <td>NaN</td>\n",
       "      <td>NaN</td>\n",
       "      <td>NaN</td>\n",
       "      <td>29441</td>\n",
       "    </tr>\n",
       "    <tr>\n",
       "      <th>264616</th>\n",
       "      <td>29ID_DEL4ID_SUBDEL41ID_UMF</td>\n",
       "      <td>UMF 041</td>\n",
       "      <td>38</td>\n",
       "      <td>NaN</td>\n",
       "      <td>NaN</td>\n",
       "      <td>NaN</td>\n",
       "      <td>NaN</td>\n",
       "      <td>NaN</td>\n",
       "      <td>NaN</td>\n",
       "      <td>NaN</td>\n",
       "      <td>NaN</td>\n",
       "      <td>29441</td>\n",
       "    </tr>\n",
       "    <tr>\n",
       "      <th>264617</th>\n",
       "      <td>29ID_DEL4ID_SUBDEL41ID_UMF</td>\n",
       "      <td>UMF 041</td>\n",
       "      <td>514</td>\n",
       "      <td>NaN</td>\n",
       "      <td>NaN</td>\n",
       "      <td>NaN</td>\n",
       "      <td>NaN</td>\n",
       "      <td>NaN</td>\n",
       "      <td>NaN</td>\n",
       "      <td>NaN</td>\n",
       "      <td>NaN</td>\n",
       "      <td>29441</td>\n",
       "    </tr>\n",
       "    <tr>\n",
       "      <th>...</th>\n",
       "      <td>...</td>\n",
       "      <td>...</td>\n",
       "      <td>...</td>\n",
       "      <td>...</td>\n",
       "      <td>...</td>\n",
       "      <td>...</td>\n",
       "      <td>...</td>\n",
       "      <td>...</td>\n",
       "      <td>...</td>\n",
       "      <td>...</td>\n",
       "      <td>...</td>\n",
       "      <td>...</td>\n",
       "    </tr>\n",
       "    <tr>\n",
       "      <th>264997</th>\n",
       "      <td>29ID_DEL4ID_SUBDEL41ID_UMF</td>\n",
       "      <td>UMF 041</td>\n",
       "      <td>2</td>\n",
       "      <td>NaN</td>\n",
       "      <td>NaN</td>\n",
       "      <td>NaN</td>\n",
       "      <td>NaN</td>\n",
       "      <td>NaN</td>\n",
       "      <td>NaN</td>\n",
       "      <td>NaN</td>\n",
       "      <td>NaN</td>\n",
       "      <td>29441</td>\n",
       "    </tr>\n",
       "    <tr>\n",
       "      <th>264998</th>\n",
       "      <td>29ID_DEL4ID_SUBDEL41ID_UMF</td>\n",
       "      <td>UMF 041</td>\n",
       "      <td>4</td>\n",
       "      <td>NaN</td>\n",
       "      <td>NaN</td>\n",
       "      <td>NaN</td>\n",
       "      <td>NaN</td>\n",
       "      <td>NaN</td>\n",
       "      <td>NaN</td>\n",
       "      <td>NaN</td>\n",
       "      <td>NaN</td>\n",
       "      <td>29441</td>\n",
       "    </tr>\n",
       "    <tr>\n",
       "      <th>264999</th>\n",
       "      <td>29ID_DEL4ID_SUBDEL41ID_UMF</td>\n",
       "      <td>UMF 041</td>\n",
       "      <td>4</td>\n",
       "      <td>NaN</td>\n",
       "      <td>NaN</td>\n",
       "      <td>NaN</td>\n",
       "      <td>NaN</td>\n",
       "      <td>NaN</td>\n",
       "      <td>NaN</td>\n",
       "      <td>NaN</td>\n",
       "      <td>NaN</td>\n",
       "      <td>29441</td>\n",
       "    </tr>\n",
       "    <tr>\n",
       "      <th>265000</th>\n",
       "      <td>29ID_DEL4ID_SUBDEL41ID_UMF</td>\n",
       "      <td>UMF 041</td>\n",
       "      <td>1</td>\n",
       "      <td>NaN</td>\n",
       "      <td>NaN</td>\n",
       "      <td>NaN</td>\n",
       "      <td>NaN</td>\n",
       "      <td>NaN</td>\n",
       "      <td>NaN</td>\n",
       "      <td>NaN</td>\n",
       "      <td>NaN</td>\n",
       "      <td>29441</td>\n",
       "    </tr>\n",
       "    <tr>\n",
       "      <th>265001</th>\n",
       "      <td>29ID_DEL4ID_SUBDEL41ID_UMF</td>\n",
       "      <td>UMF 041</td>\n",
       "      <td>2</td>\n",
       "      <td>NaN</td>\n",
       "      <td>NaN</td>\n",
       "      <td>NaN</td>\n",
       "      <td>NaN</td>\n",
       "      <td>NaN</td>\n",
       "      <td>NaN</td>\n",
       "      <td>NaN</td>\n",
       "      <td>NaN</td>\n",
       "      <td>29441</td>\n",
       "    </tr>\n",
       "  </tbody>\n",
       "</table>\n",
       "<p>389 rows × 12 columns</p>\n",
       "</div>"
      ],
      "text/plain": [
       "                          Clave_dh NOMBRE_UMF_RP  TOT_CASOS DELEGACIÓN UNIDAD  \\\n",
       "264613  29ID_DEL4ID_SUBDEL41ID_UMF       UMF 041         17        NaN    NaN   \n",
       "264614  29ID_DEL4ID_SUBDEL41ID_UMF       UMF 041          4        NaN    NaN   \n",
       "264615  29ID_DEL4ID_SUBDEL41ID_UMF       UMF 041         16        NaN    NaN   \n",
       "264616  29ID_DEL4ID_SUBDEL41ID_UMF       UMF 041         38        NaN    NaN   \n",
       "264617  29ID_DEL4ID_SUBDEL41ID_UMF       UMF 041        514        NaN    NaN   \n",
       "...                            ...           ...        ...        ...    ...   \n",
       "264997  29ID_DEL4ID_SUBDEL41ID_UMF       UMF 041          2        NaN    NaN   \n",
       "264998  29ID_DEL4ID_SUBDEL41ID_UMF       UMF 041          4        NaN    NaN   \n",
       "264999  29ID_DEL4ID_SUBDEL41ID_UMF       UMF 041          4        NaN    NaN   \n",
       "265000  29ID_DEL4ID_SUBDEL41ID_UMF       UMF 041          1        NaN    NaN   \n",
       "265001  29ID_DEL4ID_SUBDEL41ID_UMF       UMF 041          2        NaN    NaN   \n",
       "\n",
       "        ID_ENT  ID_MUN ENTIDAD MUNICIPIO  ID_LOCAL LOCALIDAD  Clave  \n",
       "264613     NaN     NaN     NaN       NaN       NaN       NaN  29441  \n",
       "264614     NaN     NaN     NaN       NaN       NaN       NaN  29441  \n",
       "264615     NaN     NaN     NaN       NaN       NaN       NaN  29441  \n",
       "264616     NaN     NaN     NaN       NaN       NaN       NaN  29441  \n",
       "264617     NaN     NaN     NaN       NaN       NaN       NaN  29441  \n",
       "...        ...     ...     ...       ...       ...       ...    ...  \n",
       "264997     NaN     NaN     NaN       NaN       NaN       NaN  29441  \n",
       "264998     NaN     NaN     NaN       NaN       NaN       NaN  29441  \n",
       "264999     NaN     NaN     NaN       NaN       NaN       NaN  29441  \n",
       "265000     NaN     NaN     NaN       NaN       NaN       NaN  29441  \n",
       "265001     NaN     NaN     NaN       NaN       NaN       NaN  29441  \n",
       "\n",
       "[389 rows x 12 columns]"
      ]
     },
     "execution_count": 280,
     "metadata": {},
     "output_type": "execute_result"
    }
   ],
   "source": [
    "# Con esta línea podemos ver todas las columnas y fila donde tenemos NaN, o datos faltantes\n",
    "grupo[grupo.isna().any(axis=1)]"
   ]
  },
  {
   "cell_type": "code",
   "execution_count": 281,
   "id": "51427f40",
   "metadata": {},
   "outputs": [],
   "source": [
    "# Rellenamos todos los espacion sin dato o mejor dicho que no empataron con \"Sin información\"\n",
    "grupo = grupo.fillna('Sin informacion')"
   ]
  },
  {
   "cell_type": "code",
   "execution_count": 282,
   "id": "7db42494",
   "metadata": {},
   "outputs": [
    {
     "name": "stderr",
     "output_type": "stream",
     "text": [
      "C:\\Users\\ccamacho\\AppData\\Local\\Temp\\ipykernel_12476\\125273881.py:5: FutureWarning: The default value of numeric_only in DataFrameGroupBy.sum is deprecated. In a future version, numeric_only will default to False. Either specify numeric_only or select only columns which should be valid for the function.\n",
      "  \"ID_LOCAL\",\"LOCALIDAD\"]).sum().reset_index()\n"
     ]
    }
   ],
   "source": [
    "# Agrupamos para poder tener por unidad medica los Derechohabientes\n",
    "#grupo = grupo.groupby([\"Clave_dh\",\"Clave\",\"NOMBRE_UMF_RP\",\"UNIDAD\",\"DELEGACIÓN\",\"ID_ENT\",\"ENTIDAD\",\"ID_MUN\",\"MUNICIPIO\",\n",
    "#                      \"ID_LOCAL\",\"LOCALIDAD\"]).sum().reset_index()\n",
    "grupo = grupo.groupby([\"Clave_dh\",\"Clave\",\"UNIDAD\",\"DELEGACIÓN\",\"ID_ENT\",\"ENTIDAD\",\"ID_MUN\",\"MUNICIPIO\",\n",
    "                      \"ID_LOCAL\",\"LOCALIDAD\"]).sum().reset_index()"
   ]
  },
  {
   "cell_type": "code",
   "execution_count": 283,
   "id": "8e610281",
   "metadata": {},
   "outputs": [
    {
     "data": {
      "text/plain": [
       "(1278, 11)"
      ]
     },
     "execution_count": 283,
     "metadata": {},
     "output_type": "execute_result"
    }
   ],
   "source": [
    "# Observamos las dimensiones de nuestro DF\n",
    "grupo.shape"
   ]
  },
  {
   "cell_type": "code",
   "execution_count": 284,
   "id": "93367f03",
   "metadata": {},
   "outputs": [
    {
     "data": {
      "text/plain": [
       "61371766"
      ]
     },
     "execution_count": 284,
     "metadata": {},
     "output_type": "execute_result"
    }
   ],
   "source": [
    "#Corroboramos que sigan siendo la misma cantidad de Derechohabientes\n",
    "grupo['TOT_CASOS'].sum()"
   ]
  },
  {
   "cell_type": "code",
   "execution_count": 55,
   "id": "9378f1ee",
   "metadata": {},
   "outputs": [],
   "source": [
    "#Agregamos columna con el nombre de la unidad, para no modificar la original\n",
    "#Esta['Nombre_modificado'] = Esta['NOMBRE DE LA UNIDAD']\n",
    "#grupo['Nombre_mod'] = grupo['UNIDAD']"
   ]
  },
  {
   "cell_type": "code",
   "execution_count": 56,
   "id": "4d1ac946",
   "metadata": {},
   "outputs": [],
   "source": [
    "# # Vamos a eliminar cierto caracteres, para hacer las columnas lo mas similares posibles\n",
    "# Esta['Nombre_modificado'] = Esta['Nombre_modificado'].str.lower()\n",
    "# grupo['Nombre_mod'] = grupo['Nombre_mod'].str.lower()\n",
    "# Esta['Nombre_modificado'] = Esta['Nombre_modificado'].replace('\\s+', '', regex=True) # Eliminamos espacios\n",
    "# grupo['Nombre_mod'] = grupo['Nombre_mod'].replace('\\s+', '', regex=True) # Eliminamos espacios\n",
    "# Esta['Nombre_modificado'] = Esta['Nombre_modificado'].replace('\\.', '', regex=True) # Eliminamos puntos\n",
    "# grupo['Nombre_mod'] = grupo['Nombre_mod'].replace('\\.', '', regex=True) #Eliminamos puntos\n",
    "# Esta['Nombre_modificado'] = Esta['Nombre_modificado'].replace(',', '', regex=True) # Eliminamos comas\n",
    "# grupo['Nombre_mod'] = grupo['Nombre_mod'].replace(',', '', regex=True) # Eliminamos comas\n",
    "# Esta['Nombre_modificado'] = Esta['Nombre_modificado'].replace('-', '', regex=True) # Eliminamos guíon\n",
    "# grupo['Nombre_mod'] = grupo['Nombre_mod'].replace('-', '', regex=True) # Eliminamos guíon\n",
    "# Esta['Nombre_modificado'] = Esta['Nombre_modificado'].replace('_', '', regex=True) # Eliminamos guion bajo\n",
    "# grupo['Nombre_mod'] = grupo['Nombre_mod'].replace('_', '', regex=True) # Eliminamos guion bajo\n",
    "# Esta['Nombre_modificado'] = Esta['Nombre_modificado'].apply(unidecode) # Eliminamos acentos\n",
    "# grupo['Nombre_mod'] = grupo['Nombre_mod'].apply(unidecode)# Eliminamos acentos"
   ]
  },
  {
   "cell_type": "code",
   "execution_count": 81,
   "id": "8771901c",
   "metadata": {},
   "outputs": [],
   "source": [
    "#catalogo_D = pd.read_excel(\"Derechohabientes.xlsx\",usecols=\"A,E,N\") # Leemos el catálogo\n",
    "catalogo_D = pd.read_excel(\"catálogo_derechohabientes.xlsx\",usecols=\"A,C,k\") # Leemos el catálogo\n",
    "#catalogo_D = catalogo_D[catalogo_D[\"Año\"] == int(i)] # Filtramos por el año que estamos trabajando"
   ]
  },
  {
   "cell_type": "code",
   "execution_count": 285,
   "id": "5395ba99",
   "metadata": {},
   "outputs": [
    {
     "data": {
      "text/html": [
       "<div>\n",
       "<style scoped>\n",
       "    .dataframe tbody tr th:only-of-type {\n",
       "        vertical-align: middle;\n",
       "    }\n",
       "\n",
       "    .dataframe tbody tr th {\n",
       "        vertical-align: top;\n",
       "    }\n",
       "\n",
       "    .dataframe thead th {\n",
       "        text-align: right;\n",
       "    }\n",
       "</style>\n",
       "<table border=\"1\" class=\"dataframe\">\n",
       "  <thead>\n",
       "    <tr style=\"text-align: right;\">\n",
       "      <th></th>\n",
       "      <th>Clave_dh</th>\n",
       "      <th>Clave</th>\n",
       "      <th>UNIDAD_x</th>\n",
       "      <th>DELEGACIÓN</th>\n",
       "      <th>ID_ENT</th>\n",
       "      <th>ENTIDAD</th>\n",
       "      <th>ID_MUN</th>\n",
       "      <th>MUNICIPIO</th>\n",
       "      <th>ID_LOCAL</th>\n",
       "      <th>LOCALIDAD</th>\n",
       "      <th>TOT_CASOS</th>\n",
       "      <th>CLUES</th>\n",
       "    </tr>\n",
       "  </thead>\n",
       "  <tbody>\n",
       "    <tr>\n",
       "      <th>0</th>\n",
       "      <td>10ID_DEL13ID_SUBDEL10ID_UMF</td>\n",
       "      <td>101310</td>\n",
       "      <td>UMF 10 Gómez Palacio</td>\n",
       "      <td>Durango</td>\n",
       "      <td>10.0</td>\n",
       "      <td>Durango</td>\n",
       "      <td>7.0</td>\n",
       "      <td>Gómez Palacio</td>\n",
       "      <td>1.0</td>\n",
       "      <td>Gómez Palacio</td>\n",
       "      <td>106902</td>\n",
       "      <td>DGIMS000100</td>\n",
       "    </tr>\n",
       "    <tr>\n",
       "      <th>1</th>\n",
       "      <td>10ID_DEL13ID_SUBDEL11ID_UMF</td>\n",
       "      <td>101311</td>\n",
       "      <td>UMF 11 Cd. Lerdo</td>\n",
       "      <td>Durango</td>\n",
       "      <td>10.0</td>\n",
       "      <td>Durango</td>\n",
       "      <td>12.0</td>\n",
       "      <td>Lerdo</td>\n",
       "      <td>1.0</td>\n",
       "      <td>Ciudad Lerdo</td>\n",
       "      <td>69490</td>\n",
       "      <td>DGIMS000182</td>\n",
       "    </tr>\n",
       "  </tbody>\n",
       "</table>\n",
       "</div>"
      ],
      "text/plain": [
       "                      Clave_dh   Clave              UNIDAD_x DELEGACIÓN  \\\n",
       "0  10ID_DEL13ID_SUBDEL10ID_UMF  101310  UMF 10 Gómez Palacio    Durango   \n",
       "1  10ID_DEL13ID_SUBDEL11ID_UMF  101311      UMF 11 Cd. Lerdo    Durango   \n",
       "\n",
       "  ID_ENT  ENTIDAD ID_MUN      MUNICIPIO ID_LOCAL      LOCALIDAD  TOT_CASOS  \\\n",
       "0   10.0  Durango    7.0  Gómez Palacio      1.0  Gómez Palacio     106902   \n",
       "1   10.0  Durango   12.0          Lerdo      1.0   Ciudad Lerdo      69490   \n",
       "\n",
       "         CLUES  \n",
       "0  DGIMS000100  \n",
       "1  DGIMS000182  "
      ]
     },
     "execution_count": 285,
     "metadata": {},
     "output_type": "execute_result"
    }
   ],
   "source": [
    "# Unimos el DF de grupo con el de estableciemintos para poder encontrarle el CLUE a cada unidad medica\n",
    "catalogo_b = catalogo_D.copy()\n",
    "clues = pd.merge(grupo, catalogo_b, left_on='Clave_dh',right_on='Clave_dh', how='left') \n",
    "del clues[\"UNIDAD_y\"]\n",
    "clues.head(2)"
   ]
  },
  {
   "cell_type": "code",
   "execution_count": 286,
   "id": "97059d64",
   "metadata": {},
   "outputs": [
    {
     "data": {
      "text/plain": [
       "(1278, 12)"
      ]
     },
     "execution_count": 286,
     "metadata": {},
     "output_type": "execute_result"
    }
   ],
   "source": [
    "# Observamos la dimensión de nuestro nuevo DF\n",
    "clues.shape"
   ]
  },
  {
   "cell_type": "code",
   "execution_count": 287,
   "id": "f7528e2d",
   "metadata": {},
   "outputs": [
    {
     "data": {
      "text/plain": [
       "1278"
      ]
     },
     "execution_count": 287,
     "metadata": {},
     "output_type": "execute_result"
    }
   ],
   "source": [
    "# Observamos la cantidad de datos unicos que tenemos en CLUE\n",
    "# lo que siginfica que es el número que coicideron\n",
    "len(clues['CLUES'].unique())"
   ]
  },
  {
   "cell_type": "code",
   "execution_count": 93,
   "id": "ecebdce8",
   "metadata": {},
   "outputs": [],
   "source": [
    "# Esta nueva base se ocupara para poder traer las variables que nos hacen falta como los \"CLUES\", \"Lat\", \"Lon\"\n",
    "establecimientos = pd.read_excel('C:/Users/ccamacho/OneDrive - SESNA/DIA/Proyectos Especiales/IMSS/Bases_Quejas/ESTABLECIMIENTO_SALUD_202308.xlsx', usecols=\"A,E,H,I,L,M,AQ,AT,BA,BB\")"
   ]
  },
  {
   "cell_type": "code",
   "execution_count": 288,
   "id": "ebdb69b1",
   "metadata": {},
   "outputs": [
    {
     "data": {
      "text/html": [
       "<div>\n",
       "<style scoped>\n",
       "    .dataframe tbody tr th:only-of-type {\n",
       "        vertical-align: middle;\n",
       "    }\n",
       "\n",
       "    .dataframe tbody tr th {\n",
       "        vertical-align: top;\n",
       "    }\n",
       "\n",
       "    .dataframe thead th {\n",
       "        text-align: right;\n",
       "    }\n",
       "</style>\n",
       "<table border=\"1\" class=\"dataframe\">\n",
       "  <thead>\n",
       "    <tr style=\"text-align: right;\">\n",
       "      <th></th>\n",
       "      <th>CLUES</th>\n",
       "      <th>JURISDICCION</th>\n",
       "      <th>CLAVE DE TIPOLOGIA</th>\n",
       "      <th>NOMBRE DE TIPOLOGIA</th>\n",
       "      <th>NOMBRE DE LA UNIDAD</th>\n",
       "      <th>NOMBRE COMERCIAL</th>\n",
       "      <th>CLAVE DE LA INS ADM</th>\n",
       "      <th>NIVEL ATENCION</th>\n",
       "      <th>LATITUD</th>\n",
       "      <th>LONGITUD</th>\n",
       "    </tr>\n",
       "  </thead>\n",
       "  <tbody>\n",
       "    <tr>\n",
       "      <th>0</th>\n",
       "      <td>ASDIF000011</td>\n",
       "      <td>AGUASCALIENTES</td>\n",
       "      <td>99</td>\n",
       "      <td>NO ESPECIFICADO</td>\n",
       "      <td>DIF AGUASCALIENTES</td>\n",
       "      <td>DIF AGUASCALIENTES</td>\n",
       "      <td>NES</td>\n",
       "      <td>NO APLICA</td>\n",
       "      <td>21.8677</td>\n",
       "      <td>-102.309</td>\n",
       "    </tr>\n",
       "    <tr>\n",
       "      <th>1</th>\n",
       "      <td>ASDIF000023</td>\n",
       "      <td>RINCÓN DE ROMOS</td>\n",
       "      <td>99</td>\n",
       "      <td>NO ESPECIFICADO</td>\n",
       "      <td>DIF COSÍO</td>\n",
       "      <td>DIF COSÍO</td>\n",
       "      <td>NES</td>\n",
       "      <td>NO APLICA</td>\n",
       "      <td>22.3399</td>\n",
       "      <td>-102.264</td>\n",
       "    </tr>\n",
       "  </tbody>\n",
       "</table>\n",
       "</div>"
      ],
      "text/plain": [
       "         CLUES     JURISDICCION CLAVE DE TIPOLOGIA NOMBRE DE TIPOLOGIA  \\\n",
       "0  ASDIF000011   AGUASCALIENTES                 99     NO ESPECIFICADO   \n",
       "1  ASDIF000023  RINCÓN DE ROMOS                 99     NO ESPECIFICADO   \n",
       "\n",
       "  NOMBRE DE LA UNIDAD    NOMBRE COMERCIAL CLAVE DE LA INS ADM NIVEL ATENCION  \\\n",
       "0  DIF AGUASCALIENTES  DIF AGUASCALIENTES                 NES      NO APLICA   \n",
       "1           DIF COSÍO           DIF COSÍO                 NES      NO APLICA   \n",
       "\n",
       "   LATITUD  LONGITUD  \n",
       "0  21.8677  -102.309  \n",
       "1  22.3399  -102.264  "
      ]
     },
     "execution_count": 288,
     "metadata": {},
     "output_type": "execute_result"
    }
   ],
   "source": [
    "# Creamos una copia\n",
    "Esta = establecimientos.copy()\n",
    "Esta.head(2)"
   ]
  },
  {
   "cell_type": "code",
   "execution_count": 289,
   "id": "233caacd",
   "metadata": {},
   "outputs": [
    {
     "data": {
      "text/html": [
       "<div>\n",
       "<style scoped>\n",
       "    .dataframe tbody tr th:only-of-type {\n",
       "        vertical-align: middle;\n",
       "    }\n",
       "\n",
       "    .dataframe tbody tr th {\n",
       "        vertical-align: top;\n",
       "    }\n",
       "\n",
       "    .dataframe thead th {\n",
       "        text-align: right;\n",
       "    }\n",
       "</style>\n",
       "<table border=\"1\" class=\"dataframe\">\n",
       "  <thead>\n",
       "    <tr style=\"text-align: right;\">\n",
       "      <th></th>\n",
       "      <th>Clave_dh</th>\n",
       "      <th>Clave</th>\n",
       "      <th>UNIDAD</th>\n",
       "      <th>DELEGACIÓN</th>\n",
       "      <th>ID_ENT</th>\n",
       "      <th>ENTIDAD</th>\n",
       "      <th>ID_MUN</th>\n",
       "      <th>MUNICIPIO</th>\n",
       "      <th>ID_LOCAL</th>\n",
       "      <th>LOCALIDAD</th>\n",
       "      <th>...</th>\n",
       "      <th>CLUES</th>\n",
       "      <th>JURISDICCION</th>\n",
       "      <th>CLAVE DE TIPOLOGIA</th>\n",
       "      <th>NOMBRE DE TIPOLOGIA</th>\n",
       "      <th>NOMBRE DE LA UNIDAD</th>\n",
       "      <th>NOMBRE COMERCIAL</th>\n",
       "      <th>CLAVE DE LA INS ADM</th>\n",
       "      <th>NIVEL ATENCION</th>\n",
       "      <th>LATITUD</th>\n",
       "      <th>LONGITUD</th>\n",
       "    </tr>\n",
       "  </thead>\n",
       "  <tbody>\n",
       "    <tr>\n",
       "      <th>0</th>\n",
       "      <td>10ID_DEL13ID_SUBDEL10ID_UMF</td>\n",
       "      <td>101310</td>\n",
       "      <td>UMF 10 Gómez Palacio</td>\n",
       "      <td>Durango</td>\n",
       "      <td>10.0</td>\n",
       "      <td>Durango</td>\n",
       "      <td>7.0</td>\n",
       "      <td>Gómez Palacio</td>\n",
       "      <td>1.0</td>\n",
       "      <td>Gómez Palacio</td>\n",
       "      <td>...</td>\n",
       "      <td>DGIMS000100</td>\n",
       "      <td>GÓMEZ PALACIO</td>\n",
       "      <td>UMF</td>\n",
       "      <td>UNIDAD DE MEDICINA FAMILIAR</td>\n",
       "      <td>UMF 10 GOMEZ PALACIO</td>\n",
       "      <td>UMF 10 GOMEZ PALACIO</td>\n",
       "      <td>IMSS</td>\n",
       "      <td>PRIMER NIVEL</td>\n",
       "      <td>25.5562</td>\n",
       "      <td>-103.506</td>\n",
       "    </tr>\n",
       "    <tr>\n",
       "      <th>1</th>\n",
       "      <td>10ID_DEL13ID_SUBDEL11ID_UMF</td>\n",
       "      <td>101311</td>\n",
       "      <td>UMF 11 Cd. Lerdo</td>\n",
       "      <td>Durango</td>\n",
       "      <td>10.0</td>\n",
       "      <td>Durango</td>\n",
       "      <td>12.0</td>\n",
       "      <td>Lerdo</td>\n",
       "      <td>1.0</td>\n",
       "      <td>Ciudad Lerdo</td>\n",
       "      <td>...</td>\n",
       "      <td>DGIMS000182</td>\n",
       "      <td>GÓMEZ PALACIO</td>\n",
       "      <td>UMF</td>\n",
       "      <td>UNIDAD DE MEDICINA FAMILIAR</td>\n",
       "      <td>UMF 11 CD. LERDO</td>\n",
       "      <td>UMF 11 CD. LERDO</td>\n",
       "      <td>IMSS</td>\n",
       "      <td>PRIMER NIVEL</td>\n",
       "      <td>25.5415</td>\n",
       "      <td>-103.522</td>\n",
       "    </tr>\n",
       "  </tbody>\n",
       "</table>\n",
       "<p>2 rows × 21 columns</p>\n",
       "</div>"
      ],
      "text/plain": [
       "                      Clave_dh   Clave                UNIDAD DELEGACIÓN  \\\n",
       "0  10ID_DEL13ID_SUBDEL10ID_UMF  101310  UMF 10 Gómez Palacio    Durango   \n",
       "1  10ID_DEL13ID_SUBDEL11ID_UMF  101311      UMF 11 Cd. Lerdo    Durango   \n",
       "\n",
       "  ID_ENT  ENTIDAD ID_MUN      MUNICIPIO ID_LOCAL      LOCALIDAD  ...  \\\n",
       "0   10.0  Durango    7.0  Gómez Palacio      1.0  Gómez Palacio  ...   \n",
       "1   10.0  Durango   12.0          Lerdo      1.0   Ciudad Lerdo  ...   \n",
       "\n",
       "         CLUES   JURISDICCION CLAVE DE TIPOLOGIA          NOMBRE DE TIPOLOGIA  \\\n",
       "0  DGIMS000100  GÓMEZ PALACIO                UMF  UNIDAD DE MEDICINA FAMILIAR   \n",
       "1  DGIMS000182  GÓMEZ PALACIO                UMF  UNIDAD DE MEDICINA FAMILIAR   \n",
       "\n",
       "    NOMBRE DE LA UNIDAD      NOMBRE COMERCIAL CLAVE DE LA INS ADM  \\\n",
       "0  UMF 10 GOMEZ PALACIO  UMF 10 GOMEZ PALACIO                IMSS   \n",
       "1      UMF 11 CD. LERDO      UMF 11 CD. LERDO                IMSS   \n",
       "\n",
       "  NIVEL ATENCION  LATITUD  LONGITUD  \n",
       "0   PRIMER NIVEL  25.5562  -103.506  \n",
       "1   PRIMER NIVEL  25.5415  -103.522  \n",
       "\n",
       "[2 rows x 21 columns]"
      ]
     },
     "execution_count": 289,
     "metadata": {},
     "output_type": "execute_result"
    }
   ],
   "source": [
    "clues = pd.merge(clues, Esta, left_on='CLUES',right_on='CLUES', how='left') \n",
    "clues = clues.rename(columns={\"UNIDAD_x\":\"UNIDAD\"})\n",
    "clues.head(2)"
   ]
  },
  {
   "cell_type": "code",
   "execution_count": 290,
   "id": "971bc177",
   "metadata": {},
   "outputs": [
    {
     "data": {
      "text/plain": [
       "Index(['Clave_dh', 'Clave', 'UNIDAD', 'DELEGACIÓN', 'ID_ENT', 'ENTIDAD',\n",
       "       'ID_MUN', 'MUNICIPIO', 'ID_LOCAL', 'LOCALIDAD', 'TOT_CASOS', 'CLUES',\n",
       "       'JURISDICCION', 'CLAVE DE TIPOLOGIA', 'NOMBRE DE TIPOLOGIA',\n",
       "       'NOMBRE DE LA UNIDAD', 'NOMBRE COMERCIAL', 'CLAVE DE LA INS ADM',\n",
       "       'NIVEL ATENCION', 'LATITUD', 'LONGITUD'],\n",
       "      dtype='object')"
      ]
     },
     "execution_count": 290,
     "metadata": {},
     "output_type": "execute_result"
    }
   ],
   "source": [
    "clues.columns"
   ]
  },
  {
   "cell_type": "code",
   "execution_count": 291,
   "id": "17668dcb",
   "metadata": {},
   "outputs": [],
   "source": [
    "# Eliminamos duplicados\n",
    "#clues = clues.drop_duplicates(subset=['Clave_dh','Clave','NOMBRE_UMF_RP','UNIDAD','DELEGACIÓN','ID_ENT','ENTIDAD',\n",
    "#                                      'ID_MUN','MUNICIPIO','ID_LOCAL','LOCALIDAD','TOT_CASOS','Nombre_mod'])\n",
    "clues = clues.drop_duplicates(subset=['Clave_dh','Clave','UNIDAD','DELEGACIÓN','ID_ENT','ENTIDAD',\n",
    "                                      'ID_MUN','MUNICIPIO','ID_LOCAL','LOCALIDAD','TOT_CASOS'])"
   ]
  },
  {
   "cell_type": "code",
   "execution_count": 292,
   "id": "d67daf3c",
   "metadata": {},
   "outputs": [
    {
     "data": {
      "text/plain": [
       "False"
      ]
     },
     "execution_count": 292,
     "metadata": {},
     "output_type": "execute_result"
    }
   ],
   "source": [
    "# No aseguramos que no tengamos filas vacias o que no haya datos faltantes\n",
    "# En este caso si tenemos datos faltantes \n",
    "clues['CLUES'].isnull().any()"
   ]
  },
  {
   "cell_type": "code",
   "execution_count": 62,
   "id": "895cc57b",
   "metadata": {},
   "outputs": [],
   "source": [
    "#catalogo_D = pd.read_excel(\"Derechohabientes.xlsx\",usecols=\"A,E,N\") # Leemos el catálogo\n",
    "#catalogo_D = pd.read_excel(\"catálogo_derechohabientes.xlsx\",usecols=\"A,C,k\") # Leemos el catálogo\n",
    "#catalogo_D = catalogo_D[catalogo_D[\"Año\"] == int(i)] # Filtramos por el año que estamos trabajando"
   ]
  },
  {
   "cell_type": "code",
   "execution_count": 66,
   "id": "ac5e9d84",
   "metadata": {},
   "outputs": [],
   "source": [
    "###############################################################################################################################################################################################\n",
    "############################################## Rellenamos lo CLUES pendientes con un catálogo que se elaboro antes ############################################################################\n",
    "###############################################################################################################################################################################################\n",
    "\n",
    "# #pd.merge(grupo, Esta  , left_on='Nombre_mod',right_on='Nombre_modificado', how='left')\n",
    "# catalogo_b = catalogo_D.copy() # Creamo una copia\n",
    "\n",
    "# filtro=clues['CLUES'].isnull() # creamos el filtro con los nulos\n",
    "# clues_filtro = clues[filtro] #guardamos solo los nulos\n",
    "# clues_nulos = pd.merge(grupo, catalogo_b,  on=\"Clave_dh\") # Agregamos los CLUES a los que no tengan\n",
    "# del clues_nulos[\"CLUES_x\"] # Eliminamos la columna CLUES que contenia a los nulos\n",
    "# # del clues_nulos[\"Año\"] # Eliminamos la columna \"Año\"\n",
    "# del clues_nulos[\"JURISDICCION\"],clues_nulos[\"CLAVE DE TIPOLOGIA\"],clues_nulos[\"NOMBRE DE TIPOLOGIA\"],clues_nulos[\"NOMBRE DE LA UNIDAD\"],clues_nulos[\"NOMBRE COMERCIAL\"] # Eliminamos columnas vacias\n",
    "# del clues_nulos[\"CLAVE DE LA INS ADM\"],clues_nulos[\"NIVEL ATENCION\"],clues_nulos[\"LATITUD\"],clues_nulos[\"LONGITUD\"],clues_nulos[\"Nombre_modificado\"] # Eliminamos columnas vacias\n",
    "# clues_nulos = clues_nulos.rename(columns={\"CLUES_y\":\"CLUES\"}) #Cambiamos el nombre de la columna CLUES_y por CLUES ya que esta ya no contiene datos nulos\n",
    "# clues_nulos = pd.merge(clues_nulos, Esta, left_on='CLUES',right_on='CLUES', how='left') # Unimos los clues que eran nulos con el la base de \"establecimientos\" para traer la información que necesitamos\n",
    "\n",
    "# # Eliminamos de nuestra tabla origianl los nulos, para quedarnos solo con los que si tenian dato\n",
    "# clues = clues.drop(clues_filtro.index)\n",
    "# clues = pd.concat([clues,clues_nulos],axis=0) # Concatenamos los nulos que ahora ya tienen dato con la tabla original pero solo los registros que si tenian dato"
   ]
  },
  {
   "cell_type": "code",
   "execution_count": 293,
   "id": "21d5d078",
   "metadata": {},
   "outputs": [
    {
     "data": {
      "text/plain": [
       "61371766"
      ]
     },
     "execution_count": 293,
     "metadata": {},
     "output_type": "execute_result"
    }
   ],
   "source": [
    "# Nos aseguramos que la cantidad de Derechohabientes siga siendo la misma\n",
    "clues['TOT_CASOS'].sum()"
   ]
  },
  {
   "cell_type": "code",
   "execution_count": 294,
   "id": "5a476e85",
   "metadata": {},
   "outputs": [
    {
     "data": {
      "text/html": [
       "<div>\n",
       "<style scoped>\n",
       "    .dataframe tbody tr th:only-of-type {\n",
       "        vertical-align: middle;\n",
       "    }\n",
       "\n",
       "    .dataframe tbody tr th {\n",
       "        vertical-align: top;\n",
       "    }\n",
       "\n",
       "    .dataframe thead th {\n",
       "        text-align: right;\n",
       "    }\n",
       "</style>\n",
       "<table border=\"1\" class=\"dataframe\">\n",
       "  <thead>\n",
       "    <tr style=\"text-align: right;\">\n",
       "      <th></th>\n",
       "      <th>Clave_dh</th>\n",
       "      <th>Clave</th>\n",
       "      <th>UNIDAD</th>\n",
       "      <th>DELEGACIÓN</th>\n",
       "      <th>ID_ENT</th>\n",
       "      <th>ENTIDAD</th>\n",
       "      <th>ID_MUN</th>\n",
       "      <th>MUNICIPIO</th>\n",
       "      <th>ID_LOCAL</th>\n",
       "      <th>LOCALIDAD</th>\n",
       "      <th>...</th>\n",
       "      <th>CLUES</th>\n",
       "      <th>JURISDICCION</th>\n",
       "      <th>CLAVE DE TIPOLOGIA</th>\n",
       "      <th>NOMBRE DE TIPOLOGIA</th>\n",
       "      <th>NOMBRE DE LA UNIDAD</th>\n",
       "      <th>NOMBRE COMERCIAL</th>\n",
       "      <th>CLAVE DE LA INS ADM</th>\n",
       "      <th>NIVEL ATENCION</th>\n",
       "      <th>LATITUD</th>\n",
       "      <th>LONGITUD</th>\n",
       "    </tr>\n",
       "  </thead>\n",
       "  <tbody>\n",
       "  </tbody>\n",
       "</table>\n",
       "<p>0 rows × 21 columns</p>\n",
       "</div>"
      ],
      "text/plain": [
       "Empty DataFrame\n",
       "Columns: [Clave_dh, Clave, UNIDAD, DELEGACIÓN, ID_ENT, ENTIDAD, ID_MUN, MUNICIPIO, ID_LOCAL, LOCALIDAD, TOT_CASOS, CLUES, JURISDICCION, CLAVE DE TIPOLOGIA, NOMBRE DE TIPOLOGIA, NOMBRE DE LA UNIDAD, NOMBRE COMERCIAL, CLAVE DE LA INS ADM, NIVEL ATENCION, LATITUD, LONGITUD]\n",
       "Index: []\n",
       "\n",
       "[0 rows x 21 columns]"
      ]
     },
     "execution_count": 294,
     "metadata": {},
     "output_type": "execute_result"
    }
   ],
   "source": [
    "clues_duplicados = clues[clues.duplicated(subset=[\"CLUES\"],keep=False)]\n",
    "clues_duplicados"
   ]
  },
  {
   "cell_type": "code",
   "execution_count": 295,
   "id": "0c5fa46d",
   "metadata": {},
   "outputs": [],
   "source": [
    "# Podemos usar esta línea para tranformar nuestro DF a un archivo excel.\n",
    "#clues.to_excel(\"Derechohabientes_\" + i +\".xlsx\",index=0)"
   ]
  },
  {
   "cell_type": "markdown",
   "id": "44e76667",
   "metadata": {},
   "source": [
    "En este punto hay que trabajar los CLUES en el archivo Excel, pegar los que faltan del archivo de derechohabientes"
   ]
  },
  {
   "cell_type": "markdown",
   "id": "dde0325f",
   "metadata": {},
   "source": [
    "## Aqui comenzaremos a trabajar con la base mas grande"
   ]
  },
  {
   "cell_type": "code",
   "execution_count": 150,
   "id": "61f5d65f",
   "metadata": {},
   "outputs": [],
   "source": [
    "# Esta['Nombre_modificado'] = Esta['NOMBRE DE LA UNIDAD'] #Agregamos columna con el nombre de la unidad, para no modificar la original\n",
    "# DH_1['Nombre_mod'] = DH_1['UNIDAD'] #Agregamos columna con el nombre de la unidad, para no modificar la original"
   ]
  },
  {
   "cell_type": "code",
   "execution_count": 151,
   "id": "736f6272",
   "metadata": {},
   "outputs": [],
   "source": [
    "#cat[\"ID_UMF_RP\"] = cat[\"ID_UMF_RP\"].astype(\"Int64\")\n",
    "# Ahora transformamos todo, a un tipo de dato str\n",
    "#cat[\"ID_DELEG_RP\"] = cat[\"ID_DELEG_RP\"].astype(str)"
   ]
  },
  {
   "cell_type": "code",
   "execution_count": 152,
   "id": "fde03010",
   "metadata": {},
   "outputs": [],
   "source": [
    "# Vamos a eliminar cierto caracteres, para hacer las columnas lo mas similares posibles\n",
    "# Esta['Nombre_modificado'] = Esta['Nombre_modificado'].str.lower()\n",
    "# DH_1['Nombre_mod'] = DH_1['Nombre_mod'].str.lower()\n",
    "# Esta['Nombre_modificado'] = Esta['Nombre_modificado'].replace('\\s+', '', regex=True) # Eliminamos espacios\n",
    "# DH_1['Nombre_mod'] = DH_1['Nombre_mod'].replace('\\s+', '', regex=True) # Eliminamos espacios\n",
    "# Esta['Nombre_modificado'] = Esta['Nombre_modificado'].replace('\\.', '', regex=True) # Eliminamos puntos\n",
    "# DH_1['Nombre_mod'] = DH_1['Nombre_mod'].replace('\\.', '', regex=True) #Eliminamos puntos\n",
    "# Esta['Nombre_modificado'] = Esta['Nombre_modificado'].replace(',', '', regex=True) # Eliminamos comas\n",
    "# DH_1['Nombre_mod'] = DH_1['Nombre_mod'].replace(',', '', regex=True) # Eliminamos comas\n",
    "# Esta['Nombre_modificado'] = Esta['Nombre_modificado'].replace('-', '', regex=True) # Eliminamos guíon\n",
    "# DH_1['Nombre_mod'] = DH_1['Nombre_mod'].replace('-', '', regex=True) # Eliminamos guíon\n",
    "# Esta['Nombre_modificado'] = Esta['Nombre_modificado'].replace('_', '', regex=True) # Eliminamos guion bajo\n",
    "# DH_1['Nombre_mod'] = DH_1['Nombre_mod'].replace('_', '', regex=True) # Eliminamos guion bajo\n",
    "# Esta['Nombre_modificado'] = Esta['Nombre_modificado'].astype(str).apply(unidecode) # Eliminamos acentos\n",
    "# DH_1['Nombre_mod'] = DH_1['Nombre_mod'].astype(str).apply(unidecode)# Eliminamos acentos"
   ]
  },
  {
   "cell_type": "code",
   "execution_count": 153,
   "id": "b2280347",
   "metadata": {},
   "outputs": [
    {
     "data": {
      "text/html": [
       "<div>\n",
       "<style scoped>\n",
       "    .dataframe tbody tr th:only-of-type {\n",
       "        vertical-align: middle;\n",
       "    }\n",
       "\n",
       "    .dataframe tbody tr th {\n",
       "        vertical-align: top;\n",
       "    }\n",
       "\n",
       "    .dataframe thead th {\n",
       "        text-align: right;\n",
       "    }\n",
       "</style>\n",
       "<table border=\"1\" class=\"dataframe\">\n",
       "  <thead>\n",
       "    <tr style=\"text-align: right;\">\n",
       "      <th></th>\n",
       "      <th>ID_DELEG_RP_x</th>\n",
       "      <th>ID_SUBDEL_RP_x</th>\n",
       "      <th>ID_UMF_RP_x</th>\n",
       "      <th>Clave_dh</th>\n",
       "      <th>NOMBRE_UMF_RP</th>\n",
       "      <th>ST_TIT_FAM</th>\n",
       "      <th>ID_CALIDAD</th>\n",
       "      <th>CVE_GENERO</th>\n",
       "      <th>CVE_RANGO_EDAD</th>\n",
       "      <th>TOT_CASOS</th>\n",
       "      <th>...</th>\n",
       "      <th>JURISDICCION</th>\n",
       "      <th>CLAVE DE TIPOLOGIA</th>\n",
       "      <th>NOMBRE DE TIPOLOGIA</th>\n",
       "      <th>NOMBRE DE LA UNIDAD</th>\n",
       "      <th>NOMBRE COMERCIAL</th>\n",
       "      <th>CLAVE DE LA INS ADM</th>\n",
       "      <th>NIVEL ATENCION</th>\n",
       "      <th>LATITUD</th>\n",
       "      <th>LONGITUD</th>\n",
       "      <th>Nombre_modificado</th>\n",
       "    </tr>\n",
       "  </thead>\n",
       "  <tbody>\n",
       "    <tr>\n",
       "      <th>0</th>\n",
       "      <td>1</td>\n",
       "      <td>1</td>\n",
       "      <td>10</td>\n",
       "      <td>1ID_DEL1ID_SUBDEL10ID_UMF</td>\n",
       "      <td>UMF 010</td>\n",
       "      <td>1</td>\n",
       "      <td>1</td>\n",
       "      <td>1</td>\n",
       "      <td>E0</td>\n",
       "      <td>693</td>\n",
       "      <td>...</td>\n",
       "      <td>AGUASCALIENTES</td>\n",
       "      <td>UMF</td>\n",
       "      <td>UNIDAD DE MEDICINA FAMILIAR</td>\n",
       "      <td>UMF 10 AGUASCALIENTES</td>\n",
       "      <td>UMF 10 AGUASCALIENTES</td>\n",
       "      <td>IMSS</td>\n",
       "      <td>PRIMER NIVEL</td>\n",
       "      <td>21.9002</td>\n",
       "      <td>-102.293</td>\n",
       "      <td>umf10aguascalientes</td>\n",
       "    </tr>\n",
       "    <tr>\n",
       "      <th>1</th>\n",
       "      <td>1</td>\n",
       "      <td>1</td>\n",
       "      <td>10</td>\n",
       "      <td>1ID_DEL1ID_SUBDEL10ID_UMF</td>\n",
       "      <td>UMF 010</td>\n",
       "      <td>1</td>\n",
       "      <td>1</td>\n",
       "      <td>1</td>\n",
       "      <td>E1</td>\n",
       "      <td>134</td>\n",
       "      <td>...</td>\n",
       "      <td>AGUASCALIENTES</td>\n",
       "      <td>UMF</td>\n",
       "      <td>UNIDAD DE MEDICINA FAMILIAR</td>\n",
       "      <td>UMF 10 AGUASCALIENTES</td>\n",
       "      <td>UMF 10 AGUASCALIENTES</td>\n",
       "      <td>IMSS</td>\n",
       "      <td>PRIMER NIVEL</td>\n",
       "      <td>21.9002</td>\n",
       "      <td>-102.293</td>\n",
       "      <td>umf10aguascalientes</td>\n",
       "    </tr>\n",
       "  </tbody>\n",
       "</table>\n",
       "<p>2 rows × 30 columns</p>\n",
       "</div>"
      ],
      "text/plain": [
       "  ID_DELEG_RP_x ID_SUBDEL_RP_x ID_UMF_RP_x                   Clave_dh  \\\n",
       "0             1              1          10  1ID_DEL1ID_SUBDEL10ID_UMF   \n",
       "1             1              1          10  1ID_DEL1ID_SUBDEL10ID_UMF   \n",
       "\n",
       "  NOMBRE_UMF_RP ST_TIT_FAM ID_CALIDAD CVE_GENERO CVE_RANGO_EDAD  TOT_CASOS  \\\n",
       "0       UMF 010          1          1         1              E0        693   \n",
       "1       UMF 010          1          1         1              E1        134   \n",
       "\n",
       "   ...    JURISDICCION CLAVE DE TIPOLOGIA          NOMBRE DE TIPOLOGIA  \\\n",
       "0  ...  AGUASCALIENTES                UMF  UNIDAD DE MEDICINA FAMILIAR   \n",
       "1  ...  AGUASCALIENTES                UMF  UNIDAD DE MEDICINA FAMILIAR   \n",
       "\n",
       "     NOMBRE DE LA UNIDAD       NOMBRE COMERCIAL CLAVE DE LA INS ADM  \\\n",
       "0  UMF 10 AGUASCALIENTES  UMF 10 AGUASCALIENTES                IMSS   \n",
       "1  UMF 10 AGUASCALIENTES  UMF 10 AGUASCALIENTES                IMSS   \n",
       "\n",
       "   NIVEL ATENCION  LATITUD LONGITUD    Nombre_modificado  \n",
       "0    PRIMER NIVEL  21.9002 -102.293  umf10aguascalientes  \n",
       "1    PRIMER NIVEL  21.9002 -102.293  umf10aguascalientes  \n",
       "\n",
       "[2 rows x 30 columns]"
      ]
     },
     "execution_count": 153,
     "metadata": {},
     "output_type": "execute_result"
    }
   ],
   "source": [
    "# Mismo procedmiento que el anterior unimos con los datos del archivo establecimientos\n",
    "# clues_2 = pd.merge(DH_1, Esta, left_on='Nombre_mod',right_on='Nombre_modificado', how='left')\n",
    "# clues_2.head(2)"
   ]
  },
  {
   "cell_type": "code",
   "execution_count": 297,
   "id": "03a795c9",
   "metadata": {},
   "outputs": [
    {
     "data": {
      "text/html": [
       "<div>\n",
       "<style scoped>\n",
       "    .dataframe tbody tr th:only-of-type {\n",
       "        vertical-align: middle;\n",
       "    }\n",
       "\n",
       "    .dataframe tbody tr th {\n",
       "        vertical-align: top;\n",
       "    }\n",
       "\n",
       "    .dataframe thead th {\n",
       "        text-align: right;\n",
       "    }\n",
       "</style>\n",
       "<table border=\"1\" class=\"dataframe\">\n",
       "  <thead>\n",
       "    <tr style=\"text-align: right;\">\n",
       "      <th></th>\n",
       "      <th>ID_DELEG_RP_x</th>\n",
       "      <th>ID_SUBDEL_RP_x</th>\n",
       "      <th>ID_UMF_RP_x</th>\n",
       "      <th>Clave_dh</th>\n",
       "      <th>NOMBRE_UMF_RP</th>\n",
       "      <th>ST_TIT_FAM</th>\n",
       "      <th>ID_CALIDAD</th>\n",
       "      <th>CVE_SEXO</th>\n",
       "      <th>CVE_RANGO_EDAD</th>\n",
       "      <th>TOT_CASOS</th>\n",
       "      <th>DELEGACIÓN</th>\n",
       "      <th>UNIDAD_x</th>\n",
       "      <th>ID_ENT</th>\n",
       "      <th>ID_MUN</th>\n",
       "      <th>ENTIDAD</th>\n",
       "      <th>MUNICIPIO</th>\n",
       "      <th>ID_LOCAL</th>\n",
       "      <th>LOCALIDAD</th>\n",
       "      <th>UNIDAD_y</th>\n",
       "      <th>CLUES</th>\n",
       "    </tr>\n",
       "  </thead>\n",
       "  <tbody>\n",
       "    <tr>\n",
       "      <th>0</th>\n",
       "      <td>1</td>\n",
       "      <td>1</td>\n",
       "      <td>10</td>\n",
       "      <td>1ID_DEL1ID_SUBDEL10ID_UMF</td>\n",
       "      <td>UMF 010</td>\n",
       "      <td>1</td>\n",
       "      <td>1</td>\n",
       "      <td>1</td>\n",
       "      <td>E1</td>\n",
       "      <td>2</td>\n",
       "      <td>Aguascalientes</td>\n",
       "      <td>UMF 10\\nAguascalientes</td>\n",
       "      <td>1.0</td>\n",
       "      <td>1.0</td>\n",
       "      <td>Aguascalientes</td>\n",
       "      <td>Aguascalientes</td>\n",
       "      <td>1.0</td>\n",
       "      <td>Aguascalientes</td>\n",
       "      <td>UMF 10\\nAguascalientes</td>\n",
       "      <td>ASIMS000045</td>\n",
       "    </tr>\n",
       "    <tr>\n",
       "      <th>1</th>\n",
       "      <td>1</td>\n",
       "      <td>1</td>\n",
       "      <td>10</td>\n",
       "      <td>1ID_DEL1ID_SUBDEL10ID_UMF</td>\n",
       "      <td>UMF 010</td>\n",
       "      <td>1</td>\n",
       "      <td>1</td>\n",
       "      <td>1</td>\n",
       "      <td>E10</td>\n",
       "      <td>365</td>\n",
       "      <td>Aguascalientes</td>\n",
       "      <td>UMF 10\\nAguascalientes</td>\n",
       "      <td>1.0</td>\n",
       "      <td>1.0</td>\n",
       "      <td>Aguascalientes</td>\n",
       "      <td>Aguascalientes</td>\n",
       "      <td>1.0</td>\n",
       "      <td>Aguascalientes</td>\n",
       "      <td>UMF 10\\nAguascalientes</td>\n",
       "      <td>ASIMS000045</td>\n",
       "    </tr>\n",
       "  </tbody>\n",
       "</table>\n",
       "</div>"
      ],
      "text/plain": [
       "  ID_DELEG_RP_x ID_SUBDEL_RP_x ID_UMF_RP_x                   Clave_dh  \\\n",
       "0             1              1          10  1ID_DEL1ID_SUBDEL10ID_UMF   \n",
       "1             1              1          10  1ID_DEL1ID_SUBDEL10ID_UMF   \n",
       "\n",
       "  NOMBRE_UMF_RP ST_TIT_FAM ID_CALIDAD CVE_SEXO CVE_RANGO_EDAD  TOT_CASOS  \\\n",
       "0       UMF 010          1          1        1             E1          2   \n",
       "1       UMF 010          1          1        1            E10        365   \n",
       "\n",
       "       DELEGACIÓN                UNIDAD_x  ID_ENT  ID_MUN         ENTIDAD  \\\n",
       "0  Aguascalientes  UMF 10\\nAguascalientes     1.0     1.0  Aguascalientes   \n",
       "1  Aguascalientes  UMF 10\\nAguascalientes     1.0     1.0  Aguascalientes   \n",
       "\n",
       "        MUNICIPIO  ID_LOCAL       LOCALIDAD                UNIDAD_y  \\\n",
       "0  Aguascalientes       1.0  Aguascalientes  UMF 10\\nAguascalientes   \n",
       "1  Aguascalientes       1.0  Aguascalientes  UMF 10\\nAguascalientes   \n",
       "\n",
       "         CLUES  \n",
       "0  ASIMS000045  \n",
       "1  ASIMS000045  "
      ]
     },
     "execution_count": 297,
     "metadata": {},
     "output_type": "execute_result"
    }
   ],
   "source": [
    "clues_2 = pd.merge(DH_1, catalogo_b, left_on='Clave_dh',right_on='Clave_dh', how='left') \n",
    "clues_2.head(2)"
   ]
  },
  {
   "cell_type": "code",
   "execution_count": 298,
   "id": "e5eea78b",
   "metadata": {},
   "outputs": [
    {
     "data": {
      "text/plain": [
       "(391477, 20)"
      ]
     },
     "execution_count": 298,
     "metadata": {},
     "output_type": "execute_result"
    }
   ],
   "source": [
    "# Dimensión con la base completa\n",
    "clues_2.shape"
   ]
  },
  {
   "cell_type": "code",
   "execution_count": 299,
   "id": "224f5e0c",
   "metadata": {},
   "outputs": [
    {
     "data": {
      "text/plain": [
       "1278"
      ]
     },
     "execution_count": 299,
     "metadata": {},
     "output_type": "execute_result"
    }
   ],
   "source": [
    "len(clues_2['CLUES'].unique())"
   ]
  },
  {
   "cell_type": "markdown",
   "id": "0082ed46",
   "metadata": {},
   "source": [
    "Hasta este punto el código esta correcto, nos faltan CLUES por agregar, pero se ve a crear solo un DF con las unidades \n",
    "que hacen falta"
   ]
  },
  {
   "cell_type": "code",
   "execution_count": 300,
   "id": "f0e1bf9b",
   "metadata": {},
   "outputs": [],
   "source": [
    "clues_expe = clues_2.copy()"
   ]
  },
  {
   "cell_type": "code",
   "execution_count": 301,
   "id": "113a7d94",
   "metadata": {},
   "outputs": [
    {
     "data": {
      "text/plain": [
       "Index(['ID_DELEG_RP_x', 'ID_SUBDEL_RP_x', 'ID_UMF_RP_x', 'Clave_dh',\n",
       "       'NOMBRE_UMF_RP', 'ST_TIT_FAM', 'ID_CALIDAD', 'CVE_SEXO',\n",
       "       'CVE_RANGO_EDAD', 'TOT_CASOS', 'DELEGACIÓN', 'UNIDAD_x', 'ID_ENT',\n",
       "       'ID_MUN', 'ENTIDAD', 'MUNICIPIO', 'ID_LOCAL', 'LOCALIDAD', 'UNIDAD_y',\n",
       "       'CLUES'],\n",
       "      dtype='object')"
      ]
     },
     "execution_count": 301,
     "metadata": {},
     "output_type": "execute_result"
    }
   ],
   "source": [
    "clues_expe.columns"
   ]
  },
  {
   "cell_type": "code",
   "execution_count": 302,
   "id": "ea313c63",
   "metadata": {},
   "outputs": [
    {
     "data": {
      "text/plain": [
       "False"
      ]
     },
     "execution_count": 302,
     "metadata": {},
     "output_type": "execute_result"
    }
   ],
   "source": [
    "clues_expe['CLUES'].isnull().any()"
   ]
  },
  {
   "cell_type": "code",
   "execution_count": 307,
   "id": "803972a9",
   "metadata": {},
   "outputs": [
    {
     "data": {
      "text/plain": [
       "61371766"
      ]
     },
     "execution_count": 307,
     "metadata": {},
     "output_type": "execute_result"
    }
   ],
   "source": [
    "clues_expe['TOT_CASOS'].sum()"
   ]
  },
  {
   "cell_type": "code",
   "execution_count": 308,
   "id": "9639f6e4",
   "metadata": {},
   "outputs": [],
   "source": [
    "del clues_expe[\"UNIDAD_y\"]\n",
    "clues_expe = clues_expe.rename(columns={\"UNIDAD_x\":\"UNIDAD\"})"
   ]
  },
  {
   "cell_type": "code",
   "execution_count": 309,
   "id": "18058f1a",
   "metadata": {},
   "outputs": [],
   "source": [
    "if i == \"2011\" or i == \"2016\" or i == \"2015\": \n",
    "    clues_expe = clues_expe.drop_duplicates(subset=['ID_DELEG_RP_x','ID_SUBDEL_RP_x','ID_UMF_RP_x','Clave_dh','NOMBRE_UMF_RP',\n",
    "                                                    'ST_TIT_FAM','ID_CALIDAD','CVE_GENERO','CVE_RANGO_EDAD','TOT_CASOS',\n",
    "                                                    'DELEGACIÓN','UNIDAD','ID_ENT','ENTIDAD','ID_MUN','MUNICIPIO','ID_LOCAL','LOCALIDAD',\n",
    "                                                    ])\n",
    "else:\n",
    "    clues_expe = clues_expe.drop_duplicates(subset=['ID_DELEG_RP_x','ID_SUBDEL_RP_x','ID_UMF_RP_x','Clave_dh','NOMBRE_UMF_RP',\n",
    "                                                    'ST_TIT_FAM','ID_CALIDAD','CVE_SEXO','CVE_RANGO_EDAD','TOT_CASOS',\n",
    "                                                    'DELEGACIÓN','UNIDAD','ID_ENT','ENTIDAD','ID_MUN','MUNICIPIO','ID_LOCAL','LOCALIDAD',\n",
    "                                                    ])"
   ]
  },
  {
   "cell_type": "code",
   "execution_count": 310,
   "id": "89223070",
   "metadata": {},
   "outputs": [
    {
     "data": {
      "text/plain": [
       "61371766"
      ]
     },
     "execution_count": 310,
     "metadata": {},
     "output_type": "execute_result"
    }
   ],
   "source": [
    "clues_expe['TOT_CASOS'].sum()"
   ]
  },
  {
   "cell_type": "code",
   "execution_count": 311,
   "id": "23008846",
   "metadata": {},
   "outputs": [
    {
     "data": {
      "text/plain": [
       "(391477, 19)"
      ]
     },
     "execution_count": 311,
     "metadata": {},
     "output_type": "execute_result"
    }
   ],
   "source": [
    "clues_expe.shape"
   ]
  },
  {
   "cell_type": "code",
   "execution_count": 163,
   "id": "fe23a012",
   "metadata": {},
   "outputs": [],
   "source": [
    "###############################################################################################################################################################################################\n",
    "############################################## Rellenamos lo CLUES pendientes con un catálogo que se elaboro antes ############################################################################\n",
    "###############################################################################################################################################################################################\n",
    "\n",
    "#pd.merge(grupo, Esta  , left_on='Nombre_mod',right_on='Nombre_modificado', how='left')\n",
    "# catalogo_b = catalogo_D.copy() # Creamo una copia\n",
    "\n",
    "# filtro_c=clues_expe['CLUES'].isnull() # creamos el filtro con los nulos\n",
    "# clues_filtro_c = clues_expe[filtro_c] #guardamos solo los nulos\n",
    "# clues_nulos_c = pd.merge(clues_filtro_c, catalogo_b,  on=\"UNIDAD\") # Agregamos los CLUES a los que no tengan\n",
    "# del clues_nulos_c[\"CLUES_x\"] # Eliminamos la columna CLUES que contenia a los nulos\n",
    "# del clues_nulos_c[\"Año\"] # Eliminamos la columna \"Año\"\n",
    "# del clues_nulos_c[\"JURISDICCION\"],clues_nulos_c[\"CLAVE DE TIPOLOGIA\"],clues_nulos_c[\"NOMBRE DE TIPOLOGIA\"],clues_nulos_c[\"NOMBRE DE LA UNIDAD\"],clues_nulos_c[\"NOMBRE COMERCIAL\"] # Eliminamos columnas vacias\n",
    "# del clues_nulos_c[\"CLAVE DE LA INS ADM\"],clues_nulos_c[\"NIVEL ATENCION\"],clues_nulos_c[\"LATITUD\"],clues_nulos_c[\"LONGITUD\"],clues_nulos_c[\"Nombre_modificado\"] # Eliminamos columnas vacias\n",
    "# clues_nulos_c = clues_nulos_c.rename(columns={\"CLUES_y\":\"CLUES\"}) #Cambiamos el nombre de la columna CLUES_y por CLUES ya que esta ya no contiene datos nulos\n",
    "# clues_nulos_c = pd.merge(clues_nulos_c, Esta, left_on='CLUES',right_on='CLUES', how='left') # Unimos los clues que eran nulos con el la base de \"establecimientos\" para traer la información que necesitamos\n",
    "\n",
    "# # Eliminamos de nuestra tabla origianl los nulos, para quedarnos solo con los que si tenian dato\n",
    "# clues_expe = clues_expe.drop(clues_filtro_c.index)\n",
    "# clues_expe = pd.concat([clues_expe,clues_nulos_c],axis=0) # Concatenamos los nulos que ahora ya tienen dato con la tabla original pero solo los registros que si tenian dato"
   ]
  },
  {
   "cell_type": "code",
   "execution_count": 312,
   "id": "114d6052",
   "metadata": {},
   "outputs": [
    {
     "data": {
      "text/plain": [
       "61371766"
      ]
     },
     "execution_count": 312,
     "metadata": {},
     "output_type": "execute_result"
    }
   ],
   "source": [
    "clues_expe['TOT_CASOS'].sum()"
   ]
  },
  {
   "cell_type": "code",
   "execution_count": 165,
   "id": "6ed650fc",
   "metadata": {},
   "outputs": [],
   "source": [
    "#clues_expe.to_excel(\"experimento.xlsx\") # CON TODOS"
   ]
  },
  {
   "cell_type": "code",
   "execution_count": 270,
   "id": "d9542afd",
   "metadata": {},
   "outputs": [],
   "source": [
    "with pd.ExcelWriter(\"Derechohabientes_\" + i + \"_\" + claves[i][1:3] + \".xlsx\") as writer:\n",
    "    clues_expe.to_excel(writer, sheet_name=\"Completo\", index=False)\n",
    "    clues.to_excel(writer, sheet_name=\"Unicos\", index=False)"
   ]
  },
  {
   "cell_type": "markdown",
   "id": "7b9156fd",
   "metadata": {},
   "source": [
    "# EXTRA"
   ]
  },
  {
   "cell_type": "code",
   "execution_count": 3,
   "id": "a66246a6",
   "metadata": {},
   "outputs": [],
   "source": [
    "uno_2011 = pd.read_excel(\"Derechohabientes_2011_11.xlsx\", sheet_name=\"Unicos\")\n",
    "uno_2011[\"Año\"] = \"2011\"\n",
    "uno_2012 = pd.read_excel(\"Derechohabientes_2012_09.xlsx\", sheet_name=\"Unicos\")\n",
    "uno_2012[\"Año\"] = \"2012\"\n",
    "uno_2013 = pd.read_excel(\"Derechohabientes_2013_07.xlsx\", sheet_name=\"Unicos\")\n",
    "uno_2013[\"Año\"] = \"2013\"\n",
    "uno_2014 = pd.read_excel(\"Derechohabientes_2014_10.xlsx\", sheet_name=\"Unicos\")\n",
    "uno_2014[\"Año\"] = \"2014\"\n",
    "uno_2015 = pd.read_excel(\"Derechohabientes_2015_11.xlsx\", sheet_name=\"Unicos\")\n",
    "uno_2015[\"Año\"] = \"2015\"\n",
    "uno_2016 = pd.read_excel(\"Derechohabientes_2016_11.xlsx\", sheet_name=\"Unicos\")\n",
    "uno_2016[\"Año\"] = \"2016\"\n",
    "uno_2017 = pd.read_excel(\"Derechohabientes_2017_11.xlsx\", sheet_name=\"Unicos\")\n",
    "uno_2017[\"Año\"] = \"2017\"\n",
    "uno_2018 = pd.read_excel(\"Derechohabientes_2018_11.xlsx\", sheet_name=\"Unicos\")\n",
    "uno_2018[\"Año\"] = \"2018\"\n",
    "uno_2019 = pd.read_excel(\"Derechohabientes_2019_11.xlsx\", sheet_name=\"Unicos\")\n",
    "uno_2019[\"Año\"] = \"2019\"\n",
    "uno_2022 = pd.read_excel(\"Derechohabientes_2022_11.xlsx\", sheet_name=\"Unicos\")\n",
    "uno_2022[\"Año\"] = \"2022\""
   ]
  },
  {
   "cell_type": "code",
   "execution_count": 30,
   "id": "43045f69",
   "metadata": {},
   "outputs": [],
   "source": [
    "Derechohabientes_nuevo = pd.concat([uno_2011,uno_2012,uno_2013,uno_2014,uno_2015,uno_2016,uno_2017,uno_2018,uno_2019,uno_2022],axis=0)"
   ]
  },
  {
   "cell_type": "markdown",
   "id": "52abda57",
   "metadata": {},
   "source": [
    "#### Para identificar en la base de derechohabientes, cuales Unidades medicas si aparecen en las encuestas de la EnCal.\n",
    "\n",
    "## Aun falta"
   ]
  },
  {
   "cell_type": "code",
   "execution_count": 34,
   "id": "1ae9cd3f",
   "metadata": {},
   "outputs": [],
   "source": [
    "Derechohabientes_nuevo = pd.read_excel(\"Derechohabientes_completo.xlsx\")"
   ]
  },
  {
   "cell_type": "code",
   "execution_count": 36,
   "id": "77862926",
   "metadata": {},
   "outputs": [],
   "source": [
    "Derechohabientes_nuevo[\"concat\"] = Derechohabientes_nuevo[\"Año\"].astype(str) + Derechohabientes_nuevo[\"CLUES\"]"
   ]
  },
  {
   "cell_type": "code",
   "execution_count": 38,
   "id": "fcb1c85a",
   "metadata": {},
   "outputs": [],
   "source": [
    "encal_cat_unicas = pd.read_excel(\"C:/Users/ccamacho/OneDrive - SESNA/DIA/Proyectos Especiales/IMSS/Bases_ensat/Catálogo_EnCal_Unidades_Unicas.xlsx\", sheet_name=\"EnCal_todo\")\n",
    "encal_cat_unicas[\"concat\"] = encal_cat_unicas[\"Año\"].astype(str) + encal_cat_unicas[\"CLUES\"]"
   ]
  },
  {
   "cell_type": "code",
   "execution_count": 4,
   "id": "9c043e35",
   "metadata": {},
   "outputs": [],
   "source": [
    "Derechohabientes_nuevo.to_excel(\"Derechohabientes_completo.xlsx\", index=False, sheet_name=\"Derechohabientes\")"
   ]
  }
 ],
 "metadata": {
  "kernelspec": {
   "display_name": "Python 3 (ipykernel)",
   "language": "python",
   "name": "python3"
  },
  "language_info": {
   "codemirror_mode": {
    "name": "ipython",
    "version": 3
   },
   "file_extension": ".py",
   "mimetype": "text/x-python",
   "name": "python",
   "nbconvert_exporter": "python",
   "pygments_lexer": "ipython3",
   "version": "3.11.9"
  }
 },
 "nbformat": 4,
 "nbformat_minor": 5
}
