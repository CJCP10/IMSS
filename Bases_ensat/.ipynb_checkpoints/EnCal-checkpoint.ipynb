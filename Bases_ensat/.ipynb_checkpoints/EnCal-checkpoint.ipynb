{
 "cells": [
  {
   "cell_type": "code",
   "execution_count": 2,
   "id": "e74d6bc4",
   "metadata": {},
   "outputs": [],
   "source": [
    "import pandas as pd\n",
    "import numpy as np"
   ]
  },
  {
   "cell_type": "code",
   "execution_count": 3,
   "id": "4d870834",
   "metadata": {},
   "outputs": [
    {
     "name": "stderr",
     "output_type": "stream",
     "text": [
      "C:\\Users\\ccamacho\\AppData\\Local\\Temp\\ipykernel_20284\\2131428160.py:1: DtypeWarning: Columns (19,20,24,25,26,27) have mixed types. Specify dtype option on import or set low_memory=False.\n",
      "  encal_2022 = pd.read_csv('2022_Nov_ENCal_Nacional.csv')\n"
     ]
    }
   ],
   "source": [
    "encal_2022 = pd.read_csv('2022_Nov_ENCal_Nacional.csv')\n",
    "encal_2019 = pd.read_excel('Ensat_2019.xlsx')"
   ]
  },
  {
   "cell_type": "code",
   "execution_count": 4,
   "id": "473dc69f",
   "metadata": {},
   "outputs": [
    {
     "data": {
      "text/plain": [
       "29699"
      ]
     },
     "execution_count": 4,
     "metadata": {},
     "output_type": "execute_result"
    }
   ],
   "source": [
    "encal_2019.shape[0]"
   ]
  },
  {
   "cell_type": "code",
   "execution_count": 5,
   "id": "c9d4a0de",
   "metadata": {},
   "outputs": [
    {
     "data": {
      "text/plain": [
       "12575"
      ]
     },
     "execution_count": 5,
     "metadata": {},
     "output_type": "execute_result"
    }
   ],
   "source": [
    "encal_2022 = encal_2022.iloc[0:12575]\n",
    "encal_2022.shape[0]"
   ]
  },
  {
   "cell_type": "code",
   "execution_count": 16,
   "id": "f5cb5e84",
   "metadata": {},
   "outputs": [],
   "source": [
    "#Cargamos todas las bases que necesitaremos quejas, Catálogo de unidades = Establecimientos, Derecho habientes\n",
    "quejas = pd.read_excel(r'C:/Users/ccamacho/OneDrive - SESNA/DIA/Proyectos Especiales/IMSS/Bases_Quejas/Quejas_4.0.xlsx')\n",
    "Establecimientos = pd.read_excel(r'C:/Users/ccamacho/OneDrive - SESNA/DIA/Proyectos Especiales/IMSS/Bases_Quejas/ESTABLECIMIENTO_SALUD_202308.xlsx',usecols=\"A,BA,BB\")\n",
    "Derechohabientes = pd.read_excel(r'C:/Users/ccamacho/OneDrive - SESNA/DIA/Proyectos Especiales/IMSS/Derechohabientes/Derechohabientes_30-09-23.xlsx',sheet_name=\"Únicos\")"
   ]
  },
  {
   "cell_type": "code",
   "execution_count": 10,
   "id": "588fdaad",
   "metadata": {},
   "outputs": [],
   "source": [
    "del Derechohabientes['Unnamed: 12']\n",
    "del Derechohabientes['No se encontraban']"
   ]
  },
  {
   "cell_type": "code",
   "execution_count": 17,
   "id": "7a098b96",
   "metadata": {},
   "outputs": [
    {
     "data": {
      "text/html": [
       "<div>\n",
       "<style scoped>\n",
       "    .dataframe tbody tr th:only-of-type {\n",
       "        vertical-align: middle;\n",
       "    }\n",
       "\n",
       "    .dataframe tbody tr th {\n",
       "        vertical-align: top;\n",
       "    }\n",
       "\n",
       "    .dataframe thead th {\n",
       "        text-align: right;\n",
       "    }\n",
       "</style>\n",
       "<table border=\"1\" class=\"dataframe\">\n",
       "  <thead>\n",
       "    <tr style=\"text-align: right;\">\n",
       "      <th></th>\n",
       "      <th>CLUES</th>\n",
       "      <th>LATITUD</th>\n",
       "      <th>LONGITUD</th>\n",
       "    </tr>\n",
       "  </thead>\n",
       "  <tbody>\n",
       "    <tr>\n",
       "      <th>0</th>\n",
       "      <td>ASDIF000011</td>\n",
       "      <td>21.8677</td>\n",
       "      <td>-102.309</td>\n",
       "    </tr>\n",
       "    <tr>\n",
       "      <th>1</th>\n",
       "      <td>ASDIF000023</td>\n",
       "      <td>22.3399</td>\n",
       "      <td>-102.264</td>\n",
       "    </tr>\n",
       "  </tbody>\n",
       "</table>\n",
       "</div>"
      ],
      "text/plain": [
       "         CLUES  LATITUD  LONGITUD\n",
       "0  ASDIF000011  21.8677  -102.309\n",
       "1  ASDIF000023  22.3399  -102.264"
      ]
     },
     "execution_count": 17,
     "metadata": {},
     "output_type": "execute_result"
    }
   ],
   "source": [
    "Establecimientos.head(2)"
   ]
  },
  {
   "cell_type": "code",
   "execution_count": 18,
   "id": "26f7e4da",
   "metadata": {},
   "outputs": [],
   "source": [
    "encal2022_2 = pd.merge(encal_2022, Establecimientos, left_on='CLUES', right_on='CLUES', how='left', suffixes=('_Encal', '_Establecimientos'))"
   ]
  },
  {
   "cell_type": "code",
   "execution_count": 19,
   "id": "b84c4fce",
   "metadata": {},
   "outputs": [
    {
     "data": {
      "text/html": [
       "<div>\n",
       "<style scoped>\n",
       "    .dataframe tbody tr th:only-of-type {\n",
       "        vertical-align: middle;\n",
       "    }\n",
       "\n",
       "    .dataframe tbody tr th {\n",
       "        vertical-align: top;\n",
       "    }\n",
       "\n",
       "    .dataframe thead th {\n",
       "        text-align: right;\n",
       "    }\n",
       "</style>\n",
       "<table border=\"1\" class=\"dataframe\">\n",
       "  <thead>\n",
       "    <tr style=\"text-align: right;\">\n",
       "      <th></th>\n",
       "      <th>Concatenado</th>\n",
       "      <th>CLUES</th>\n",
       "      <th>Folio</th>\n",
       "      <th>deleg</th>\n",
       "      <th>unidmed</th>\n",
       "      <th>id_unid</th>\n",
       "      <th>fecha_d</th>\n",
       "      <th>fecha_m</th>\n",
       "      <th>fecha_a</th>\n",
       "      <th>hr_ini_h</th>\n",
       "      <th>...</th>\n",
       "      <th>fecha</th>\n",
       "      <th>entidad</th>\n",
       "      <th>SE MANTUVO DE 2019 A 2022</th>\n",
       "      <th>FE_FinalNR*sat1 (indicador 1)</th>\n",
       "      <th>FE_FinalNR*sat3 (indicador2)</th>\n",
       "      <th>FE_FinalNR*btratou (indicador 4)</th>\n",
       "      <th>FE_FinalNR*totmed (indicador 8)</th>\n",
       "      <th>Derechohabientes</th>\n",
       "      <th>LATITUD</th>\n",
       "      <th>LONGITUD</th>\n",
       "    </tr>\n",
       "  </thead>\n",
       "  <tbody>\n",
       "    <tr>\n",
       "      <th>0</th>\n",
       "      <td>1AguascalientesUMF 10 Aguascalientes311</td>\n",
       "      <td>ASIMS000045</td>\n",
       "      <td>1.0</td>\n",
       "      <td>1.0</td>\n",
       "      <td>UMF 10 Aguascalientes</td>\n",
       "      <td>3.0</td>\n",
       "      <td>31.0</td>\n",
       "      <td>10.0</td>\n",
       "      <td>2022.0</td>\n",
       "      <td>8.0</td>\n",
       "      <td>...</td>\n",
       "      <td>31/10/2022</td>\n",
       "      <td>1.0</td>\n",
       "      <td>Si</td>\n",
       "      <td>90.863270</td>\n",
       "      <td>90.863270</td>\n",
       "      <td>90.863270</td>\n",
       "      <td>-</td>\n",
       "      <td>195,071.00</td>\n",
       "      <td>21.9002</td>\n",
       "      <td>-102.293</td>\n",
       "    </tr>\n",
       "    <tr>\n",
       "      <th>1</th>\n",
       "      <td>1AguascalientesUMF 10 Aguascalientes311</td>\n",
       "      <td>ASIMS000045</td>\n",
       "      <td>4.0</td>\n",
       "      <td>1.0</td>\n",
       "      <td>UMF 10 Aguascalientes</td>\n",
       "      <td>3.0</td>\n",
       "      <td>31.0</td>\n",
       "      <td>10.0</td>\n",
       "      <td>2022.0</td>\n",
       "      <td>8.0</td>\n",
       "      <td>...</td>\n",
       "      <td>31/10/2022</td>\n",
       "      <td>1.0</td>\n",
       "      <td>Si</td>\n",
       "      <td>174.119375</td>\n",
       "      <td>87.059688</td>\n",
       "      <td>43.529844</td>\n",
       "      <td>87.05968756</td>\n",
       "      <td>195,071.00</td>\n",
       "      <td>21.9002</td>\n",
       "      <td>-102.293</td>\n",
       "    </tr>\n",
       "  </tbody>\n",
       "</table>\n",
       "<p>2 rows × 133 columns</p>\n",
       "</div>"
      ],
      "text/plain": [
       "                               Concatenado        CLUES  Folio  deleg  \\\n",
       "0  1AguascalientesUMF 10 Aguascalientes311  ASIMS000045    1.0    1.0   \n",
       "1  1AguascalientesUMF 10 Aguascalientes311  ASIMS000045    4.0    1.0   \n",
       "\n",
       "                 unidmed  id_unid  fecha_d  fecha_m  fecha_a  hr_ini_h  ...  \\\n",
       "0  UMF 10 Aguascalientes      3.0     31.0     10.0   2022.0       8.0  ...   \n",
       "1  UMF 10 Aguascalientes      3.0     31.0     10.0   2022.0       8.0  ...   \n",
       "\n",
       "        fecha  entidad  SE MANTUVO DE 2019 A 2022  \\\n",
       "0  31/10/2022      1.0                         Si   \n",
       "1  31/10/2022      1.0                         Si   \n",
       "\n",
       "   FE_FinalNR*sat1 (indicador 1)  FE_FinalNR*sat3 (indicador2)  \\\n",
       "0                      90.863270                     90.863270   \n",
       "1                     174.119375                     87.059688   \n",
       "\n",
       "  FE_FinalNR*btratou (indicador 4) FE_FinalNR*totmed (indicador 8)  \\\n",
       "0                        90.863270                            -      \n",
       "1                        43.529844                     87.05968756   \n",
       "\n",
       "  Derechohabientes  LATITUD LONGITUD  \n",
       "0       195,071.00  21.9002 -102.293  \n",
       "1       195,071.00  21.9002 -102.293  \n",
       "\n",
       "[2 rows x 133 columns]"
      ]
     },
     "execution_count": 19,
     "metadata": {},
     "output_type": "execute_result"
    }
   ],
   "source": [
    "encal2022_2.head(2)"
   ]
  },
  {
   "cell_type": "code",
   "execution_count": 21,
   "id": "d8441569",
   "metadata": {},
   "outputs": [],
   "source": [
    "encal2022_2.to_excel(\"EnCal_lat_y_lon.xlsx\") #Se pega la latitud y longitud"
   ]
  }
 ],
 "metadata": {
  "kernelspec": {
   "display_name": "Python 3 (ipykernel)",
   "language": "python",
   "name": "python3"
  },
  "language_info": {
   "codemirror_mode": {
    "name": "ipython",
    "version": 3
   },
   "file_extension": ".py",
   "mimetype": "text/x-python",
   "name": "python",
   "nbconvert_exporter": "python",
   "pygments_lexer": "ipython3",
   "version": "3.9.13"
  }
 },
 "nbformat": 4,
 "nbformat_minor": 5
}
