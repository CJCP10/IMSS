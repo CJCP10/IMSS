{
 "cells": [
  {
   "cell_type": "code",
   "execution_count": 1,
   "id": "e74d6bc4",
   "metadata": {},
   "outputs": [],
   "source": [
    "import pandas as pd\n",
    "import numpy as np"
   ]
  },
  {
   "cell_type": "markdown",
   "id": "c5305be0",
   "metadata": {},
   "source": [
    "##### 2011 - Meses disponibles: Junio, Noviembre \n",
    "##### 2012 - Meses disponibles: Septiembre\n",
    "##### 2013 - Meses disponibles: Julio\n",
    "##### 2014 - Meses disponibles: Febrero, Octubre\n",
    "##### 2015 - Meses disponibles: Julio, Noviembre \n",
    "##### 2016 - Meses disponibles: Julio, Noviembre \n",
    "##### 2017 - Meses disponibles: Abril, Junio, Septiembre, Noviembre \n",
    "##### 2018 - Meses disponibles: Abril, Julio, Noviembre \n",
    "##### 2019 - Meses disponibles: Pendiente\n",
    "##### 2022 - Meses disponibles: Noviembre\n"
   ]
  },
  {
   "cell_type": "code",
   "execution_count": 2,
   "id": "00af5fe3",
   "metadata": {},
   "outputs": [],
   "source": [
    "# Diccionarios\n",
    "meses = {\"enero\":\"01\",\"Febrero\":\"02\",\"marzo\":\"03\",\"abril\":\"04\",\"mayo\":\"05\",\"junio\":\"06\",\"julio\":\"07\",\"agosto\":\"08\",\"septiembre\":\"09\",\"octubre\":\"10\",\"noviembre\":\"11\",\"diciembre\":\"12\"}\n",
    "encuestas = {\"2011\":\"noviembre\",\"2012\":\"septiembre\",\"2013\":\"julio\",\"2014\":\"octubre\",\"2015\":\"noviembre\",\"2016\":\"noviembre\",\"2017\":\"noviembre\",\"2018\":\"noviembre\",\n",
    "            \"2019\":\"noviembre\",\"2022\":\"noviembre\"}\n",
    "años = [\"2018\"]"
   ]
  },
  {
   "cell_type": "code",
   "execution_count": 3,
   "id": "4d870834",
   "metadata": {},
   "outputs": [],
   "source": [
    "# Lectura de archivos de las encuestas EnSat y EnCal\n",
    "EnCals = []\n",
    "habientes_años = []\n",
    "for i in años:\n",
    "    año = i\n",
    "    mes = encuestas[año]\n",
    "    #archivo_e = año + \"_\" + mes + \"_nacional.csv\"\n",
    "    archivo_e = \"Ensat_\" + año + \".xlsx\"\n",
    "    #encuesta =pd.read_csv(\"C:/Users/ccamacho/OneDrive - SESNA/DIA/Proyectos Especiales/IMSS/Bases_ensat/Encuestas_EnCal/\" + archivo_e , encoding=\"windows-1252\")\n",
    "    encuesta_1=pd.read_excel(archivo_e, sheet_name=\"Completo\")\n",
    "    #EnCals.append(encuesta_1) \n",
    "\n",
    "    # Lectura de la base de Derechohabientes\n",
    "\n",
    "    valor = meses[mes]\n",
    "    archivo_d = \"Derechohabientes_\" + año + \"_\" + valor + \".xlsx\"\n",
    "    derechohabientes_1=pd.read_excel(\"C:/Users/ccamacho/OneDrive - SESNA/DIA/Proyectos Especiales/IMSS/Derechohabientes/\" + archivo_d, sheet_name=\"Unicos\")\n",
    "    #habientes_años.append(derechohabientes_1)\n"
   ]
  },
  {
   "cell_type": "code",
   "execution_count": 4,
   "id": "473dc69f",
   "metadata": {},
   "outputs": [
    {
     "name": "stdout",
     "output_type": "stream",
     "text": [
      "La dimensión de la encuesta es: (36568, 131)\n",
      "La dimensión de la base Derechohabientes es: (1261, 23)\n"
     ]
    }
   ],
   "source": [
    "# Verificamos las dimensiones de las tablas\n",
    "print(\"La dimensión de la encuesta es: \" + str(encuesta_1.shape))\n",
    "print(\"La dimensión de la base Derechohabientes es: \" + str(derechohabientes_1.shape))\n",
    "# encuesta.head(2)\n",
    "# derechohabientes.head(2)"
   ]
  },
  {
   "cell_type": "code",
   "execution_count": 5,
   "id": "662c20bf",
   "metadata": {},
   "outputs": [],
   "source": [
    "encuesta = encuesta_1.copy()\n",
    "derechohabientes = derechohabientes_1.copy()\n",
    "if año == \"2011\":\n",
    "    indicadores = pd.merge(encuesta, derechohabientes, how=\"left\", on=\"CLUES\")[[\"CLUES\",\"Sat1\",\"Sat3\",\"Btratou\",\"Atn1fam\",\"Totmed\",\"Fe_Finalnr\",\"TOT_CASOS\"]]\n",
    "        # Cambamos el tipo de dato de cada una de las columnas\n",
    "    indicadores[\"Sat1\"] = indicadores[\"Sat1\"].astype(str)\n",
    "    indicadores[\"Sat3\"] = indicadores[\"Sat3\"].astype(str)\n",
    "    indicadores[\"Btratou\"] = indicadores[\"Btratou\"].astype(str)\n",
    "    indicadores[\"Atn1fam\"] = indicadores[\"Atn1fam\"].astype(str)\n",
    "    indicadores[\"Totmed\"] = indicadores[\"Totmed\"].astype(str)\n",
    "    indicadores[\"Fe_Finalnr\"] = indicadores[\"Fe_Finalnr\"].astype(float)\n",
    "elif año == \"2012\":\n",
    "    indicadores = pd.merge(encuesta, derechohabientes, how=\"left\", on=\"CLUES\")[[\"CLUES\",\"Sat1\",\"Sat2\",\"Sat3\",\"Btratou\",\"Corrup\",\"Atn1fam\",\"Totmed\",\"Fe_Finalnr\",\"TOT_CASOS\"]]\n",
    "    # Cambamos el tipo de dato de cada una de las columnas\n",
    "    indicadores[\"Sat1\"] = indicadores[\"Sat1\"].astype(str)\n",
    "    indicadores[\"Sat2\"] = indicadores[\"Sat2\"].astype(str)\n",
    "    indicadores[\"Sat3\"] = indicadores[\"Sat3\"].astype(str)\n",
    "    indicadores[\"Corrup\"] = indicadores[\"Corrup\"].astype(str)\n",
    "    indicadores[\"Btratou\"] = indicadores[\"Btratou\"].astype(str)\n",
    "    indicadores[\"Atn1fam\"] = indicadores[\"Atn1fam\"].astype(str)\n",
    "    indicadores[\"Totmed\"] = indicadores[\"Totmed\"].astype(str)\n",
    "    indicadores[\"Fe_Finalnr\"] = indicadores[\"Fe_Finalnr\"].astype(float)\n",
    "elif año == \"2013\":\n",
    "    indicadores = pd.merge(encuesta, derechohabientes, how=\"left\", on=\"CLUES\")[[\"CLUES\",\"Sat1\",\"Sat3\",\"Btratou\",\"Corrup\",\"Atn1fam\",\"Totmed\",\"Fe_Finalnr\",\"TOT_CASOS\"]]\n",
    "    # Cambamos el tipo de dato de cada una de las columnas\n",
    "    indicadores[\"Sat1\"] = indicadores[\"Sat1\"].astype(str)\n",
    "    indicadores[\"Sat3\"] = indicadores[\"Sat3\"].astype(str)\n",
    "    indicadores[\"Corrup\"] = indicadores[\"Corrup\"].astype(str)\n",
    "    indicadores[\"Btratou\"] = indicadores[\"Btratou\"].astype(str)\n",
    "    indicadores[\"Atn1fam\"] = indicadores[\"Atn1fam\"].astype(str)\n",
    "    indicadores[\"Totmed\"] = indicadores[\"Totmed\"].astype(str)\n",
    "    indicadores[\"Fe_Finalnr\"] = indicadores[\"Fe_Finalnr\"].astype(float)\n",
    "elif año == \"2014\" or año == \"2015\":\n",
    "    indicadores = pd.merge(encuesta, derechohabientes, how=\"left\", on=\"CLUES\")[[\"CLUES\",\"Sat1\",\"Sat3\",\"Btratou\",\"Totmed\",\"Fe_Finalnr\",\"TOT_CASOS\"]]\n",
    "    # Cambamos el tipo de dato de cada una de las columnas\n",
    "    indicadores[\"Sat1\"] = indicadores[\"Sat1\"].astype(str)\n",
    "    indicadores[\"Sat3\"] = indicadores[\"Sat3\"].astype(str)\n",
    "    indicadores[\"Btratou\"] = indicadores[\"Btratou\"].astype(str)\n",
    "    indicadores[\"Totmed\"] = indicadores[\"Totmed\"].astype(str)\n",
    "    indicadores[\"Fe_Finalnr\"] = indicadores[\"Fe_Finalnr\"].astype(float)\n",
    "elif año == \"2016\" or año == \"2017\":\n",
    "    indicadores = pd.merge(encuesta, derechohabientes, how=\"left\", on=\"CLUES\")[[\"CLUES\",\"Sat1\",\"Sat3\",\"Recomej_A\",\"Recomej_B\",\"Recomej_C\",\"Btratou\",\"Totmed\",\"Fe_Finalnr\",\"TOT_CASOS\"]]\n",
    "    # Cambamos el tipo de dato de cada una de las columnas\n",
    "    indicadores[\"Sat1\"] = indicadores[\"Sat1\"].astype(str)\n",
    "    indicadores[\"Sat3\"] = indicadores[\"Sat3\"].astype(str)\n",
    "    indicadores[\"Recomej_A\"] = indicadores[\"Recomej_A\"].astype(str)\n",
    "    indicadores[\"Recomej_B\"] = indicadores[\"Recomej_B\"].astype(str)\n",
    "    indicadores[\"Recomej_C\"] = indicadores[\"Recomej_C\"].astype(str)\n",
    "    indicadores[\"Totmed\"] = indicadores[\"Totmed\"].astype(str)\n",
    "    indicadores[\"Fe_Finalnr\"] = indicadores[\"Fe_Finalnr\"].astype(float)\n",
    "elif año == \"2018\":\n",
    "    indicadores = pd.merge(encuesta, derechohabientes, how=\"left\", on=\"CLUES\")[[\"CLUES\",\"Sat1\",\"Sat3\",\"Comincomcons\",\"Btratou\",\"Recomej_A\",\"Recomej_B\",\"Recomej_C\",\"Totmed\",\"Fe_Finalnr\",\"TOT_CASOS\"]]\n",
    "    # Cambamos el tipo de dato de cada una de las columnas\n",
    "    indicadores[\"Sat1\"] = indicadores[\"Sat1\"].astype(str)\n",
    "    indicadores[\"Sat3\"] = indicadores[\"Sat3\"].astype(str)\n",
    "    indicadores[\"Comincomcons\"] = indicadores[\"Comincomcons\"].astype(str)\n",
    "    indicadores[\"Recomej_A\"] = indicadores[\"Recomej_A\"].astype(str)\n",
    "    indicadores[\"Recomej_B\"] = indicadores[\"Recomej_B\"].astype(str)\n",
    "    indicadores[\"Recomej_C\"] = indicadores[\"Recomej_C\"].astype(str)\n",
    "    indicadores[\"Btratou\"] = indicadores[\"Btratou\"].astype(str)\n",
    "    indicadores[\"Totmed\"] = indicadores[\"Totmed\"].astype(str)\n",
    "    indicadores[\"Fe_Finalnr\"] = indicadores[\"Fe_Finalnr\"].astype(float)\n",
    "elif año == \"2019\":\n",
    "    indicadores = pd.merge(encuesta, derechohabientes, how=\"left\", on=\"CLUES\")[[\"CLUES\",\"Sat1\",\"Sat3\",\"Comincom\",\"Btratou\",\"Totmed\",\"Fe_Finalnr\",\"TOT_CASOS\"]]\n",
    "    # Cambamos el tipo de dato de cada una de las columnas\n",
    "    indicadores[\"Sat1\"] = indicadores[\"Sat1\"].astype(str)\n",
    "    indicadores[\"Sat3\"] = indicadores[\"Sat3\"].astype(str)\n",
    "    indicadores[\"Comincom\"] = indicadores[\"Comincom\"].astype(str)\n",
    "    indicadores[\"Btratou\"] = indicadores[\"Btratou\"].astype(str)\n",
    "    indicadores[\"Totmed\"] = indicadores[\"Totmed\"].astype(str)\n",
    "    indicadores[\"Fe_Finalnr\"] = indicadores[\"Fe_Finalnr\"].astype(float)\n",
    "elif año == \"2022\":\n",
    "    indicadores = pd.merge(encuesta, derechohabientes, how=\"left\", on=\"CLUES\")[[\"CLUES\",\"sat1\",\"sat3\",\"comincomcons\",\"btratou\",\"atn1fam\",\"atnpref\",\"atnpref2_a\",\"totmed\",\"FE_FinalNR\",\"TOT_CASOS\"]] \n",
    "    indicadores = indicadores.rename(columns={\"sat1\":\"Sat1\",\"sat3\":\"Sat3\",\"comincomcons\":\"Comincomcons\",\n",
    "                                              \"btratou\":\"Btratou\",\"atn1fam\":\"Atn1fam\",\"atnpref\":\"Atnpref\",\n",
    "                                              \"atnpref2_a\":\"Atnpref2_a\",\"totmed\":\"Totmed\",\"FE_FinalNR\":\"Fe_Finalnr\"})\n",
    "    # Cambamos el tipo de dato de cada una de las columnas\n",
    "    indicadores[\"Sat1\"] = indicadores[\"Sat1\"].astype(str)\n",
    "    indicadores[\"Sat3\"] = indicadores[\"Sat3\"].astype(str)\n",
    "    indicadores[\"Comincomcons\"] = indicadores[\"Comincomcons\"].astype(str)\n",
    "    indicadores[\"Btratou\"] = indicadores[\"Btratou\"].astype(str)\n",
    "    indicadores[\"Atn1fam\"] = indicadores[\"Atn1fam\"].astype(str)\n",
    "    indicadores[\"Atnpref\"] = indicadores[\"Atnpref\"].astype(str)\n",
    "    indicadores[\"Atnpref2_a\"] = indicadores[\"Atnpref2_a\"].astype(str)\n",
    "    indicadores[\"Totmed\"] = indicadores[\"Totmed\"].astype(str)\n",
    "    indicadores[\"Fe_Finalnr\"] = indicadores[\"Fe_Finalnr\"].astype(float)\n",
    "#union = pd.merge(encuesta, derechohabientes, how=\"left\", on=\"CLUES\")"
   ]
  },
  {
   "cell_type": "code",
   "execution_count": 6,
   "id": "54d4b112",
   "metadata": {},
   "outputs": [
    {
     "name": "stdout",
     "output_type": "stream",
     "text": [
      "La dimensión de la encuesta es: (36568, 11)\n",
      "CLUES               0\n",
      "Sat1                0\n",
      "Sat3                0\n",
      "Comincomcons        0\n",
      "Btratou             0\n",
      "Recomej_A           0\n",
      "Recomej_B           0\n",
      "Recomej_C           0\n",
      "Totmed              0\n",
      "Fe_Finalnr          0\n",
      "TOT_CASOS       10515\n",
      "dtype: int64\n"
     ]
    },
    {
     "data": {
      "text/html": [
       "<div>\n",
       "<style scoped>\n",
       "    .dataframe tbody tr th:only-of-type {\n",
       "        vertical-align: middle;\n",
       "    }\n",
       "\n",
       "    .dataframe tbody tr th {\n",
       "        vertical-align: top;\n",
       "    }\n",
       "\n",
       "    .dataframe thead th {\n",
       "        text-align: right;\n",
       "    }\n",
       "</style>\n",
       "<table border=\"1\" class=\"dataframe\">\n",
       "  <thead>\n",
       "    <tr style=\"text-align: right;\">\n",
       "      <th></th>\n",
       "      <th>CLUES</th>\n",
       "      <th>Sat1</th>\n",
       "      <th>Sat3</th>\n",
       "      <th>Comincomcons</th>\n",
       "      <th>Btratou</th>\n",
       "      <th>Recomej_A</th>\n",
       "      <th>Recomej_B</th>\n",
       "      <th>Recomej_C</th>\n",
       "      <th>Totmed</th>\n",
       "      <th>Fe_Finalnr</th>\n",
       "      <th>TOT_CASOS</th>\n",
       "    </tr>\n",
       "  </thead>\n",
       "  <tbody>\n",
       "    <tr>\n",
       "      <th>0</th>\n",
       "      <td>ASIMS000033</td>\n",
       "      <td>1</td>\n",
       "      <td>1</td>\n",
       "      <td>2.0</td>\n",
       "      <td>2</td>\n",
       "      <td>13</td>\n",
       "      <td>nan</td>\n",
       "      <td>nan</td>\n",
       "      <td>1.0</td>\n",
       "      <td>21.938486</td>\n",
       "      <td>150648.0</td>\n",
       "    </tr>\n",
       "    <tr>\n",
       "      <th>1</th>\n",
       "      <td>ASIMS000033</td>\n",
       "      <td>2</td>\n",
       "      <td>2</td>\n",
       "      <td>2.0</td>\n",
       "      <td>2</td>\n",
       "      <td>13</td>\n",
       "      <td>nan</td>\n",
       "      <td>nan</td>\n",
       "      <td>1.0</td>\n",
       "      <td>23.316475</td>\n",
       "      <td>150648.0</td>\n",
       "    </tr>\n",
       "    <tr>\n",
       "      <th>2</th>\n",
       "      <td>ASIMS000033</td>\n",
       "      <td>1</td>\n",
       "      <td>1</td>\n",
       "      <td>2.0</td>\n",
       "      <td>1</td>\n",
       "      <td>1</td>\n",
       "      <td>nan</td>\n",
       "      <td>nan</td>\n",
       "      <td>1.0</td>\n",
       "      <td>21.897177</td>\n",
       "      <td>150648.0</td>\n",
       "    </tr>\n",
       "    <tr>\n",
       "      <th>3</th>\n",
       "      <td>ASIMS000033</td>\n",
       "      <td>1</td>\n",
       "      <td>1</td>\n",
       "      <td>2.0</td>\n",
       "      <td>1</td>\n",
       "      <td>3</td>\n",
       "      <td>nan</td>\n",
       "      <td>nan</td>\n",
       "      <td>1.0</td>\n",
       "      <td>22.578265</td>\n",
       "      <td>150648.0</td>\n",
       "    </tr>\n",
       "    <tr>\n",
       "      <th>4</th>\n",
       "      <td>ASIMS000033</td>\n",
       "      <td>1</td>\n",
       "      <td>1</td>\n",
       "      <td>2.0</td>\n",
       "      <td>2</td>\n",
       "      <td>995</td>\n",
       "      <td>nan</td>\n",
       "      <td>nan</td>\n",
       "      <td>1.0</td>\n",
       "      <td>22.859743</td>\n",
       "      <td>150648.0</td>\n",
       "    </tr>\n",
       "  </tbody>\n",
       "</table>\n",
       "</div>"
      ],
      "text/plain": [
       "         CLUES Sat1 Sat3 Comincomcons Btratou Recomej_A Recomej_B Recomej_C  \\\n",
       "0  ASIMS000033    1    1          2.0       2        13       nan       nan   \n",
       "1  ASIMS000033    2    2          2.0       2        13       nan       nan   \n",
       "2  ASIMS000033    1    1          2.0       1         1       nan       nan   \n",
       "3  ASIMS000033    1    1          2.0       1         3       nan       nan   \n",
       "4  ASIMS000033    1    1          2.0       2       995       nan       nan   \n",
       "\n",
       "  Totmed  Fe_Finalnr  TOT_CASOS  \n",
       "0    1.0   21.938486   150648.0  \n",
       "1    1.0   23.316475   150648.0  \n",
       "2    1.0   21.897177   150648.0  \n",
       "3    1.0   22.578265   150648.0  \n",
       "4    1.0   22.859743   150648.0  "
      ]
     },
     "execution_count": 6,
     "metadata": {},
     "output_type": "execute_result"
    }
   ],
   "source": [
    "print(\"La dimensión de la encuesta es: \" + str(indicadores.shape))  # Dimensión de la tabla \n",
    "print(indicadores.isna().sum())  # Sólo una vista de cuantos datos faltante tenemos.\n",
    "indicadores.head()"
   ]
  },
  {
   "cell_type": "code",
   "execution_count": 7,
   "id": "223da04c",
   "metadata": {},
   "outputs": [],
   "source": [
    "indicadores.to_excel(\"union_encuesta_vs_derechohabientes_2018.xlsx\")\n",
    "#indicadores.value_counts(\"Sat1\")\n",
    "#indicadores.value_counts(\"Sat3\")"
   ]
  },
  {
   "cell_type": "markdown",
   "id": "5b475eb4",
   "metadata": {},
   "source": [
    "### \"Número de personas insatisfechas con la atención MÉDICA por cada 1,000 derechohabientes, por unidad de atención médica.\""
   ]
  },
  {
   "cell_type": "code",
   "execution_count": 8,
   "id": "2fe350ed",
   "metadata": {},
   "outputs": [
    {
     "name": "stderr",
     "output_type": "stream",
     "text": [
      "C:\\Users\\ccamacho\\AppData\\Local\\Temp\\ipykernel_22972\\1166855508.py:7: FutureWarning: The default value of numeric_only in DataFrameGroupBy.sum is deprecated. In a future version, numeric_only will default to False. Either specify numeric_only or select only columns which should be valid for the function.\n",
      "  sat1 = sat1.groupby(\"CLUES\").sum().reset_index()\n"
     ]
    }
   ],
   "source": [
    "#########################################################################################################\n",
    "################################################# Sat1 ##################################################\n",
    "#########################################################################################################    \n",
    "sat1 = indicadores.groupby([\"CLUES\", \"Sat1\",\"Fe_Finalnr\"]).agg(conteo = (\"Sat1\", \"count\")).reset_index() #Agrupamos por CLUES y contamos las respuestas\n",
    "sat1 = sat1.query('Sat1 == \"4\" or Sat1 == \"5\"')   # Contamos a todas las personas que respondieron 4 o 5, y agrupamos por unidad médica\n",
    "sat1['Fe_Finalnr'] = sat1['Fe_Finalnr'] * sat1['conteo']\n",
    "sat1 = sat1.groupby(\"CLUES\").sum().reset_index()\n",
    "\n",
    "                                   ## PENDIENTE ##\n",
    "# if año == \"2012\":\n",
    "#     sat2 = indicadores.groupby([\"CLUES\",\"Sat2\",\"Fe_Finalnr\"]).agg(conteo = (\"Sat2\",\"count\")).reset_index()\n",
    "#     sat2 = sat2.query('Sat2 == \"4\" or Sat2 == \"5\"') # Contamos a todas las personas que respondieron 4 o 5, y agrupamos por unidad médica\n",
    "#     sat2['Fe_Finalnr'] = sat2['Fe_Finalnr'] * sat2['conteo']\n",
    "#     sat2 = sat2.groupby(\"CLUES\").sum().reset_index()\n",
    "#     sat2[\"Comentarios\"] = \"Variable Sat2\" \n",
    "#     sat1 = pd.concat([sat1,sat2],axis=0)\n",
    "\n",
    "###################################################################################################################\n",
    "################################################# Sat1_indicador ##################################################\n",
    "################################################################################################################### \n",
    "sat1_i = sat1.copy()   # Hacemos una copia\n",
    "sat1_i = pd.merge(sat1_i, indicadores, how=\"inner\", on=\"CLUES\")[[\"CLUES\",\"Fe_Finalnr_x\",\"conteo\",\"TOT_CASOS\"]] # Unimos el nuevo sat1_i más la tabla indicadores, y traemos ciertas columnas\n",
    "sat1_i['Medida'] = ((sat1_i['Fe_Finalnr_x'] * sat1_i['conteo'])/sat1_i['TOT_CASOS']) *1000   # Hacemos el cálculo del indicador\n",
    "sat1_i = sat1_i.drop_duplicates()    # Eliminamos duplicados\n",
    "sat1_i.dropna(subset=\"Medida\", inplace=True)   # Eliminamos los \"NA\" y remplazamos el DataFrame\n",
    "sat1_i[\"Año\"] = año\n",
    "sat1_i[\"Indicador\"] = \"Número de personas insatisfechas con la atención MÉDICA por cada 1,000 derechohabientes, por unidad de atención médica.\"\n",
    "del sat1_i['TOT_CASOS']\n",
    "del sat1_i['conteo']\n",
    "del sat1_i['Fe_Finalnr_x']"
   ]
  },
  {
   "cell_type": "markdown",
   "id": "4061034e",
   "metadata": {},
   "source": [
    "### \"Número de personas insatisfechas con la atención GENERAL por cada 1,000 derechohabientes, por unidad de atención médica.\""
   ]
  },
  {
   "cell_type": "code",
   "execution_count": 9,
   "id": "30ab0670",
   "metadata": {},
   "outputs": [
    {
     "name": "stderr",
     "output_type": "stream",
     "text": [
      "C:\\Users\\ccamacho\\AppData\\Local\\Temp\\ipykernel_22972\\3735365432.py:7: FutureWarning: The default value of numeric_only in DataFrameGroupBy.sum is deprecated. In a future version, numeric_only will default to False. Either specify numeric_only or select only columns which should be valid for the function.\n",
      "  sat3 = sat3.groupby(\"CLUES\").sum().reset_index()\n"
     ]
    }
   ],
   "source": [
    "#########################################################################################################\n",
    "################################################# Sat3 ##################################################\n",
    "#########################################################################################################    \n",
    "sat3 = indicadores.groupby([\"CLUES\", \"Sat3\",\"Fe_Finalnr\"]).agg(conteo = (\"Sat3\", \"count\")).reset_index()\n",
    "sat3 = sat3.query('Sat3 == \"4\" or Sat3 == \"5\"') # Contamos a todas las personas que respondieron 4 o 5, y agrupamos por unidad médica\n",
    "sat3['Fe_Finalnr'] = sat3['Fe_Finalnr'] * sat3['conteo']\n",
    "sat3 = sat3.groupby(\"CLUES\").sum().reset_index()\n",
    "\n",
    "###################################################################################################################\n",
    "################################################# Sat3_indicador ##################################################\n",
    "################################################################################################################### \n",
    "sat3_i = sat3.copy()   # Hacemos una copia\n",
    "sat3_i = pd.merge(sat3_i, indicadores, how=\"inner\", on=\"CLUES\")[[\"CLUES\",\"Fe_Finalnr_x\",\"conteo\",\"TOT_CASOS\"]] # Unimos el nuevo sat1_i más la tabla indicadores, y traemos ciertas columnas\n",
    "sat3_i['Medida'] = ((sat3_i['Fe_Finalnr_x'] * sat3_i['conteo'])/sat3_i['TOT_CASOS']) *1000   # Hacemos el cálculo del indicador\n",
    "sat3_i = sat3_i.drop_duplicates()    # Eliminamos duplicados\n",
    "sat3_i.dropna(subset=\"Medida\", inplace=True)   # Eliminamos los \"NA\" y remplazamos el DataFrame\n",
    "sat3_i[\"Año\"] = año\n",
    "sat3_i[\"Indicador\"] = \"Número de personas insatisfechas con la atención GENERAL por cada 1,000 derechohabientes, por unidad de atención médica.\"\n",
    "del sat3_i['TOT_CASOS']\n",
    "del sat3_i['conteo']\n",
    "del sat3_i['Fe_Finalnr_x']"
   ]
  },
  {
   "cell_type": "markdown",
   "id": "26d09a55",
   "metadata": {},
   "source": [
    "### \"El personal de salud que le atendió el día de hoy, ¿utilizó frases, palabras o acciones que le hicieran sentir incomodo(a), discriminado(a) o humillado(a)?\""
   ]
  },
  {
   "cell_type": "code",
   "execution_count": 23,
   "id": "2e047a31",
   "metadata": {},
   "outputs": [
    {
     "name": "stderr",
     "output_type": "stream",
     "text": [
      "C:\\Users\\ccamacho\\AppData\\Local\\Temp\\ipykernel_22972\\3127718014.py:8: FutureWarning: The default value of numeric_only in DataFrameGroupBy.sum is deprecated. In a future version, numeric_only will default to False. Either specify numeric_only or select only columns which should be valid for the function.\n",
      "  comincomcons = comincomcons.groupby(\"CLUES\").sum().reset_index()\n"
     ]
    }
   ],
   "source": [
    "#########################################################################################################\n",
    "################################################# Comincomcons ##########################################\n",
    "#########################################################################################################    \n",
    "if año == \"2018\" or  año == \"2022\":\n",
    "    comincomcons = indicadores.groupby([\"CLUES\", \"Comincomcons\",\"Fe_Finalnr\"]).agg(conteo = (\"Comincomcons\", \"count\")).reset_index()\n",
    "    comincomcons = comincomcons.query('Comincomcons == \"1\" or Comincomcons == \"1.0\"') # Contamos a todas las personas que respondieron 1, y agrupamos por unidad médica\n",
    "    comincomcons['Fe_Finalnr'] = comincomcons['Fe_Finalnr'] * comincomcons['conteo']\n",
    "    comincomcons = comincomcons.groupby(\"CLUES\").sum().reset_index()\n",
    "\n",
    "elif año == \"2019\":\n",
    "    comincomcons = indicadores.groupby([\"CLUES\", \"Comincom\",\"Fe_Finalnr\"]).agg(conteo = (\"Comincom\", \"count\")).reset_index()\n",
    "    comincomcons = comincomcons.query('Comincom == \"1\" or Comincom == \"1.0\"') # Contamos a todas las personas que respondieron 1, y agrupamos por unidad médica\n",
    "    comincomcons['Fe_Finalnr'] = comincomcons['Fe_Finalnr'] * comincomcons['conteo']\n",
    "    comincomcons = comincomcons.groupby(\"CLUES\").sum().reset_index()\n",
    "\n",
    "###################################################################################################################\n",
    "################################################# Comincomcons_indicador ##################################################\n",
    "################################################################################################################### \n",
    "comincomcons_i = comincomcons.copy()   # Hacemos una copia\n",
    "comincomcons_i = pd.merge(comincomcons_i, indicadores, how=\"inner\", on=\"CLUES\")[[\"CLUES\",\"Fe_Finalnr_x\",\"conteo\",\"TOT_CASOS\"]] # Unimos el nuevo sat1_i más la tabla indicadores, y traemos ciertas columnas\n",
    "comincomcons_i['Medida'] = ((comincomcons_i['Fe_Finalnr_x'] * comincomcons_i['conteo'])/comincomcons_i['TOT_CASOS']) *1000   # Hacemos el cálculo del indicador\n",
    "comincomcons_i = comincomcons_i.drop_duplicates()    # Eliminamos duplicados\n",
    "comincomcons_i.dropna(subset=\"Medida\", inplace=True)   # Eliminamos los \"NA\" y remplazamos el DataFrame\n",
    "comincomcons_i[\"Año\"] = año\n",
    "comincomcons_i[\"Indicador\"] = \"Número de personas que se sintieron incómodas, discriminadas o humilladas por parte del personal de salud por 1,000 derechohabientes, por unidad de atención médica\"\n",
    "del comincomcons_i['TOT_CASOS']\n",
    "del comincomcons_i['conteo']\n",
    "del comincomcons_i['Fe_Finalnr_x']"
   ]
  },
  {
   "cell_type": "markdown",
   "id": "38ee9394",
   "metadata": {},
   "source": [
    "### \"De acuerdo a su experiencia, ¿qué recomendaría para mejorar el servicio de esta unidad médica? Mención 1\"\n",
    "### \"De acuerdo a su experiencia, ¿qué recomendaría para mejorar el servicio de esta unidad médica? Mención 2\"\n",
    "### \"De acuerdo a su experiencia, ¿qué recomendaría para mejorar el servicio de esta unidad médica? Mención 3\""
   ]
  },
  {
   "cell_type": "code",
   "execution_count": 11,
   "id": "a28189c7",
   "metadata": {},
   "outputs": [
    {
     "name": "stderr",
     "output_type": "stream",
     "text": [
      "C:\\Users\\ccamacho\\AppData\\Local\\Temp\\ipykernel_22972\\1544713857.py:29: FutureWarning: The default value of numeric_only in DataFrameGroupBy.sum is deprecated. In a future version, numeric_only will default to False. Either specify numeric_only or select only columns which should be valid for the function.\n",
      "  Recomej_A = Recomej_A.groupby(\"CLUES\").sum().reset_index()\n",
      "C:\\Users\\ccamacho\\AppData\\Local\\Temp\\ipykernel_22972\\1544713857.py:35: FutureWarning: The default value of numeric_only in DataFrameGroupBy.sum is deprecated. In a future version, numeric_only will default to False. Either specify numeric_only or select only columns which should be valid for the function.\n",
      "  Recomej_B = Recomej_B.groupby(\"CLUES\").sum().reset_index()\n",
      "C:\\Users\\ccamacho\\AppData\\Local\\Temp\\ipykernel_22972\\1544713857.py:41: FutureWarning: The default value of numeric_only in DataFrameGroupBy.sum is deprecated. In a future version, numeric_only will default to False. Either specify numeric_only or select only columns which should be valid for the function.\n",
      "  Recomej_C = Recomej_C.groupby(\"CLUES\").sum().reset_index()\n"
     ]
    }
   ],
   "source": [
    "#########################################################################################################\n",
    "################################################# Recomej ##################################################\n",
    "#########################################################################################################    \n",
    "if año == \"2016\" or año == \"2017\":\n",
    "    Recomej_A = indicadores.groupby([\"CLUES\", \"Recomej_A\",\"Fe_Finalnr\"]).agg(conteo = (\"Recomej_A\", \"count\")).reset_index()\n",
    "    Recomej_A = Recomej_A.query('Recomej_A == \"118\"') # Contamos a todas las personas que respondieron 118, y agrupamos por unidad médica\n",
    "    Recomej_A['Fe_Finalnr'] = Recomej_A['Fe_Finalnr'] * Recomej_A['conteo']\n",
    "    Recomej_A = Recomej_A.groupby(\"CLUES\").sum().reset_index()\n",
    "    Recomej_A['Recomej'] = \"Recomej_A\"\n",
    "\n",
    "    Recomej_B = indicadores.groupby([\"CLUES\", \"Recomej_B\",\"Fe_Finalnr\"]).agg(conteo = (\"Recomej_B\", \"count\")).reset_index()\n",
    "    Recomej_B = Recomej_B.query('Recomej_B == \"118.0\"') # Contamos a todas las personas que respondieron 118, y agrupamos por unidad médica\n",
    "    Recomej_B['Fe_Finalnr'] = Recomej_B['Fe_Finalnr'] * Recomej_B['conteo']\n",
    "    Recomej_B = Recomej_B.groupby(\"CLUES\").sum().reset_index()\n",
    "    Recomej_B['Recomej'] = \"Recomej_B\"\n",
    "\n",
    "    Recomej_C = indicadores.groupby([\"CLUES\", \"Recomej_C\",\"Fe_Finalnr\"]).agg(conteo = (\"Recomej_C\", \"count\")).reset_index()\n",
    "    Recomej_C = Recomej_C.query('Recomej_C == \"118.0\"') # Contamos a todas las personas que respondieron 118, y agrupamos por unidad médica\n",
    "    Recomej_C['Fe_Finalnr'] = Recomej_C['Fe_Finalnr'] * Recomej_C['conteo']\n",
    "    Recomej_C = Recomej_C.groupby(\"CLUES\").sum().reset_index()\n",
    "    Recomej_C['Recomej'] = \"Recomej_C\"\n",
    "\n",
    "    recomej = pd.concat([Recomej_A, Recomej_B, Recomej_C], axis=0)\n",
    "\n",
    "elif año == \"2018\":\n",
    "     Recomej_A = indicadores.groupby([\"CLUES\", \"Recomej_A\",\"Fe_Finalnr\"]).agg(conteo = (\"Recomej_A\", \"count\")).reset_index()\n",
    "     Recomej_A = Recomej_A.query('Recomej_A == \"55\" or Recomej_A == \"55.0\"') # Contamos a todas las personas que respondieron 118, y agrupamos por unidad médica\n",
    "     Recomej_A['Fe_Finalnr'] = Recomej_A['Fe_Finalnr'] * Recomej_A['conteo']\n",
    "     Recomej_A = Recomej_A.groupby(\"CLUES\").sum().reset_index()\n",
    "     Recomej_A['Recomej'] = \"Recomej_A\"\n",
    "\n",
    "     Recomej_B = indicadores.groupby([\"CLUES\", \"Recomej_B\",\"Fe_Finalnr\"]).agg(conteo = (\"Recomej_B\", \"count\")).reset_index()\n",
    "     Recomej_B = Recomej_B.query('Recomej_B == \"55\" or Recomej_B == \"55.0\"') # Contamos a todas las personas que respondieron 118, y agrupamos por unidad médica\n",
    "     Recomej_B['Fe_Finalnr'] = Recomej_B['Fe_Finalnr'] * Recomej_B['conteo']\n",
    "     Recomej_B = Recomej_B.groupby(\"CLUES\").sum().reset_index()\n",
    "     Recomej_B['Recomej'] = \"Recomej_B\"\n",
    "\n",
    "     Recomej_C = indicadores.groupby([\"CLUES\", \"Recomej_C\",\"Fe_Finalnr\"]).agg(conteo = (\"Recomej_C\", \"count\")).reset_index()\n",
    "     Recomej_C = Recomej_C.query('Recomej_C == \"55\" or Recomej_C == \"55.0\"') # Contamos a todas las personas que respondieron 118, y agrupamos por unidad médica\n",
    "     Recomej_C['Fe_Finalnr'] = Recomej_C['Fe_Finalnr'] * Recomej_C['conteo']\n",
    "     Recomej_C = Recomej_C.groupby(\"CLUES\").sum().reset_index()\n",
    "     Recomej_C['Recomej'] = \"Recomej_C\"\n",
    "\n",
    "     recomej = pd.concat([Recomej_A, Recomej_B, Recomej_C], axis=0)\n",
    "\n",
    "recomej_i = recomej.copy()   # Hacemos una copia\n",
    "recomej_i = pd.merge(recomej_i, indicadores, how=\"inner\", on=\"CLUES\")[[\"CLUES\",\"Fe_Finalnr_x\",\"conteo\",\"Recomej\",\"TOT_CASOS\"]] # Unimos el nuevo sat1_i más la tabla indicadores, y traemos ciertas columnas\n",
    "recomej_i['Medida'] = ((recomej_i['Fe_Finalnr_x'] * recomej_i['conteo'])/recomej_i['TOT_CASOS']) *1000   # Hacemos el cálculo del indicador\n",
    "recomej_i = recomej_i.drop_duplicates()    # Eliminamos duplicados\n",
    "recomej_i.dropna(subset=\"Medida\", inplace=True)   # Eliminamos los \"NA\" y remplazamos el DataFrame\n",
    "recomej_i[\"Año\"] = año\n",
    "recomej_i[\"Indicador\"] = \"De acuerdo a su experiencia, ¿qué recomendaría para mejorar el servicio de esta unidad médica?\"\n",
    "del recomej_i['TOT_CASOS']\n",
    "del recomej_i['conteo']\n",
    "del recomej_i['Fe_Finalnr_x']\n"
   ]
  },
  {
   "cell_type": "markdown",
   "id": "272f5562",
   "metadata": {},
   "source": [
    "### \"Durante la atención que recibió en la unidad médica ¿alguien le pidió dinero o le cobró de alguna forma por brindarle el servicio?\""
   ]
  },
  {
   "cell_type": "code",
   "execution_count": 12,
   "id": "65ea0e56",
   "metadata": {},
   "outputs": [],
   "source": [
    "#########################################################################################################\n",
    "################################################# Corrup ##################################################\n",
    "#########################################################################################################    \n",
    "if año == \"2012\" or año == \"2013\":\n",
    "    corrup = indicadores.groupby([\"CLUES\", \"Corrup\",\"Fe_Finalnr\"]).agg(conteo = (\"Corrup\", \"count\")).reset_index()\n",
    "    corrup = corrup.query('Corrup == \"1\"') # Contamos a todas las personas que respondieron 1, y agrupamos por unidad médica\n",
    "    corrup['Fe_Finalnr'] = corrup['Fe_Finalnr'] * corrup['conteo']\n",
    "    corrup = corrup.groupby(\"CLUES\").sum().reset_index()\n",
    "\n",
    "###################################################################################################################\n",
    "################################################# Corrup_indicador ##################################################\n",
    "################################################################################################################### \n",
    "    corrup_i = corrup.copy()   # Hacemos una copia\n",
    "    corrup_i = pd.merge(corrup_i, indicadores, how=\"inner\", on=\"CLUES\")[[\"CLUES\",\"Fe_Finalnr_x\",\"conteo\",\"TOT_CASOS\"]] # Unimos el nuevo sat1_i más la tabla indicadores, y traemos ciertas columnas\n",
    "    corrup_i['Medida'] = ((corrup_i['Fe_Finalnr_x'] * corrup_i['conteo'])/corrup_i['TOT_CASOS']) *1000   # Hacemos el cálculo del indicador\n",
    "    corrup_i = corrup_i.drop_duplicates()    # Eliminamos duplicados\n",
    "    corrup_i.dropna(subset=\"Medida\", inplace=True)   # Eliminamos los \"NA\" y remplazamos el DataFrame\n",
    "    corrup_i[\"Año\"] = año\n",
    "    corrup_i[\"Indicador\"] = \"Durante la atención que recibió en la unidad médica ¿alguien le pidió dinero o le cobró de alguna forma por brindarle el servicio?\"\n",
    "    del corrup_i['TOT_CASOS']\n",
    "    del corrup_i['conteo']\n",
    "    del corrup_i['Fe_Finalnr_x']"
   ]
  },
  {
   "cell_type": "markdown",
   "id": "45792491",
   "metadata": {},
   "source": [
    "### \"Número de personas que calificaron regular, malo o pésimo el trato, por 1,000 derechohabientes, por unidad de atención médica.\""
   ]
  },
  {
   "cell_type": "code",
   "execution_count": 13,
   "id": "6292d0fe",
   "metadata": {},
   "outputs": [
    {
     "name": "stderr",
     "output_type": "stream",
     "text": [
      "C:\\Users\\ccamacho\\AppData\\Local\\Temp\\ipykernel_22972\\2145453421.py:13: FutureWarning: The default value of numeric_only in DataFrameGroupBy.sum is deprecated. In a future version, numeric_only will default to False. Either specify numeric_only or select only columns which should be valid for the function.\n",
      "  btratou = btratou.groupby(\"CLUES\").sum().reset_index()\n"
     ]
    }
   ],
   "source": [
    "#########################################################################################################\n",
    "################################################# Btratou ##################################################\n",
    "#########################################################################################################\n",
    "if año == \"2011\" or año == \"2012\":    \n",
    "    btratou = indicadores.groupby([\"CLUES\", \"Btratou\",\"Fe_Finalnr\"]).agg(conteo = (\"Btratou\", \"count\")).reset_index()\n",
    "    btratou = btratou.query('Btratou == \"2\"') # Contamos a todas las personas que respondieron 2, y agrupamos por unidad médica\n",
    "    btratou['Fe_Finalnr'] = btratou['Fe_Finalnr'] * btratou['conteo']\n",
    "    btratou = btratou.groupby(\"CLUES\").sum().reset_index()\n",
    "else:    \n",
    "    btratou = indicadores.groupby([\"CLUES\", \"Btratou\",\"Fe_Finalnr\"]).agg(conteo = (\"Btratou\", \"count\")).reset_index()\n",
    "    btratou = btratou.query('Btratou == \"3\" or Btratou == \"4\" or Btratou == \"5\"')  # Contamos a todas las personas que respondieron 3,4,5 y agrupamos por unidad médica\n",
    "    btratou['Fe_Finalnr'] = btratou['Fe_Finalnr'] * btratou['conteo']\n",
    "    btratou = btratou.groupby(\"CLUES\").sum().reset_index()\n",
    "\n",
    "###################################################################################################################\n",
    "################################################# btratou_indicador ##################################################\n",
    "################################################################################################################### \n",
    "btratou_i = btratou.copy()   # Hacemos una copia\n",
    "btratou_i = pd.merge(btratou_i, indicadores, how=\"inner\", on=\"CLUES\")[[\"CLUES\",\"Fe_Finalnr_x\",\"conteo\",\"TOT_CASOS\"]] # Unimos el nuevo sat1_i más la tabla indicadores, y traemos ciertas columnas\n",
    "btratou_i['Medida'] = ((btratou_i['Fe_Finalnr_x'] * btratou_i['conteo'])/btratou_i['TOT_CASOS']) * 1000   # Hacemos el cálculo del indicador\n",
    "btratou_i = btratou_i.drop_duplicates()    # Eliminamos duplicados\n",
    "btratou_i.dropna(subset=\"Medida\", inplace=True)   # Eliminamos los \"NA\" y remplazamos el DataFrame\n",
    "btratou_i[\"Año\"] = año\n",
    "btratou_i[\"Indicador\"] = \"Número de personas que calificaron regular, malo o pésimo el trato, por 1,000 derechohabientes, por unidad de atención médica.\"\n",
    "del btratou_i['TOT_CASOS']\n",
    "del btratou_i['conteo']\n",
    "del btratou_i['Fe_Finalnr_x']"
   ]
  },
  {
   "cell_type": "markdown",
   "id": "bb70fb49",
   "metadata": {},
   "source": [
    "### \"Número de personas que perciben que el personal de la unidad atiende primero a sus familiares/amigos, por 1,000 derechohabientes, por unidad de atención médica.\""
   ]
  },
  {
   "cell_type": "code",
   "execution_count": 14,
   "id": "2b84c343",
   "metadata": {},
   "outputs": [],
   "source": [
    "#########################################################################################################\n",
    "################################################# Atn1fam ##################################################\n",
    "#########################################################################################################    \n",
    "if año == \"2011\" or año == \"2012\" or año == \"2013\" or año == \"2022\": \n",
    "    atn1fam = indicadores.groupby([\"CLUES\", \"Atn1fam\",\"Fe_Finalnr\"]).agg(conteo = (\"Atn1fam\", \"count\")).reset_index()\n",
    "    atn1fam = atn1fam.query('Atn1fam == \"1\"') # Contamos a todas las personas que respondieron 1, y agrupamos por unidad médica\n",
    "    atn1fam['Fe_Finalnr'] = atn1fam['Fe_Finalnr'] * atn1fam['conteo']\n",
    "    atn1fam = atn1fam.groupby(\"CLUES\").sum().reset_index()\n",
    "###################################################################################################################\n",
    "################################################# atn1fam_indicador ##################################################\n",
    "################################################################################################################### \n",
    "    atn1fam_i = atn1fam.copy()   # Hacemos una copia\n",
    "    atn1fam_i = pd.merge(atn1fam_i, indicadores, how=\"inner\", on=\"CLUES\")[[\"CLUES\",\"Fe_Finalnr_x\",\"conteo\",\"TOT_CASOS\"]] # Unimos el nuevo sat1_i más la tabla indicadores, y traemos ciertas columnas\n",
    "    atn1fam_i['Medida'] = ((atn1fam_i['Fe_Finalnr_x'] * atn1fam_i['conteo'])/atn1fam_i['TOT_CASOS']) *1000   # Hacemos el cálculo del indicador\n",
    "    atn1fam_i = atn1fam_i.drop_duplicates()    # Eliminamos duplicados\n",
    "    atn1fam_i.dropna(subset=\"Medida\", inplace=True)   # Eliminamos los \"NA\" y remplazamos el DataFrame\n",
    "    atn1fam_i[\"Año\"] = año\n",
    "    atn1fam_i[\"Indicador\"] = \"Número de personas que perciben que el personal de la unidad atiende primero a sus familiares/amigos, por 1,000 derechohabientes, por unidad de atención médica.\"\n",
    "    del atn1fam_i['TOT_CASOS']\n",
    "    del atn1fam_i['conteo']\n",
    "    del atn1fam_i['Fe_Finalnr_x']"
   ]
  },
  {
   "cell_type": "markdown",
   "id": "4e638785",
   "metadata": {},
   "source": [
    "### \"¿Considera que en esta unidad médica se brinda atención igual a todas las personas usuarias?\""
   ]
  },
  {
   "cell_type": "code",
   "execution_count": 15,
   "id": "11876ad2",
   "metadata": {},
   "outputs": [],
   "source": [
    "#########################################################################################################\n",
    "################################################# Atnpref ###############################################\n",
    "#########################################################################################################    \n",
    "if año == \"2022\":   \n",
    "    atnpref = indicadores.groupby([\"CLUES\", \"Atnpref\",\"Fe_Finalnr\"]).agg(conteo = (\"Atnpref\", \"count\")).reset_index()\n",
    "    atnpref = atnpref.query('Atnpref == \"1\"') # Contamos a todas las personas que respondieron 1, y agrupamos por unidad médica\n",
    "    atnpref['Fe_Finalnr'] = atnpref['Fe_Finalnr'] * atnpref['conteo']\n",
    "    atnpref = atnpref.groupby(\"CLUES\").sum().reset_index()\n",
    "\n",
    "###################################################################################################################\n",
    "################################################# Atnpref_indicador ##################################################\n",
    "################################################################################################################### \n",
    "    atnpref_i = atnpref.copy()   # Hacemos una copia\n",
    "    atnpref_i = pd.merge(atnpref_i, indicadores, how=\"inner\", on=\"CLUES\")[[\"CLUES\",\"Fe_Finalnr_x\",\"conteo\",\"TOT_CASOS\"]] # Unimos el nuevo sat1_i más la tabla indicadores, y traemos ciertas columnas\n",
    "    atnpref_i['Medida'] = ((atnpref_i['Fe_Finalnr_x'] * atnpref_i['conteo'])/atnpref_i['TOT_CASOS']) *1000   # Hacemos el cálculo del indicador\n",
    "    atnpref_i = atnpref_i.drop_duplicates()    # Eliminamos duplicados\n",
    "    atnpref_i.dropna(subset=\"Medida\", inplace=True)   # Eliminamos los \"NA\" y remplazamos el DataFrame\n",
    "    atnpref_i[\"Año\"] = año\n",
    "    atnpref_i[\"Indicador\"] = \"¿Considera que en esta unidad médica se brinda atención igual a todas las personas usuarias?\"\n",
    "    del atnpref_i['TOT_CASOS']\n",
    "    del atnpref_i['conteo']\n",
    "    del atnpref_i['Fe_Finalnr_x']"
   ]
  },
  {
   "cell_type": "markdown",
   "id": "dc4512e3",
   "metadata": {},
   "source": [
    "### \"¿Con qué frecuencia ha observado que en esta unidad médica se presentan actos que podrían percibirse como prácticas de corrupción?\""
   ]
  },
  {
   "cell_type": "code",
   "execution_count": 16,
   "id": "a73ee5d9",
   "metadata": {},
   "outputs": [],
   "source": [
    "#########################################################################################################\n",
    "################################################# Atnpref2_a ############################################\n",
    "#########################################################################################################    \n",
    "if año == \"2022\":    \n",
    "    atnpref2_1 = indicadores.groupby([\"CLUES\", \"Atnpref2_a\",\"Fe_Finalnr\"]).agg(conteo = (\"Atnpref2_a\", \"count\")).reset_index()\n",
    "    atnpref2_1 = atnpref2_1.query('Atnpref2_a == \"1\"') # Contamos a todas las personas que respondieron 1, y agrupamos por unidad médica\n",
    "    atnpref2_1['Fe_Finalnr'] = atnpref2_1['Fe_Finalnr'] * atnpref2_1['conteo']\n",
    "    atnpref2_1 = atnpref2_1.groupby(\"CLUES\").sum().reset_index()\n",
    "\n",
    "###################################################################################################################\n",
    "################################################# Atnpref2_a_indicador ##################################################\n",
    "################################################################################################################### \n",
    "    atnpref2_a_i = atnpref2_1.copy()   # Hacemos una copia\n",
    "    atnpref2_a_i = pd.merge(atnpref2_a_i, indicadores, how=\"inner\", on=\"CLUES\")[[\"CLUES\",\"Fe_Finalnr_x\",\"conteo\",\"TOT_CASOS\"]] # Unimos el nuevo sat1_i más la tabla indicadores, y traemos ciertas columnas\n",
    "    atnpref2_a_i['Medida'] = ((atnpref2_a_i['Fe_Finalnr_x'] * atnpref2_a_i['conteo'])/atnpref2_a_i['TOT_CASOS']) *1000   # Hacemos el cálculo del indicador\n",
    "    atnpref2_a_i = atnpref2_a_i.drop_duplicates()    # Eliminamos duplicados\n",
    "    atnpref2_a_i.dropna(subset=\"Medida\", inplace=True)   # Eliminamos los \"NA\" y remplazamos el DataFrame\n",
    "    atnpref2_a_i[\"Año\"] = año\n",
    "    atnpref2_a_i[\"Indicador\"] = \"¿Con qué frecuencia ha observado que en esta unidad médica se presentan actos que podrían percibirse como prácticas de corrupción?\"\n",
    "    del atnpref2_a_i['TOT_CASOS']\n",
    "    del atnpref2_a_i['conteo']\n",
    "    del atnpref2_a_i['Fe_Finalnr_x']"
   ]
  },
  {
   "cell_type": "markdown",
   "id": "8a8278b8",
   "metadata": {},
   "source": [
    "### \"Número de personas que no recibieron medicamento en la farmacia de la unidad por cada 1,000 derechohabientes, por unidad de atención médica.\""
   ]
  },
  {
   "cell_type": "code",
   "execution_count": 17,
   "id": "c3b729db",
   "metadata": {},
   "outputs": [
    {
     "name": "stderr",
     "output_type": "stream",
     "text": [
      "C:\\Users\\ccamacho\\AppData\\Local\\Temp\\ipykernel_22972\\474894640.py:7: FutureWarning: The default value of numeric_only in DataFrameGroupBy.sum is deprecated. In a future version, numeric_only will default to False. Either specify numeric_only or select only columns which should be valid for the function.\n",
      "  totmed = totmed.groupby(\"CLUES\").sum().reset_index()\n"
     ]
    }
   ],
   "source": [
    "#########################################################################################################\n",
    "################################################# Totmed ##################################################\n",
    "#########################################################################################################    \n",
    "totmed = indicadores.groupby([\"CLUES\", \"Totmed\",\"Fe_Finalnr\"]).agg(conteo = (\"Totmed\", \"count\")).reset_index()\n",
    "totmed = totmed.query('Totmed == \"3.0\" or Totmed == \"3\" or Totmed == 3') # Contamos a todas las personas que respondieron 3.0, y agrupamos por unidad médica\n",
    "totmed['Fe_Finalnr'] = totmed['Fe_Finalnr'] * totmed['conteo']\n",
    "totmed = totmed.groupby(\"CLUES\").sum().reset_index()\n",
    "\n",
    "###################################################################################################################\n",
    "################################################# totmed_indicador ##################################################\n",
    "################################################################################################################### \n",
    "totmed_i = totmed.copy()   # Hacemos una copia\n",
    "totmed_i = pd.merge(totmed_i, indicadores, how=\"inner\", on=\"CLUES\")[[\"CLUES\",\"Fe_Finalnr_x\",\"conteo\",\"TOT_CASOS\"]] # Unimos el nuevo sat1_i más la tabla indicadores, y traemos ciertas columnas\n",
    "totmed_i['Medida'] = ((totmed_i['Fe_Finalnr_x'] * totmed_i['conteo'])/totmed_i['TOT_CASOS'])*1000   # Hacemos el cálculo del indicador\n",
    "totmed_i = totmed_i.drop_duplicates()    # Eliminamos duplicados\n",
    "totmed_i.dropna(subset=\"Medida\", inplace=True)   # Eliminamos los \"NA\" y remplazamos el DataFrame\n",
    "totmed_i[\"Año\"] = año\n",
    "totmed_i[\"Indicador\"] = \"Número de personas que no recibieron medicamento en la farmacia de la unidad por cada 1,000 derechohabientes, por unidad de atención médica.\"\n",
    "del totmed_i['TOT_CASOS']\n",
    "del totmed_i['conteo']\n",
    "del totmed_i['Fe_Finalnr_x']"
   ]
  },
  {
   "cell_type": "code",
   "execution_count": 29,
   "id": "6ba56551",
   "metadata": {},
   "outputs": [],
   "source": [
    "# print(\"sat1:\\n\" + str(sat1.head(2)))\n",
    "# print(\"sat3:\\n\" + str(sat3.head(2)))\n",
    "# print(\"btratou:\\n\" + str(btratou.head(2)))\n",
    "# print(\"atn1fam:\\n\" + str(atn1fam.head(2)))\n",
    "# print(\"totmed:\\n\" + str(totmed.head(2)))"
   ]
  },
  {
   "cell_type": "code",
   "execution_count": 30,
   "id": "10661f7b",
   "metadata": {},
   "outputs": [],
   "source": [
    "# print(\"sat1:\\n\" + str(sat1_i.head(2)))\n",
    "# print(\"sat3:\\n\" + str(sat3_i.head(2)))\n",
    "# print(\"btratou:\\n\" + str(btratou_i.head(2)))\n",
    "# print(\"atn1fam:\\n\" + str(atn1fam_i.head(2)))\n",
    "# print(\"totmed:\\n\" + str(totmed_i.head(2)))"
   ]
  },
  {
   "cell_type": "code",
   "execution_count": 24,
   "id": "b754fdc5",
   "metadata": {},
   "outputs": [],
   "source": [
    "if año == \"2011\":\n",
    "    indi_2011 = pd.concat([sat1_i,sat3_i,atn1fam_i,btratou_i,totmed_i],axis=0)\n",
    "elif año == \"2012\":\n",
    "    indi_2012 = pd.concat([sat1_i,sat3_i,atn1fam_i,corrup_i,btratou_i,totmed_i],axis=0)\n",
    "elif año == \"2013\":\n",
    "    indi_2013 = pd.concat([sat1_i,sat3_i,atn1fam_i,corrup_i,btratou_i,totmed_i],axis=0)\n",
    "elif año == \"2014\":\n",
    "    indi_2014 = pd.concat([sat1_i,sat3_i,btratou_i,totmed_i],axis=0)\n",
    "elif año == \"2015\":\n",
    "    indi_2015 = pd.concat([sat1_i,sat3_i,btratou_i,totmed_i],axis=0)\n",
    "elif año == \"2016\":\n",
    "    indi_2016 = pd.concat([sat1_i,sat3_i,recomej_i,btratou_i,totmed_i],axis=0)\n",
    "elif año == \"2017\":\n",
    "    indi_2017 = pd.concat([sat1_i,sat3_i,recomej_i,btratou_i,totmed_i],axis=0)\n",
    "elif año == \"2018\":\n",
    "    indi_2018 = pd.concat([sat1_i,sat3_i,comincomcons_i,recomej_i,btratou_i,totmed_i],axis=0)\n",
    "elif año == \"2019\":\n",
    "    indi_2019 = pd.concat([sat1_i,sat3_i,comincomcons_i,recomej_i,btratou_i,totmed_i],axis=0)\n",
    "elif año == \"2022\":\n",
    "    indi_2022 = pd.concat([sat1_i,sat3_i,comincomcons_i,recomej_i,atn1fam_i,atnpref_i,atnpref2_a_i,btratou_i,totmed_i],axis=0)"
   ]
  },
  {
   "cell_type": "code",
   "execution_count": 26,
   "id": "d6f07b28",
   "metadata": {},
   "outputs": [
    {
     "data": {
      "text/html": [
       "<div>\n",
       "<style scoped>\n",
       "    .dataframe tbody tr th:only-of-type {\n",
       "        vertical-align: middle;\n",
       "    }\n",
       "\n",
       "    .dataframe tbody tr th {\n",
       "        vertical-align: top;\n",
       "    }\n",
       "\n",
       "    .dataframe thead th {\n",
       "        text-align: right;\n",
       "    }\n",
       "</style>\n",
       "<table border=\"1\" class=\"dataframe\">\n",
       "  <thead>\n",
       "    <tr style=\"text-align: right;\">\n",
       "      <th></th>\n",
       "      <th>CLUES</th>\n",
       "      <th>Medida</th>\n",
       "      <th>Año</th>\n",
       "      <th>Indicador</th>\n",
       "      <th>Recomej</th>\n",
       "    </tr>\n",
       "  </thead>\n",
       "  <tbody>\n",
       "    <tr>\n",
       "      <th>32081</th>\n",
       "      <td>TSIMS000380</td>\n",
       "      <td>2.615668</td>\n",
       "      <td>2018</td>\n",
       "      <td>Número de personas insatisfechas con la atenci...</td>\n",
       "      <td>NaN</td>\n",
       "    </tr>\n",
       "    <tr>\n",
       "      <th>31218</th>\n",
       "      <td>TSIMS000380</td>\n",
       "      <td>1.166001</td>\n",
       "      <td>2018</td>\n",
       "      <td>Número de personas insatisfechas con la atenci...</td>\n",
       "      <td>NaN</td>\n",
       "    </tr>\n",
       "    <tr>\n",
       "      <th>29978</th>\n",
       "      <td>TSIMS000380</td>\n",
       "      <td>4.667764</td>\n",
       "      <td>2018</td>\n",
       "      <td>Número de personas que calificaron regular, ma...</td>\n",
       "      <td>NaN</td>\n",
       "    </tr>\n",
       "    <tr>\n",
       "      <th>31409</th>\n",
       "      <td>TSIMS000380</td>\n",
       "      <td>23.386311</td>\n",
       "      <td>2018</td>\n",
       "      <td>Número de personas que calificaron regular, ma...</td>\n",
       "      <td>NaN</td>\n",
       "    </tr>\n",
       "  </tbody>\n",
       "</table>\n",
       "</div>"
      ],
      "text/plain": [
       "             CLUES     Medida   Año  \\\n",
       "32081  TSIMS000380   2.615668  2018   \n",
       "31218  TSIMS000380   1.166001  2018   \n",
       "29978  TSIMS000380   4.667764  2018   \n",
       "31409  TSIMS000380  23.386311  2018   \n",
       "\n",
       "                                               Indicador Recomej  \n",
       "32081  Número de personas insatisfechas con la atenci...     NaN  \n",
       "31218  Número de personas insatisfechas con la atenci...     NaN  \n",
       "29978  Número de personas que calificaron regular, ma...     NaN  \n",
       "31409  Número de personas que calificaron regular, ma...     NaN  "
      ]
     },
     "execution_count": 26,
     "metadata": {},
     "output_type": "execute_result"
    }
   ],
   "source": [
    "indi_2018[indi_2018[\"CLUES\"] == \"TSIMS000380\"]"
   ]
  },
  {
   "cell_type": "code",
   "execution_count": 780,
   "id": "6f305ba9",
   "metadata": {},
   "outputs": [],
   "source": [
    "indicadores_todo = pd.concat([indi_2011,indi_2012,indi_2013,indi_2014,indi_2015,indi_2016,indi_2017,indi_2018,indi_2019,indi_2022], axis=0)"
   ]
  },
  {
   "cell_type": "code",
   "execution_count": 782,
   "id": "602cdfed",
   "metadata": {},
   "outputs": [],
   "source": [
    "promedios = indicadores_todo.groupby([\"Año\",\"Indicador\"]).agg(Suma_Medida=(\"Medida\", \"sum\"), Conteo=(\"Año\",\"count\")).reset_index()\n",
    "promedios[\"Promedio\"] = promedios[\"Suma_Medida\"] / promedios[\"Conteo\"]\n",
    "del promedios[\"Suma_Medida\"]\n",
    "del promedios[\"Conteo\"]"
   ]
  },
  {
   "cell_type": "code",
   "execution_count": 783,
   "id": "de379f14",
   "metadata": {},
   "outputs": [],
   "source": [
    "with pd.ExcelWriter(\"Indicadores_todos_los_años.xlsx\") as writer:\n",
    "    indicadores_todo.to_excel(writer, sheet_name=\"indicadores_todo\",index=False)\n",
    "    promedios.to_excel(writer, sheet_name=\"Promedios\", index=0)"
   ]
  }
 ],
 "metadata": {
  "kernelspec": {
   "display_name": "Python 3 (ipykernel)",
   "language": "python",
   "name": "python3"
  },
  "language_info": {
   "codemirror_mode": {
    "name": "ipython",
    "version": 3
   },
   "file_extension": ".py",
   "mimetype": "text/x-python",
   "name": "python",
   "nbconvert_exporter": "python",
   "pygments_lexer": "ipython3",
   "version": "3.11.9"
  }
 },
 "nbformat": 4,
 "nbformat_minor": 5
}
