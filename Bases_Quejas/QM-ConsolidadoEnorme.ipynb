{
 "cells": [
  {
   "cell_type": "code",
   "execution_count": 72,
   "metadata": {},
   "outputs": [],
   "source": [
    "import pandas as pd "
   ]
  },
  {
   "cell_type": "code",
   "execution_count": 73,
   "metadata": {},
   "outputs": [],
   "source": [
    "ruta1 = 'C:/Users/Rebeca/Documents/SESNA/nuevo código/QM-2023-1Trim.csv'\n",
    "ruta2 = 'C:/Users/Rebeca/Documents/SESNA/nuevo código/QM-2022-4Trim.csv'\n",
    "ruta3 = 'C:/Users/Rebeca/Documents/SESNA/nuevo código/QM-2022-3Trim.csv'\n",
    "ruta4 = 'C:/Users/Rebeca/Documents/SESNA/nuevo código/QM-2022-2Trim.csv'\n",
    "ruta5 = 'C:/Users/Rebeca/Documents/SESNA/nuevo código/QM-2022-1Trim.csv'\n",
    "ruta6 = 'C:/Users/Rebeca/Documents/SESNA/nuevo código/QM-2021-4Trim.csv'"
   ]
  },
  {
   "cell_type": "code",
   "execution_count": 74,
   "metadata": {},
   "outputs": [],
   "source": [
    "import pandas as pd\n",
    "\n",
    "try:\n",
    "    df1 = pd.read_csv(ruta1, encoding='utf-8')\n",
    "except UnicodeDecodeError:\n",
    "    df1 = pd.read_csv(ruta1, encoding='ISO-8859-1') \n",
    "\n",
    "try:\n",
    "    df2 = pd.read_csv(ruta2, encoding='utf-8')\n",
    "except UnicodeDecodeError:\n",
    "    df2 = pd.read_csv(ruta2, encoding='ISO-8859-1')\n",
    "\n",
    "try:\n",
    "    df3 = pd.read_csv(ruta3, encoding='utf-8')\n",
    "except UnicodeDecodeError:\n",
    "    df3 = pd.read_csv(ruta3, encoding='ISO-8859-1')\n",
    "\n",
    "try:\n",
    "    df4 = pd.read_csv(ruta4, encoding='utf-8')\n",
    "except UnicodeDecodeError:\n",
    "    df4 = pd.read_csv(ruta4, encoding='ISO-8859-1')\n",
    "\n",
    "try:\n",
    "    df5 = pd.read_csv(ruta5, encoding='utf-8')\n",
    "except UnicodeDecodeError:\n",
    "    df5 = pd.read_csv(ruta5, encoding='ISO-8859-1')\n",
    "\n",
    "try:\n",
    "    df6 = pd.read_csv(ruta6, encoding='utf-8')\n",
    "except UnicodeDecodeError:\n",
    "    df6 = pd.read_csv(ruta6, encoding='ISO-8859-1')\n"
   ]
  },
  {
   "cell_type": "code",
   "execution_count": 75,
   "metadata": {},
   "outputs": [],
   "source": [
    "df1['periodo'] = '2023-1'\n",
    "df2['periodo'] = '2022-4'\n",
    "df3['periodo'] = '2022-3'\n",
    "df4['periodo'] = '2022-2'\n",
    "df5['periodo'] = '2022-1'\n",
    "df6['periodo'] = '2021-4'"
   ]
  },
  {
   "cell_type": "code",
   "execution_count": 76,
   "metadata": {},
   "outputs": [],
   "source": [
    "df_enorme = pd.concat([df1, df2, df3, df4, df5, df6], ignore_index=True)"
   ]
  },
  {
   "cell_type": "code",
   "execution_count": 77,
   "metadata": {},
   "outputs": [],
   "source": [
    "nuevo_orden = ['periodo', 'Folio', 'Fase', 'Fecha_suceso', 'Fecha_recepcion', 'Fecha_creacion', 'Fecha_vencimiento', 'OOAD', 'Unidad_involucrada', 'Dano_agraviado', 'Area_Normativa', 'Causa', 'Motivo', 'Especialidad', 'Tipo_usuario', 'Cierre_acuerdo', 'Comentarios']  \n",
    "df_enorme = df_enorme[nuevo_orden]"
   ]
  },
  {
   "cell_type": "code",
   "execution_count": 78,
   "metadata": {},
   "outputs": [
    {
     "name": "stdout",
     "output_type": "stream",
     "text": [
      "Se encontraron 4389 folios repetidos:\n",
      "     periodo                Folio    Fase Fecha_suceso Fecha_recepcion  \\\n",
      "432   2022-4  PET-33784380-F6G8P6  Cierre   04/11/2020      25/03/2022   \n",
      "433   2022-4  PET-33786525-G3F7J5  Cierre   26/07/2021      31/12/2021   \n",
      "434   2022-4  PET-33788686-C9Y1J4  Cierre   02/09/2020      31/12/2021   \n",
      "435   2022-4  PET-33789382-K7N1C5  Cierre   27/11/2020      31/12/2021   \n",
      "436   2022-4  PET-33806019-L1J0M2  Cierre   03/01/2022      03/01/2022   \n",
      "...      ...                  ...     ...          ...             ...   \n",
      "5515  2022-1  PET-35620598-B0X7S6  Cierre   30/03/2022      30/03/2022   \n",
      "5516  2022-1  PET-35620748-Q5Q3S1  Cierre   06/09/2020      30/03/2022   \n",
      "5517  2022-1  PET-35620822-J8Q6J4  Cierre   26/08/2021      30/03/2022   \n",
      "5518  2022-1  PET-35621977-P0B0N8  Cierre   28/03/2022      31/03/2022   \n",
      "5519  2022-1  PET-35625392-P7J6V9  Cierre   30/08/2020      30/03/2022   \n",
      "\n",
      "        Fecha_creacion Fecha_vencimiento  \\\n",
      "432         03/01/2022        19/01/2021   \n",
      "433         03/01/2022        04/10/2021   \n",
      "434         03/01/2022        10/11/2020   \n",
      "435         03/01/2022        09/02/2021   \n",
      "436         04/01/2022        14/03/2022   \n",
      "...                ...               ...   \n",
      "5515  31/03/2022 13:54        08/06/2022   \n",
      "5516  31/03/2022 13:59        12/11/2020   \n",
      "5517  31/03/2022 14:00        03/11/2021   \n",
      "5518  31/03/2022 14:33        06/06/2022   \n",
      "5519  31/03/2022 16:24        05/11/2020   \n",
      "\n",
      "                                                   OOAD  \\\n",
      "432                                              Sonora   \n",
      "433                                             Sinaloa   \n",
      "434                 UMAE Trauma y Ortopedia CMN, Puebla   \n",
      "435                                           Querétaro   \n",
      "436                 UMAE Esp. CMN La Raza, México D. F.   \n",
      "...                                                 ...   \n",
      "5515                                          Chihuahua   \n",
      "5516  UMAE Trauma y Ortopedia Magdalena de las Salin...   \n",
      "5517                                         D.F. Norte   \n",
      "5518                                         D.F. Norte   \n",
      "5519                                          Michoacán   \n",
      "\n",
      "                Unidad_involucrada Dano_agraviado  \\\n",
      "432              HGZ 14 Hermosillo   Sin secuelas   \n",
      "433                 HGR 1 Culiacán  Fallecimiento   \n",
      "434                 HTO CMN Puebla   Sin secuelas   \n",
      "435                HGR 1 Querétaro   Sin secuelas   \n",
      "436                HES CMN La Raza   Sin secuelas   \n",
      "...                            ...            ...   \n",
      "5515               HGR 1 Chihuahua  Fallecimiento   \n",
      "5516  HTO Magdalena de las Salinas  Fallecimiento   \n",
      "5517        UMF 94 San Juan Aragón   Sin secuelas   \n",
      "5518            HGZ 24 Insurgentes   Sin secuelas   \n",
      "5519                UMF 81 Uruapan   Con secuelas   \n",
      "\n",
      "                         Area_Normativa  \\\n",
      "432   Dirección de Prestaciones Médicas   \n",
      "433   Dirección de Prestaciones Médicas   \n",
      "434   Dirección de Prestaciones Médicas   \n",
      "435   Dirección de Prestaciones Médicas   \n",
      "436   Dirección de Prestaciones Médicas   \n",
      "...                                 ...   \n",
      "5515  Dirección de Prestaciones Médicas   \n",
      "5516  Dirección de Prestaciones Médicas   \n",
      "5517  Dirección de Prestaciones Médicas   \n",
      "5518  Dirección de Prestaciones Médicas   \n",
      "5519  Dirección de Prestaciones Médicas   \n",
      "\n",
      "                                         Causa                      Motivo  \\\n",
      "432                                   Dilación  Deficiente atención médica   \n",
      "433       SOBREEXPECTATIVA DEL DERECHOHABIENTE        Negativa de atención   \n",
      "434                                Negligencia  Deficiente atención médica   \n",
      "435       SOBREEXPECTATIVA DEL DERECHOHABIENTE  Deficiente atención médica   \n",
      "436        Medidas de seguridad en la atención  Deficiente atención médica   \n",
      "...                                        ...                         ...   \n",
      "5515  Estado de salud a familiares y pacientes  Deficiente atención médica   \n",
      "5516           Error diagnostico o terapéutico  Deficiente atención médica   \n",
      "5517      SOBREEXPECTATIVA DEL DERECHOHABIENTE  Deficiente atención médica   \n",
      "5518                              Medicamentos  Deficiencia administrativa   \n",
      "5519      SOBREEXPECTATIVA DEL DERECHOHABIENTE  Deficiente atención médica   \n",
      "\n",
      "                       Especialidad     Tipo_usuario Cierre_acuerdo  \\\n",
      "432       Traumatología y Ortopedia  Derechohabiente   Improcedente   \n",
      "433   Admisión continua - Urgencias  Derechohabiente   Improcedente   \n",
      "434   Admisión continua - Urgencias  Derechohabiente   Improcedente   \n",
      "435   Admisión continua - Urgencias  Derechohabiente   Improcedente   \n",
      "436                     Hematología  Derechohabiente     Procedente   \n",
      "...                             ...              ...            ...   \n",
      "5515                Cirugía General  Derechohabiente   Improcedente   \n",
      "5516                   Neurocirugía  Derechohabiente   Improcedente   \n",
      "5517              Medicina Familiar  Derechohabiente   Improcedente   \n",
      "5518                     Neurología  Derechohabiente     Procedente   \n",
      "5519  Admisión continua - Urgencias  Derechohabiente   Improcedente   \n",
      "\n",
      "                                            Comentarios  \n",
      "432   El total de quejas recibidas en el periodo ene...  \n",
      "433   El total de quejas recibidas en el periodo ene...  \n",
      "434   El total de quejas recibidas en el periodo ene...  \n",
      "435   El total de quejas recibidas en el periodo ene...  \n",
      "436   El total de quejas recibidas en el periodo ene...  \n",
      "...                                                 ...  \n",
      "5515  El total de quejas recibidas en el periodo ene...  \n",
      "5516  El total de quejas recibidas en el periodo ene...  \n",
      "5517  El total de quejas recibidas en el periodo ene...  \n",
      "5518  El total de quejas recibidas en el periodo ene...  \n",
      "5519  El total de quejas recibidas en el periodo ene...  \n",
      "\n",
      "[4389 rows x 17 columns]\n"
     ]
    }
   ],
   "source": [
    "foliosR = df_enorme[df_enorme.duplicated(subset=['Folio'], keep=False)]\n",
    "\n",
    "if not foliosR.empty:\n",
    "    print(\"Se encontraron\", len(foliosR), \"folios repetidos:\")\n",
    "    print(foliosR)\n",
    "else:\n",
    "    print(\"No se encontraron folios repetidos.\")\n",
    "\n",
    "df_enorme = df_enorme.drop_duplicates(subset=['Folio'])"
   ]
  },
  {
   "cell_type": "code",
   "execution_count": 79,
   "metadata": {},
   "outputs": [],
   "source": [
    "ruta7 = \"C:/Users/Rebeca/Documents/SESNA/nuevo código/clues.xlsx\"\n",
    "df7 = pd.read_excel(ruta7)"
   ]
  },
  {
   "cell_type": "code",
   "execution_count": 80,
   "metadata": {},
   "outputs": [
    {
     "name": "stdout",
     "output_type": "stream",
     "text": [
      "Index(['CLUES', 'Unidad_involucrada', 'LATITUD_C', 'LONGITUD_C', 'Ubicación'], dtype='object')\n"
     ]
    }
   ],
   "source": [
    "print(df7.columns)\n"
   ]
  },
  {
   "cell_type": "code",
   "execution_count": 81,
   "metadata": {},
   "outputs": [],
   "source": [
    "# Filtrar los valores de 'Unidad_involucrada' que tienen una correspondencia en el diccionario mapeo\n",
    "valores_validos = df_enorme['Unidad_involucrada'].isin(mapeo.keys())\n",
    "\n",
    "# Aplicar el mapeo solo a los valores válidos\n",
    "df_enorme.loc[valores_validos, 'CLUES'] = df_enorme[valores_validos]['Unidad_involucrada'].map(lambda x: mapeo[x]['CLUES'])\n",
    "df_enorme.loc[valores_validos, 'LATITUD_C'] = df_enorme[valores_validos]['Unidad_involucrada'].map(lambda x: mapeo[x]['LATITUD_C'])\n",
    "df_enorme.loc[valores_validos, 'LONGITUD_C'] = df_enorme[valores_validos]['Unidad_involucrada'].map(lambda x: mapeo[x]['LONGITUD_C'])\n"
   ]
  },
  {
   "cell_type": "code",
   "execution_count": 82,
   "metadata": {},
   "outputs": [
    {
     "name": "stdout",
     "output_type": "stream",
     "text": [
      "Index(['periodo', 'Folio', 'Fase', 'Fecha_suceso', 'Fecha_recepcion',\n",
      "       'Fecha_creacion', 'Fecha_vencimiento', 'OOAD', 'Unidad_involucrada',\n",
      "       'Dano_agraviado', 'Area_Normativa', 'Causa', 'Motivo', 'Especialidad',\n",
      "       'Tipo_usuario', 'Cierre_acuerdo', 'Comentarios', 'CLUES', 'LATITUD_C',\n",
      "       'LONGITUD_C'],\n",
      "      dtype='object')\n"
     ]
    }
   ],
   "source": [
    "print(df_enorme.columns)"
   ]
  },
  {
   "cell_type": "code",
   "execution_count": 83,
   "metadata": {},
   "outputs": [],
   "source": [
    "AcomodarCol = ['periodo', 'Folio', 'Fase', 'Fecha_suceso', 'Fecha_recepcion', 'Fecha_creacion', 'Fecha_vencimiento', 'OOAD', 'CLUES', 'Unidad_involucrada', 'Dano_agraviado', 'Area_Normativa', 'Causa', 'Motivo', 'Especialidad', 'Tipo_usuario', 'Cierre_acuerdo', 'Comentarios', 'LATITUD_C',\n",
    "       'LONGITUD_C'] \n",
    "df_enorme = df_enorme[AcomodarCol]"
   ]
  },
  {
   "cell_type": "code",
   "execution_count": 84,
   "metadata": {},
   "outputs": [],
   "source": [
    "ruta_archivo = 'C:/Users/Rebeca/Documents/SESNA/QM-ConsolidadoEnorme.csv'\n",
    "df_enorme.to_csv(ruta_archivo, index=False, encoding='utf-8')"
   ]
  },
  {
   "cell_type": "code",
   "execution_count": null,
   "metadata": {},
   "outputs": [],
   "source": []
  }
 ],
 "metadata": {
  "kernelspec": {
   "display_name": "base",
   "language": "python",
   "name": "python3"
  },
  "language_info": {
   "codemirror_mode": {
    "name": "ipython",
    "version": 3
   },
   "file_extension": ".py",
   "mimetype": "text/x-python",
   "name": "python",
   "nbconvert_exporter": "python",
   "pygments_lexer": "ipython3",
   "version": "3.10.9"
  }
 },
 "nbformat": 4,
 "nbformat_minor": 2
}
